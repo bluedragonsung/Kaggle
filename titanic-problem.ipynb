{
 "cells": [
  {
   "cell_type": "code",
   "execution_count": 1,
   "id": "fa044ba5",
   "metadata": {
    "_cell_guid": "b1076dfc-b9ad-4769-8c92-a6c4dae69d19",
    "_uuid": "8f2839f25d086af736a60e9eeb907d3b93b6e0e5",
    "execution": {
     "iopub.execute_input": "2022-08-11T14:20:49.137204Z",
     "iopub.status.busy": "2022-08-11T14:20:49.136597Z",
     "iopub.status.idle": "2022-08-11T14:20:49.157263Z",
     "shell.execute_reply": "2022-08-11T14:20:49.156511Z"
    },
    "papermill": {
     "duration": 0.056305,
     "end_time": "2022-08-11T14:20:49.159917",
     "exception": false,
     "start_time": "2022-08-11T14:20:49.103612",
     "status": "completed"
    },
    "tags": []
   },
   "outputs": [
    {
     "name": "stdout",
     "output_type": "stream",
     "text": [
      "/kaggle/input/titanic/train.csv\n",
      "/kaggle/input/titanic/test.csv\n",
      "/kaggle/input/titanic/gender_submission.csv\n"
     ]
    }
   ],
   "source": [
    "# This Python 3 environment comes with many helpful analytics libraries installed\n",
    "# It is defined by the kaggle/python Docker image: https://github.com/kaggle/docker-python\n",
    "# For example, here's several helpful packages to load\n",
    "\n",
    "import numpy as np # linear algebra\n",
    "import pandas as pd # data processing, CSV file I/O (e.g. pd.read_csv)\n",
    "\n",
    "# Input data files are available in the read-only \"../input/\" directory\n",
    "# For example, running this (by clicking run or pressing Shift+Enter) will list all files under the input directory\n",
    "\n",
    "import os\n",
    "for dirname, _, filenames in os.walk('/kaggle/input'):\n",
    "    for filename in filenames:\n",
    "        print(os.path.join(dirname, filename))\n",
    "\n",
    "# You can write up to 20GB to the current directory (/kaggle/working/) that gets preserved as output when you create a version using \"Save & Run All\" \n",
    "# You can also write temporary files to /kaggle/temp/, but they won't be saved outside of the current session"
   ]
  },
  {
   "cell_type": "markdown",
   "id": "f3268ab2",
   "metadata": {
    "papermill": {
     "duration": 0.026343,
     "end_time": "2022-08-11T14:20:49.214278",
     "exception": false,
     "start_time": "2022-08-11T14:20:49.187935",
     "status": "completed"
    },
    "tags": []
   },
   "source": [
    "#### 훈련세트와 테스트세트 CSV파일을 pandas로 읽어와 dataframe 만들기"
   ]
  },
  {
   "cell_type": "code",
   "execution_count": 2,
   "id": "ffefa930",
   "metadata": {
    "execution": {
     "iopub.execute_input": "2022-08-11T14:20:49.269943Z",
     "iopub.status.busy": "2022-08-11T14:20:49.269551Z",
     "iopub.status.idle": "2022-08-11T14:20:49.307798Z",
     "shell.execute_reply": "2022-08-11T14:20:49.306494Z"
    },
    "papermill": {
     "duration": 0.069453,
     "end_time": "2022-08-11T14:20:49.310475",
     "exception": false,
     "start_time": "2022-08-11T14:20:49.241022",
     "status": "completed"
    },
    "tags": []
   },
   "outputs": [
    {
     "data": {
      "text/html": [
       "<div>\n",
       "<style scoped>\n",
       "    .dataframe tbody tr th:only-of-type {\n",
       "        vertical-align: middle;\n",
       "    }\n",
       "\n",
       "    .dataframe tbody tr th {\n",
       "        vertical-align: top;\n",
       "    }\n",
       "\n",
       "    .dataframe thead th {\n",
       "        text-align: right;\n",
       "    }\n",
       "</style>\n",
       "<table border=\"1\" class=\"dataframe\">\n",
       "  <thead>\n",
       "    <tr style=\"text-align: right;\">\n",
       "      <th></th>\n",
       "      <th>PassengerId</th>\n",
       "      <th>Survived</th>\n",
       "      <th>Pclass</th>\n",
       "      <th>Name</th>\n",
       "      <th>Sex</th>\n",
       "      <th>Age</th>\n",
       "      <th>SibSp</th>\n",
       "      <th>Parch</th>\n",
       "      <th>Ticket</th>\n",
       "      <th>Fare</th>\n",
       "      <th>Cabin</th>\n",
       "      <th>Embarked</th>\n",
       "    </tr>\n",
       "  </thead>\n",
       "  <tbody>\n",
       "    <tr>\n",
       "      <th>0</th>\n",
       "      <td>1</td>\n",
       "      <td>0</td>\n",
       "      <td>3</td>\n",
       "      <td>Braund, Mr. Owen Harris</td>\n",
       "      <td>male</td>\n",
       "      <td>22.0</td>\n",
       "      <td>1</td>\n",
       "      <td>0</td>\n",
       "      <td>A/5 21171</td>\n",
       "      <td>7.2500</td>\n",
       "      <td>NaN</td>\n",
       "      <td>S</td>\n",
       "    </tr>\n",
       "    <tr>\n",
       "      <th>1</th>\n",
       "      <td>2</td>\n",
       "      <td>1</td>\n",
       "      <td>1</td>\n",
       "      <td>Cumings, Mrs. John Bradley (Florence Briggs Th...</td>\n",
       "      <td>female</td>\n",
       "      <td>38.0</td>\n",
       "      <td>1</td>\n",
       "      <td>0</td>\n",
       "      <td>PC 17599</td>\n",
       "      <td>71.2833</td>\n",
       "      <td>C85</td>\n",
       "      <td>C</td>\n",
       "    </tr>\n",
       "    <tr>\n",
       "      <th>2</th>\n",
       "      <td>3</td>\n",
       "      <td>1</td>\n",
       "      <td>3</td>\n",
       "      <td>Heikkinen, Miss. Laina</td>\n",
       "      <td>female</td>\n",
       "      <td>26.0</td>\n",
       "      <td>0</td>\n",
       "      <td>0</td>\n",
       "      <td>STON/O2. 3101282</td>\n",
       "      <td>7.9250</td>\n",
       "      <td>NaN</td>\n",
       "      <td>S</td>\n",
       "    </tr>\n",
       "    <tr>\n",
       "      <th>3</th>\n",
       "      <td>4</td>\n",
       "      <td>1</td>\n",
       "      <td>1</td>\n",
       "      <td>Futrelle, Mrs. Jacques Heath (Lily May Peel)</td>\n",
       "      <td>female</td>\n",
       "      <td>35.0</td>\n",
       "      <td>1</td>\n",
       "      <td>0</td>\n",
       "      <td>113803</td>\n",
       "      <td>53.1000</td>\n",
       "      <td>C123</td>\n",
       "      <td>S</td>\n",
       "    </tr>\n",
       "    <tr>\n",
       "      <th>4</th>\n",
       "      <td>5</td>\n",
       "      <td>0</td>\n",
       "      <td>3</td>\n",
       "      <td>Allen, Mr. William Henry</td>\n",
       "      <td>male</td>\n",
       "      <td>35.0</td>\n",
       "      <td>0</td>\n",
       "      <td>0</td>\n",
       "      <td>373450</td>\n",
       "      <td>8.0500</td>\n",
       "      <td>NaN</td>\n",
       "      <td>S</td>\n",
       "    </tr>\n",
       "  </tbody>\n",
       "</table>\n",
       "</div>"
      ],
      "text/plain": [
       "   PassengerId  Survived  Pclass  \\\n",
       "0            1         0       3   \n",
       "1            2         1       1   \n",
       "2            3         1       3   \n",
       "3            4         1       1   \n",
       "4            5         0       3   \n",
       "\n",
       "                                                Name     Sex   Age  SibSp  \\\n",
       "0                            Braund, Mr. Owen Harris    male  22.0      1   \n",
       "1  Cumings, Mrs. John Bradley (Florence Briggs Th...  female  38.0      1   \n",
       "2                             Heikkinen, Miss. Laina  female  26.0      0   \n",
       "3       Futrelle, Mrs. Jacques Heath (Lily May Peel)  female  35.0      1   \n",
       "4                           Allen, Mr. William Henry    male  35.0      0   \n",
       "\n",
       "   Parch            Ticket     Fare Cabin Embarked  \n",
       "0      0         A/5 21171   7.2500   NaN        S  \n",
       "1      0          PC 17599  71.2833   C85        C  \n",
       "2      0  STON/O2. 3101282   7.9250   NaN        S  \n",
       "3      0            113803  53.1000  C123        S  \n",
       "4      0            373450   8.0500   NaN        S  "
      ]
     },
     "execution_count": 2,
     "metadata": {},
     "output_type": "execute_result"
    }
   ],
   "source": [
    "# /kaggle/input/titanic/train.csv\n",
    "# /kaggle/input/titanic/test.csv\n",
    "# /kaggle/input/titanic/gender_submission.csv\n",
    "\n",
    "train = pd.read_csv(\"/kaggle/input/titanic/train.csv\")\n",
    "train.head()"
   ]
  },
  {
   "cell_type": "code",
   "execution_count": 3,
   "id": "59f92136",
   "metadata": {
    "execution": {
     "iopub.execute_input": "2022-08-11T14:20:49.368071Z",
     "iopub.status.busy": "2022-08-11T14:20:49.367324Z",
     "iopub.status.idle": "2022-08-11T14:20:49.389326Z",
     "shell.execute_reply": "2022-08-11T14:20:49.388438Z"
    },
    "papermill": {
     "duration": 0.053283,
     "end_time": "2022-08-11T14:20:49.391481",
     "exception": false,
     "start_time": "2022-08-11T14:20:49.338198",
     "status": "completed"
    },
    "tags": []
   },
   "outputs": [
    {
     "data": {
      "text/html": [
       "<div>\n",
       "<style scoped>\n",
       "    .dataframe tbody tr th:only-of-type {\n",
       "        vertical-align: middle;\n",
       "    }\n",
       "\n",
       "    .dataframe tbody tr th {\n",
       "        vertical-align: top;\n",
       "    }\n",
       "\n",
       "    .dataframe thead th {\n",
       "        text-align: right;\n",
       "    }\n",
       "</style>\n",
       "<table border=\"1\" class=\"dataframe\">\n",
       "  <thead>\n",
       "    <tr style=\"text-align: right;\">\n",
       "      <th></th>\n",
       "      <th>PassengerId</th>\n",
       "      <th>Pclass</th>\n",
       "      <th>Name</th>\n",
       "      <th>Sex</th>\n",
       "      <th>Age</th>\n",
       "      <th>SibSp</th>\n",
       "      <th>Parch</th>\n",
       "      <th>Ticket</th>\n",
       "      <th>Fare</th>\n",
       "      <th>Cabin</th>\n",
       "      <th>Embarked</th>\n",
       "    </tr>\n",
       "  </thead>\n",
       "  <tbody>\n",
       "    <tr>\n",
       "      <th>0</th>\n",
       "      <td>892</td>\n",
       "      <td>3</td>\n",
       "      <td>Kelly, Mr. James</td>\n",
       "      <td>male</td>\n",
       "      <td>34.5</td>\n",
       "      <td>0</td>\n",
       "      <td>0</td>\n",
       "      <td>330911</td>\n",
       "      <td>7.8292</td>\n",
       "      <td>NaN</td>\n",
       "      <td>Q</td>\n",
       "    </tr>\n",
       "    <tr>\n",
       "      <th>1</th>\n",
       "      <td>893</td>\n",
       "      <td>3</td>\n",
       "      <td>Wilkes, Mrs. James (Ellen Needs)</td>\n",
       "      <td>female</td>\n",
       "      <td>47.0</td>\n",
       "      <td>1</td>\n",
       "      <td>0</td>\n",
       "      <td>363272</td>\n",
       "      <td>7.0000</td>\n",
       "      <td>NaN</td>\n",
       "      <td>S</td>\n",
       "    </tr>\n",
       "    <tr>\n",
       "      <th>2</th>\n",
       "      <td>894</td>\n",
       "      <td>2</td>\n",
       "      <td>Myles, Mr. Thomas Francis</td>\n",
       "      <td>male</td>\n",
       "      <td>62.0</td>\n",
       "      <td>0</td>\n",
       "      <td>0</td>\n",
       "      <td>240276</td>\n",
       "      <td>9.6875</td>\n",
       "      <td>NaN</td>\n",
       "      <td>Q</td>\n",
       "    </tr>\n",
       "    <tr>\n",
       "      <th>3</th>\n",
       "      <td>895</td>\n",
       "      <td>3</td>\n",
       "      <td>Wirz, Mr. Albert</td>\n",
       "      <td>male</td>\n",
       "      <td>27.0</td>\n",
       "      <td>0</td>\n",
       "      <td>0</td>\n",
       "      <td>315154</td>\n",
       "      <td>8.6625</td>\n",
       "      <td>NaN</td>\n",
       "      <td>S</td>\n",
       "    </tr>\n",
       "    <tr>\n",
       "      <th>4</th>\n",
       "      <td>896</td>\n",
       "      <td>3</td>\n",
       "      <td>Hirvonen, Mrs. Alexander (Helga E Lindqvist)</td>\n",
       "      <td>female</td>\n",
       "      <td>22.0</td>\n",
       "      <td>1</td>\n",
       "      <td>1</td>\n",
       "      <td>3101298</td>\n",
       "      <td>12.2875</td>\n",
       "      <td>NaN</td>\n",
       "      <td>S</td>\n",
       "    </tr>\n",
       "  </tbody>\n",
       "</table>\n",
       "</div>"
      ],
      "text/plain": [
       "   PassengerId  Pclass                                          Name     Sex  \\\n",
       "0          892       3                              Kelly, Mr. James    male   \n",
       "1          893       3              Wilkes, Mrs. James (Ellen Needs)  female   \n",
       "2          894       2                     Myles, Mr. Thomas Francis    male   \n",
       "3          895       3                              Wirz, Mr. Albert    male   \n",
       "4          896       3  Hirvonen, Mrs. Alexander (Helga E Lindqvist)  female   \n",
       "\n",
       "    Age  SibSp  Parch   Ticket     Fare Cabin Embarked  \n",
       "0  34.5      0      0   330911   7.8292   NaN        Q  \n",
       "1  47.0      1      0   363272   7.0000   NaN        S  \n",
       "2  62.0      0      0   240276   9.6875   NaN        Q  \n",
       "3  27.0      0      0   315154   8.6625   NaN        S  \n",
       "4  22.0      1      1  3101298  12.2875   NaN        S  "
      ]
     },
     "execution_count": 3,
     "metadata": {},
     "output_type": "execute_result"
    }
   ],
   "source": [
    "test = pd.read_csv(\"/kaggle/input/titanic/test.csv\")\n",
    "test.head()"
   ]
  },
  {
   "cell_type": "markdown",
   "id": "aab77d32",
   "metadata": {
    "papermill": {
     "duration": 0.027341,
     "end_time": "2022-08-11T14:20:49.446288",
     "exception": false,
     "start_time": "2022-08-11T14:20:49.418947",
     "status": "completed"
    },
    "tags": []
   },
   "source": [
    "### **Data Analysis**"
   ]
  },
  {
   "cell_type": "markdown",
   "id": "02086cce",
   "metadata": {
    "papermill": {
     "duration": 0.027938,
     "end_time": "2022-08-11T14:20:49.501495",
     "exception": false,
     "start_time": "2022-08-11T14:20:49.473557",
     "status": "completed"
    },
    "tags": []
   },
   "source": [
    "#### feature에 따른 생존여부를 막대그래프로 시각화하는 함수를 구현해보자."
   ]
  },
  {
   "cell_type": "code",
   "execution_count": 4,
   "id": "d13e7e1b",
   "metadata": {
    "execution": {
     "iopub.execute_input": "2022-08-11T14:20:49.557727Z",
     "iopub.status.busy": "2022-08-11T14:20:49.557307Z",
     "iopub.status.idle": "2022-08-11T14:20:49.564925Z",
     "shell.execute_reply": "2022-08-11T14:20:49.563852Z"
    },
    "papermill": {
     "duration": 0.03826,
     "end_time": "2022-08-11T14:20:49.567002",
     "exception": false,
     "start_time": "2022-08-11T14:20:49.528742",
     "status": "completed"
    },
    "tags": []
   },
   "outputs": [],
   "source": [
    "import matplotlib.pyplot as plt\n",
    "\n",
    "def bar_chart(feature):\n",
    "    survived = train[train['Survived']==1][feature].value_counts()\n",
    "    dead = train[train['Survived']==0][feature].value_counts()\n",
    "    df = pd.DataFrame([survived, dead])\n",
    "    df.index = ['Survived', 'Dead']\n",
    "    df.plot(kind='bar', stacked=True, figsize=(10,5))    "
   ]
  },
  {
   "cell_type": "markdown",
   "id": "11282124",
   "metadata": {
    "papermill": {
     "duration": 0.028036,
     "end_time": "2022-08-11T14:20:49.622641",
     "exception": false,
     "start_time": "2022-08-11T14:20:49.594605",
     "status": "completed"
    },
    "tags": []
   },
   "source": [
    "#### **feature1: Sex (성별)**"
   ]
  },
  {
   "cell_type": "code",
   "execution_count": 5,
   "id": "40004d0e",
   "metadata": {
    "execution": {
     "iopub.execute_input": "2022-08-11T14:20:49.678785Z",
     "iopub.status.busy": "2022-08-11T14:20:49.678381Z",
     "iopub.status.idle": "2022-08-11T14:20:49.937680Z",
     "shell.execute_reply": "2022-08-11T14:20:49.936606Z"
    },
    "papermill": {
     "duration": 0.290409,
     "end_time": "2022-08-11T14:20:49.940146",
     "exception": false,
     "start_time": "2022-08-11T14:20:49.649737",
     "status": "completed"
    },
    "tags": []
   },
   "outputs": [
    {
     "data": {
      "image/png": "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\n",
      "text/plain": [
       "<Figure size 720x360 with 1 Axes>"
      ]
     },
     "metadata": {
      "needs_background": "light"
     },
     "output_type": "display_data"
    }
   ],
   "source": [
    "bar_chart('Sex')"
   ]
  },
  {
   "cell_type": "markdown",
   "id": "83733360",
   "metadata": {
    "papermill": {
     "duration": 0.027545,
     "end_time": "2022-08-11T14:20:49.995792",
     "exception": false,
     "start_time": "2022-08-11T14:20:49.968247",
     "status": "completed"
    },
    "tags": []
   },
   "source": [
    "- #### 남성의 사망비율이 여성의 사망비율보다 압도적으로 높다는 것을 확인할 수 있다."
   ]
  },
  {
   "cell_type": "markdown",
   "id": "72b498a6",
   "metadata": {
    "papermill": {
     "duration": 0.027631,
     "end_time": "2022-08-11T14:20:50.051067",
     "exception": false,
     "start_time": "2022-08-11T14:20:50.023436",
     "status": "completed"
    },
    "tags": []
   },
   "source": [
    "#### **feature2: Pclass (객실 등급)**"
   ]
  },
  {
   "cell_type": "code",
   "execution_count": 6,
   "id": "d743b3ca",
   "metadata": {
    "execution": {
     "iopub.execute_input": "2022-08-11T14:20:50.108089Z",
     "iopub.status.busy": "2022-08-11T14:20:50.107715Z",
     "iopub.status.idle": "2022-08-11T14:20:50.327564Z",
     "shell.execute_reply": "2022-08-11T14:20:50.326010Z"
    },
    "papermill": {
     "duration": 0.254331,
     "end_time": "2022-08-11T14:20:50.332842",
     "exception": false,
     "start_time": "2022-08-11T14:20:50.078511",
     "status": "completed"
    },
    "tags": []
   },
   "outputs": [
    {
     "data": {
      "image/png": "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\n",
      "text/plain": [
       "<Figure size 720x360 with 1 Axes>"
      ]
     },
     "metadata": {
      "needs_background": "light"
     },
     "output_type": "display_data"
    }
   ],
   "source": [
    "bar_chart('Pclass')"
   ]
  },
  {
   "cell_type": "markdown",
   "id": "0d57eb52",
   "metadata": {
    "papermill": {
     "duration": 0.027721,
     "end_time": "2022-08-11T14:20:50.388959",
     "exception": false,
     "start_time": "2022-08-11T14:20:50.361238",
     "status": "completed"
    },
    "tags": []
   },
   "source": [
    "- #### 객실 등급이 낮을수록 사망비율이 높아지는 것을 확인할 수 있다."
   ]
  },
  {
   "cell_type": "markdown",
   "id": "5e07a9e8",
   "metadata": {
    "papermill": {
     "duration": 0.028274,
     "end_time": "2022-08-11T14:20:50.444863",
     "exception": false,
     "start_time": "2022-08-11T14:20:50.416589",
     "status": "completed"
    },
    "tags": []
   },
   "source": [
    "#### **feature3: SibSp (형제자매/배우자)**"
   ]
  },
  {
   "cell_type": "code",
   "execution_count": 7,
   "id": "794db7fb",
   "metadata": {
    "execution": {
     "iopub.execute_input": "2022-08-11T14:20:50.504555Z",
     "iopub.status.busy": "2022-08-11T14:20:50.504106Z",
     "iopub.status.idle": "2022-08-11T14:20:50.759752Z",
     "shell.execute_reply": "2022-08-11T14:20:50.758562Z"
    },
    "papermill": {
     "duration": 0.288535,
     "end_time": "2022-08-11T14:20:50.762728",
     "exception": false,
     "start_time": "2022-08-11T14:20:50.474193",
     "status": "completed"
    },
    "tags": []
   },
   "outputs": [
    {
     "data": {
      "image/png": "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\n",
      "text/plain": [
       "<Figure size 720x360 with 1 Axes>"
      ]
     },
     "metadata": {
      "needs_background": "light"
     },
     "output_type": "display_data"
    }
   ],
   "source": [
    "bar_chart('SibSp')"
   ]
  },
  {
   "cell_type": "markdown",
   "id": "e1bb5523",
   "metadata": {
    "papermill": {
     "duration": 0.02833,
     "end_time": "2022-08-11T14:20:50.827530",
     "exception": false,
     "start_time": "2022-08-11T14:20:50.799200",
     "status": "completed"
    },
    "tags": []
   },
   "source": [
    "- #### 형제자매 또는 배우자와 함께 탑승한 경우, 혼자 탑승했을 때보다 살 확률이 높았다. "
   ]
  },
  {
   "cell_type": "markdown",
   "id": "f6513616",
   "metadata": {
    "papermill": {
     "duration": 0.027793,
     "end_time": "2022-08-11T14:20:50.883432",
     "exception": false,
     "start_time": "2022-08-11T14:20:50.855639",
     "status": "completed"
    },
    "tags": []
   },
   "source": [
    "#### **feature4: Parch (부모/자식)**"
   ]
  },
  {
   "cell_type": "code",
   "execution_count": 8,
   "id": "a2e13d7e",
   "metadata": {
    "execution": {
     "iopub.execute_input": "2022-08-11T14:20:50.940857Z",
     "iopub.status.busy": "2022-08-11T14:20:50.940458Z",
     "iopub.status.idle": "2022-08-11T14:20:51.187536Z",
     "shell.execute_reply": "2022-08-11T14:20:51.186117Z"
    },
    "papermill": {
     "duration": 0.279255,
     "end_time": "2022-08-11T14:20:51.190550",
     "exception": false,
     "start_time": "2022-08-11T14:20:50.911295",
     "status": "completed"
    },
    "tags": []
   },
   "outputs": [
    {
     "data": {
      "image/png": "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\n",
      "text/plain": [
       "<Figure size 720x360 with 1 Axes>"
      ]
     },
     "metadata": {
      "needs_background": "light"
     },
     "output_type": "display_data"
    }
   ],
   "source": [
    "bar_chart('Parch')"
   ]
  },
  {
   "cell_type": "markdown",
   "id": "c45cd66c",
   "metadata": {
    "papermill": {
     "duration": 0.039236,
     "end_time": "2022-08-11T14:20:51.271674",
     "exception": false,
     "start_time": "2022-08-11T14:20:51.232438",
     "status": "completed"
    },
    "tags": []
   },
   "source": [
    "- #### 부모 또는 자식과 함께 탑승한 경우, 혼자 탑승했을 때보다 살 확률이 높았다."
   ]
  },
  {
   "cell_type": "markdown",
   "id": "b83c5f3c",
   "metadata": {
    "papermill": {
     "duration": 0.0277,
     "end_time": "2022-08-11T14:20:51.327211",
     "exception": false,
     "start_time": "2022-08-11T14:20:51.299511",
     "status": "completed"
    },
    "tags": []
   },
   "source": [
    "#### **feature5: Embarked (탑승 항구)**"
   ]
  },
  {
   "cell_type": "code",
   "execution_count": 9,
   "id": "88583153",
   "metadata": {
    "execution": {
     "iopub.execute_input": "2022-08-11T14:20:51.385208Z",
     "iopub.status.busy": "2022-08-11T14:20:51.384772Z",
     "iopub.status.idle": "2022-08-11T14:20:51.595058Z",
     "shell.execute_reply": "2022-08-11T14:20:51.593802Z"
    },
    "papermill": {
     "duration": 0.24206,
     "end_time": "2022-08-11T14:20:51.597487",
     "exception": false,
     "start_time": "2022-08-11T14:20:51.355427",
     "status": "completed"
    },
    "tags": []
   },
   "outputs": [
    {
     "data": {
      "image/png": "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\n",
      "text/plain": [
       "<Figure size 720x360 with 1 Axes>"
      ]
     },
     "metadata": {
      "needs_background": "light"
     },
     "output_type": "display_data"
    }
   ],
   "source": [
    "bar_chart('Embarked')"
   ]
  },
  {
   "cell_type": "markdown",
   "id": "7bc118a8",
   "metadata": {
    "papermill": {
     "duration": 0.028351,
     "end_time": "2022-08-11T14:20:51.654696",
     "exception": false,
     "start_time": "2022-08-11T14:20:51.626345",
     "status": "completed"
    },
    "tags": []
   },
   "source": [
    "- #### 탑승항구가 S 또는 Q 였을 경우 사망확률이 높았다.\n",
    "- #### 탑승항구가 C 였을 경우 생존확률이 높았다."
   ]
  },
  {
   "cell_type": "markdown",
   "id": "f39d3bcd",
   "metadata": {
    "papermill": {
     "duration": 0.029377,
     "end_time": "2022-08-11T14:20:51.713673",
     "exception": false,
     "start_time": "2022-08-11T14:20:51.684296",
     "status": "completed"
    },
    "tags": []
   },
   "source": [
    "### **Feature Engineering**"
   ]
  },
  {
   "cell_type": "markdown",
   "id": "e2bed811",
   "metadata": {
    "papermill": {
     "duration": 0.028482,
     "end_time": "2022-08-11T14:20:51.771571",
     "exception": false,
     "start_time": "2022-08-11T14:20:51.743089",
     "status": "completed"
    },
    "tags": []
   },
   "source": [
    "#### **문자로 이루어진 데이터는 추후 모델링을 위해 수치로 변환해주고,**\n",
    "#### **결측치가 있다면 통계학적인 방법으로 채워넣자.**"
   ]
  },
  {
   "cell_type": "markdown",
   "id": "b4a662f6",
   "metadata": {
    "papermill": {
     "duration": 0.028508,
     "end_time": "2022-08-11T14:20:51.828993",
     "exception": false,
     "start_time": "2022-08-11T14:20:51.800485",
     "status": "completed"
    },
    "tags": []
   },
   "source": [
    "#### **feature6: Name (이름)**"
   ]
  },
  {
   "cell_type": "markdown",
   "id": "b6010d6a",
   "metadata": {
    "papermill": {
     "duration": 0.028101,
     "end_time": "2022-08-11T14:20:51.885491",
     "exception": false,
     "start_time": "2022-08-11T14:20:51.857390",
     "status": "completed"
    },
    "tags": []
   },
   "source": [
    "- #### 이름 자체보다는 이름 앞에 붙는 '호칭'이 중요한 정보가 될 수 있다. \n",
    "- #### train세트와 test세트에 들어있는 호칭만 추출하여 'Title'이란 데이터세트로 만들어 보자."
   ]
  },
  {
   "cell_type": "code",
   "execution_count": 10,
   "id": "f15659db",
   "metadata": {
    "execution": {
     "iopub.execute_input": "2022-08-11T14:20:51.944605Z",
     "iopub.status.busy": "2022-08-11T14:20:51.943478Z",
     "iopub.status.idle": "2022-08-11T14:20:51.952576Z",
     "shell.execute_reply": "2022-08-11T14:20:51.951770Z"
    },
    "papermill": {
     "duration": 0.040672,
     "end_time": "2022-08-11T14:20:51.954574",
     "exception": false,
     "start_time": "2022-08-11T14:20:51.913902",
     "status": "completed"
    },
    "tags": []
   },
   "outputs": [],
   "source": [
    "train_test_data = [train, test] #훈련세트와 테스트세트의 결합 \n",
    "\n",
    "for dataset in train_test_data:\n",
    "    dataset['Title'] = dataset['Name'].str.extract(' ([A-Za-z]+)\\.', expand=False)\n",
    "    \n",
    "#띄어쓰기로 시작해 모든 알파벳이 포함된 문자열을 한 번이상 반복하다가 dot(.)으로 마무리하는 문자열 추출 \n",
    "#Mr,Miss 등 영어 호칭이 추출된다."
   ]
  },
  {
   "cell_type": "code",
   "execution_count": 11,
   "id": "2eee7baa",
   "metadata": {
    "execution": {
     "iopub.execute_input": "2022-08-11T14:20:52.014472Z",
     "iopub.status.busy": "2022-08-11T14:20:52.013769Z",
     "iopub.status.idle": "2022-08-11T14:20:52.021917Z",
     "shell.execute_reply": "2022-08-11T14:20:52.020849Z"
    },
    "papermill": {
     "duration": 0.040504,
     "end_time": "2022-08-11T14:20:52.024035",
     "exception": false,
     "start_time": "2022-08-11T14:20:51.983531",
     "status": "completed"
    },
    "tags": []
   },
   "outputs": [
    {
     "data": {
      "text/plain": [
       "Mr          517\n",
       "Miss        182\n",
       "Mrs         125\n",
       "Master       40\n",
       "Dr            7\n",
       "Rev           6\n",
       "Mlle          2\n",
       "Major         2\n",
       "Col           2\n",
       "Countess      1\n",
       "Capt          1\n",
       "Ms            1\n",
       "Sir           1\n",
       "Lady          1\n",
       "Mme           1\n",
       "Don           1\n",
       "Jonkheer      1\n",
       "Name: Title, dtype: int64"
      ]
     },
     "execution_count": 11,
     "metadata": {},
     "output_type": "execute_result"
    }
   ],
   "source": [
    "train['Title'].value_counts()"
   ]
  },
  {
   "cell_type": "code",
   "execution_count": 12,
   "id": "e5f858a8",
   "metadata": {
    "execution": {
     "iopub.execute_input": "2022-08-11T14:20:52.083517Z",
     "iopub.status.busy": "2022-08-11T14:20:52.082816Z",
     "iopub.status.idle": "2022-08-11T14:20:52.090262Z",
     "shell.execute_reply": "2022-08-11T14:20:52.089519Z"
    },
    "papermill": {
     "duration": 0.039381,
     "end_time": "2022-08-11T14:20:52.092238",
     "exception": false,
     "start_time": "2022-08-11T14:20:52.052857",
     "status": "completed"
    },
    "tags": []
   },
   "outputs": [
    {
     "data": {
      "text/plain": [
       "Mr        240\n",
       "Miss       78\n",
       "Mrs        72\n",
       "Master     21\n",
       "Col         2\n",
       "Rev         2\n",
       "Ms          1\n",
       "Dr          1\n",
       "Dona        1\n",
       "Name: Title, dtype: int64"
      ]
     },
     "execution_count": 12,
     "metadata": {},
     "output_type": "execute_result"
    }
   ],
   "source": [
    "test['Title'].value_counts()"
   ]
  },
  {
   "cell_type": "markdown",
   "id": "a68ab621",
   "metadata": {
    "papermill": {
     "duration": 0.028144,
     "end_time": "2022-08-11T14:20:52.149257",
     "exception": false,
     "start_time": "2022-08-11T14:20:52.121113",
     "status": "completed"
    },
    "tags": []
   },
   "source": [
    "- #### 호칭이 생각보다 많고 다양하다 \n",
    "- #### 가장 빈도가 많은 Mr, Miss, Mrs, Master 만 구분하고 나머지는 Others로 구분하자.\n",
    "- #### 추후 modeling을 위해 호칭을 수치로 mapping 해 놓자."
   ]
  },
  {
   "cell_type": "code",
   "execution_count": 13,
   "id": "de667020",
   "metadata": {
    "execution": {
     "iopub.execute_input": "2022-08-11T14:20:52.208468Z",
     "iopub.status.busy": "2022-08-11T14:20:52.208014Z",
     "iopub.status.idle": "2022-08-11T14:20:52.216263Z",
     "shell.execute_reply": "2022-08-11T14:20:52.215417Z"
    },
    "papermill": {
     "duration": 0.040289,
     "end_time": "2022-08-11T14:20:52.218232",
     "exception": false,
     "start_time": "2022-08-11T14:20:52.177943",
     "status": "completed"
    },
    "tags": []
   },
   "outputs": [],
   "source": [
    "#Mr:0, Miss:1, Mrs:2, Master:3, Others:4\n",
    "\n",
    "title_mapping = {'Mr':0, 'Miss':1, 'Mrs':2, 'Master':3, 'Dr':4, 'Rev':4, 'Mlle':4, 'Major':4, 'Col':4, 'Countess':4, 'Capt':4, 'Ms':4, 'Sir':4, 'Lady':4, 'Mme':4, 'Don':4, 'Jonkheer':4, 'Dona':4}\n",
    "\n",
    "for dataset in train_test_data:\n",
    "    dataset['Title'] = dataset['Title'].map(title_mapping)"
   ]
  },
  {
   "cell_type": "code",
   "execution_count": 14,
   "id": "afadde03",
   "metadata": {
    "execution": {
     "iopub.execute_input": "2022-08-11T14:20:52.283111Z",
     "iopub.status.busy": "2022-08-11T14:20:52.281958Z",
     "iopub.status.idle": "2022-08-11T14:20:52.307592Z",
     "shell.execute_reply": "2022-08-11T14:20:52.305924Z"
    },
    "papermill": {
     "duration": 0.063202,
     "end_time": "2022-08-11T14:20:52.310658",
     "exception": false,
     "start_time": "2022-08-11T14:20:52.247456",
     "status": "completed"
    },
    "tags": []
   },
   "outputs": [
    {
     "data": {
      "text/html": [
       "<div>\n",
       "<style scoped>\n",
       "    .dataframe tbody tr th:only-of-type {\n",
       "        vertical-align: middle;\n",
       "    }\n",
       "\n",
       "    .dataframe tbody tr th {\n",
       "        vertical-align: top;\n",
       "    }\n",
       "\n",
       "    .dataframe thead th {\n",
       "        text-align: right;\n",
       "    }\n",
       "</style>\n",
       "<table border=\"1\" class=\"dataframe\">\n",
       "  <thead>\n",
       "    <tr style=\"text-align: right;\">\n",
       "      <th></th>\n",
       "      <th>PassengerId</th>\n",
       "      <th>Survived</th>\n",
       "      <th>Pclass</th>\n",
       "      <th>Name</th>\n",
       "      <th>Sex</th>\n",
       "      <th>Age</th>\n",
       "      <th>SibSp</th>\n",
       "      <th>Parch</th>\n",
       "      <th>Ticket</th>\n",
       "      <th>Fare</th>\n",
       "      <th>Cabin</th>\n",
       "      <th>Embarked</th>\n",
       "      <th>Title</th>\n",
       "    </tr>\n",
       "  </thead>\n",
       "  <tbody>\n",
       "    <tr>\n",
       "      <th>0</th>\n",
       "      <td>1</td>\n",
       "      <td>0</td>\n",
       "      <td>3</td>\n",
       "      <td>Braund, Mr. Owen Harris</td>\n",
       "      <td>male</td>\n",
       "      <td>22.0</td>\n",
       "      <td>1</td>\n",
       "      <td>0</td>\n",
       "      <td>A/5 21171</td>\n",
       "      <td>7.2500</td>\n",
       "      <td>NaN</td>\n",
       "      <td>S</td>\n",
       "      <td>0</td>\n",
       "    </tr>\n",
       "    <tr>\n",
       "      <th>1</th>\n",
       "      <td>2</td>\n",
       "      <td>1</td>\n",
       "      <td>1</td>\n",
       "      <td>Cumings, Mrs. John Bradley (Florence Briggs Th...</td>\n",
       "      <td>female</td>\n",
       "      <td>38.0</td>\n",
       "      <td>1</td>\n",
       "      <td>0</td>\n",
       "      <td>PC 17599</td>\n",
       "      <td>71.2833</td>\n",
       "      <td>C85</td>\n",
       "      <td>C</td>\n",
       "      <td>2</td>\n",
       "    </tr>\n",
       "    <tr>\n",
       "      <th>2</th>\n",
       "      <td>3</td>\n",
       "      <td>1</td>\n",
       "      <td>3</td>\n",
       "      <td>Heikkinen, Miss. Laina</td>\n",
       "      <td>female</td>\n",
       "      <td>26.0</td>\n",
       "      <td>0</td>\n",
       "      <td>0</td>\n",
       "      <td>STON/O2. 3101282</td>\n",
       "      <td>7.9250</td>\n",
       "      <td>NaN</td>\n",
       "      <td>S</td>\n",
       "      <td>1</td>\n",
       "    </tr>\n",
       "    <tr>\n",
       "      <th>3</th>\n",
       "      <td>4</td>\n",
       "      <td>1</td>\n",
       "      <td>1</td>\n",
       "      <td>Futrelle, Mrs. Jacques Heath (Lily May Peel)</td>\n",
       "      <td>female</td>\n",
       "      <td>35.0</td>\n",
       "      <td>1</td>\n",
       "      <td>0</td>\n",
       "      <td>113803</td>\n",
       "      <td>53.1000</td>\n",
       "      <td>C123</td>\n",
       "      <td>S</td>\n",
       "      <td>2</td>\n",
       "    </tr>\n",
       "    <tr>\n",
       "      <th>4</th>\n",
       "      <td>5</td>\n",
       "      <td>0</td>\n",
       "      <td>3</td>\n",
       "      <td>Allen, Mr. William Henry</td>\n",
       "      <td>male</td>\n",
       "      <td>35.0</td>\n",
       "      <td>0</td>\n",
       "      <td>0</td>\n",
       "      <td>373450</td>\n",
       "      <td>8.0500</td>\n",
       "      <td>NaN</td>\n",
       "      <td>S</td>\n",
       "      <td>0</td>\n",
       "    </tr>\n",
       "  </tbody>\n",
       "</table>\n",
       "</div>"
      ],
      "text/plain": [
       "   PassengerId  Survived  Pclass  \\\n",
       "0            1         0       3   \n",
       "1            2         1       1   \n",
       "2            3         1       3   \n",
       "3            4         1       1   \n",
       "4            5         0       3   \n",
       "\n",
       "                                                Name     Sex   Age  SibSp  \\\n",
       "0                            Braund, Mr. Owen Harris    male  22.0      1   \n",
       "1  Cumings, Mrs. John Bradley (Florence Briggs Th...  female  38.0      1   \n",
       "2                             Heikkinen, Miss. Laina  female  26.0      0   \n",
       "3       Futrelle, Mrs. Jacques Heath (Lily May Peel)  female  35.0      1   \n",
       "4                           Allen, Mr. William Henry    male  35.0      0   \n",
       "\n",
       "   Parch            Ticket     Fare Cabin Embarked  Title  \n",
       "0      0         A/5 21171   7.2500   NaN        S      0  \n",
       "1      0          PC 17599  71.2833   C85        C      2  \n",
       "2      0  STON/O2. 3101282   7.9250   NaN        S      1  \n",
       "3      0            113803  53.1000  C123        S      2  \n",
       "4      0            373450   8.0500   NaN        S      0  "
      ]
     },
     "execution_count": 14,
     "metadata": {},
     "output_type": "execute_result"
    }
   ],
   "source": [
    "train.head()"
   ]
  },
  {
   "cell_type": "code",
   "execution_count": 15,
   "id": "c74fbedd",
   "metadata": {
    "execution": {
     "iopub.execute_input": "2022-08-11T14:20:52.382172Z",
     "iopub.status.busy": "2022-08-11T14:20:52.380987Z",
     "iopub.status.idle": "2022-08-11T14:20:52.396449Z",
     "shell.execute_reply": "2022-08-11T14:20:52.395554Z"
    },
    "papermill": {
     "duration": 0.051581,
     "end_time": "2022-08-11T14:20:52.398566",
     "exception": false,
     "start_time": "2022-08-11T14:20:52.346985",
     "status": "completed"
    },
    "tags": []
   },
   "outputs": [
    {
     "data": {
      "text/html": [
       "<div>\n",
       "<style scoped>\n",
       "    .dataframe tbody tr th:only-of-type {\n",
       "        vertical-align: middle;\n",
       "    }\n",
       "\n",
       "    .dataframe tbody tr th {\n",
       "        vertical-align: top;\n",
       "    }\n",
       "\n",
       "    .dataframe thead th {\n",
       "        text-align: right;\n",
       "    }\n",
       "</style>\n",
       "<table border=\"1\" class=\"dataframe\">\n",
       "  <thead>\n",
       "    <tr style=\"text-align: right;\">\n",
       "      <th></th>\n",
       "      <th>PassengerId</th>\n",
       "      <th>Pclass</th>\n",
       "      <th>Name</th>\n",
       "      <th>Sex</th>\n",
       "      <th>Age</th>\n",
       "      <th>SibSp</th>\n",
       "      <th>Parch</th>\n",
       "      <th>Ticket</th>\n",
       "      <th>Fare</th>\n",
       "      <th>Cabin</th>\n",
       "      <th>Embarked</th>\n",
       "      <th>Title</th>\n",
       "    </tr>\n",
       "  </thead>\n",
       "  <tbody>\n",
       "    <tr>\n",
       "      <th>0</th>\n",
       "      <td>892</td>\n",
       "      <td>3</td>\n",
       "      <td>Kelly, Mr. James</td>\n",
       "      <td>male</td>\n",
       "      <td>34.5</td>\n",
       "      <td>0</td>\n",
       "      <td>0</td>\n",
       "      <td>330911</td>\n",
       "      <td>7.8292</td>\n",
       "      <td>NaN</td>\n",
       "      <td>Q</td>\n",
       "      <td>0</td>\n",
       "    </tr>\n",
       "    <tr>\n",
       "      <th>1</th>\n",
       "      <td>893</td>\n",
       "      <td>3</td>\n",
       "      <td>Wilkes, Mrs. James (Ellen Needs)</td>\n",
       "      <td>female</td>\n",
       "      <td>47.0</td>\n",
       "      <td>1</td>\n",
       "      <td>0</td>\n",
       "      <td>363272</td>\n",
       "      <td>7.0000</td>\n",
       "      <td>NaN</td>\n",
       "      <td>S</td>\n",
       "      <td>2</td>\n",
       "    </tr>\n",
       "    <tr>\n",
       "      <th>2</th>\n",
       "      <td>894</td>\n",
       "      <td>2</td>\n",
       "      <td>Myles, Mr. Thomas Francis</td>\n",
       "      <td>male</td>\n",
       "      <td>62.0</td>\n",
       "      <td>0</td>\n",
       "      <td>0</td>\n",
       "      <td>240276</td>\n",
       "      <td>9.6875</td>\n",
       "      <td>NaN</td>\n",
       "      <td>Q</td>\n",
       "      <td>0</td>\n",
       "    </tr>\n",
       "    <tr>\n",
       "      <th>3</th>\n",
       "      <td>895</td>\n",
       "      <td>3</td>\n",
       "      <td>Wirz, Mr. Albert</td>\n",
       "      <td>male</td>\n",
       "      <td>27.0</td>\n",
       "      <td>0</td>\n",
       "      <td>0</td>\n",
       "      <td>315154</td>\n",
       "      <td>8.6625</td>\n",
       "      <td>NaN</td>\n",
       "      <td>S</td>\n",
       "      <td>0</td>\n",
       "    </tr>\n",
       "    <tr>\n",
       "      <th>4</th>\n",
       "      <td>896</td>\n",
       "      <td>3</td>\n",
       "      <td>Hirvonen, Mrs. Alexander (Helga E Lindqvist)</td>\n",
       "      <td>female</td>\n",
       "      <td>22.0</td>\n",
       "      <td>1</td>\n",
       "      <td>1</td>\n",
       "      <td>3101298</td>\n",
       "      <td>12.2875</td>\n",
       "      <td>NaN</td>\n",
       "      <td>S</td>\n",
       "      <td>2</td>\n",
       "    </tr>\n",
       "  </tbody>\n",
       "</table>\n",
       "</div>"
      ],
      "text/plain": [
       "   PassengerId  Pclass                                          Name     Sex  \\\n",
       "0          892       3                              Kelly, Mr. James    male   \n",
       "1          893       3              Wilkes, Mrs. James (Ellen Needs)  female   \n",
       "2          894       2                     Myles, Mr. Thomas Francis    male   \n",
       "3          895       3                              Wirz, Mr. Albert    male   \n",
       "4          896       3  Hirvonen, Mrs. Alexander (Helga E Lindqvist)  female   \n",
       "\n",
       "    Age  SibSp  Parch   Ticket     Fare Cabin Embarked  Title  \n",
       "0  34.5      0      0   330911   7.8292   NaN        Q      0  \n",
       "1  47.0      1      0   363272   7.0000   NaN        S      2  \n",
       "2  62.0      0      0   240276   9.6875   NaN        Q      0  \n",
       "3  27.0      0      0   315154   8.6625   NaN        S      0  \n",
       "4  22.0      1      1  3101298  12.2875   NaN        S      2  "
      ]
     },
     "execution_count": 15,
     "metadata": {},
     "output_type": "execute_result"
    }
   ],
   "source": [
    "test.head()"
   ]
  },
  {
   "cell_type": "code",
   "execution_count": 16,
   "id": "7873abe0",
   "metadata": {
    "execution": {
     "iopub.execute_input": "2022-08-11T14:20:52.460058Z",
     "iopub.status.busy": "2022-08-11T14:20:52.459033Z",
     "iopub.status.idle": "2022-08-11T14:20:52.803114Z",
     "shell.execute_reply": "2022-08-11T14:20:52.801950Z"
    },
    "papermill": {
     "duration": 0.377518,
     "end_time": "2022-08-11T14:20:52.805720",
     "exception": false,
     "start_time": "2022-08-11T14:20:52.428202",
     "status": "completed"
    },
    "tags": []
   },
   "outputs": [
    {
     "data": {
      "image/png": "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\n",
      "text/plain": [
       "<Figure size 720x360 with 1 Axes>"
      ]
     },
     "metadata": {
      "needs_background": "light"
     },
     "output_type": "display_data"
    }
   ],
   "source": [
    "bar_chart('Title')"
   ]
  },
  {
   "cell_type": "markdown",
   "id": "bbb2bfd9",
   "metadata": {
    "papermill": {
     "duration": 0.029751,
     "end_time": "2022-08-11T14:20:52.865464",
     "exception": false,
     "start_time": "2022-08-11T14:20:52.835713",
     "status": "completed"
    },
    "tags": []
   },
   "source": [
    "- #### Mr.는 사망확률이 매우 높게 나타난다.\n",
    "- #### 그 외는 상대적으로 생존 확률이 높다."
   ]
  },
  {
   "cell_type": "markdown",
   "id": "f7005749",
   "metadata": {
    "papermill": {
     "duration": 0.029256,
     "end_time": "2022-08-11T14:20:52.924193",
     "exception": false,
     "start_time": "2022-08-11T14:20:52.894937",
     "status": "completed"
    },
    "tags": []
   },
   "source": [
    "- #### 이제 'Name' feature은 필요없으므로, 데이터세트에서 지우자. 'Title' feature 가 이를 대체해줄 것이다."
   ]
  },
  {
   "cell_type": "code",
   "execution_count": 17,
   "id": "8648e5bb",
   "metadata": {
    "execution": {
     "iopub.execute_input": "2022-08-11T14:20:52.985584Z",
     "iopub.status.busy": "2022-08-11T14:20:52.985186Z",
     "iopub.status.idle": "2022-08-11T14:20:52.993024Z",
     "shell.execute_reply": "2022-08-11T14:20:52.991928Z"
    },
    "papermill": {
     "duration": 0.041389,
     "end_time": "2022-08-11T14:20:52.995260",
     "exception": false,
     "start_time": "2022-08-11T14:20:52.953871",
     "status": "completed"
    },
    "tags": []
   },
   "outputs": [],
   "source": [
    "train.drop('Name', axis=1, inplace=True)\n",
    "test.drop('Name', axis=1, inplace=True)"
   ]
  },
  {
   "cell_type": "code",
   "execution_count": 18,
   "id": "5f21a99f",
   "metadata": {
    "execution": {
     "iopub.execute_input": "2022-08-11T14:20:53.056407Z",
     "iopub.status.busy": "2022-08-11T14:20:53.056011Z",
     "iopub.status.idle": "2022-08-11T14:20:53.072247Z",
     "shell.execute_reply": "2022-08-11T14:20:53.071200Z"
    },
    "papermill": {
     "duration": 0.049586,
     "end_time": "2022-08-11T14:20:53.074556",
     "exception": false,
     "start_time": "2022-08-11T14:20:53.024970",
     "status": "completed"
    },
    "tags": []
   },
   "outputs": [
    {
     "data": {
      "text/html": [
       "<div>\n",
       "<style scoped>\n",
       "    .dataframe tbody tr th:only-of-type {\n",
       "        vertical-align: middle;\n",
       "    }\n",
       "\n",
       "    .dataframe tbody tr th {\n",
       "        vertical-align: top;\n",
       "    }\n",
       "\n",
       "    .dataframe thead th {\n",
       "        text-align: right;\n",
       "    }\n",
       "</style>\n",
       "<table border=\"1\" class=\"dataframe\">\n",
       "  <thead>\n",
       "    <tr style=\"text-align: right;\">\n",
       "      <th></th>\n",
       "      <th>PassengerId</th>\n",
       "      <th>Survived</th>\n",
       "      <th>Pclass</th>\n",
       "      <th>Sex</th>\n",
       "      <th>Age</th>\n",
       "      <th>SibSp</th>\n",
       "      <th>Parch</th>\n",
       "      <th>Ticket</th>\n",
       "      <th>Fare</th>\n",
       "      <th>Cabin</th>\n",
       "      <th>Embarked</th>\n",
       "      <th>Title</th>\n",
       "    </tr>\n",
       "  </thead>\n",
       "  <tbody>\n",
       "    <tr>\n",
       "      <th>0</th>\n",
       "      <td>1</td>\n",
       "      <td>0</td>\n",
       "      <td>3</td>\n",
       "      <td>male</td>\n",
       "      <td>22.0</td>\n",
       "      <td>1</td>\n",
       "      <td>0</td>\n",
       "      <td>A/5 21171</td>\n",
       "      <td>7.2500</td>\n",
       "      <td>NaN</td>\n",
       "      <td>S</td>\n",
       "      <td>0</td>\n",
       "    </tr>\n",
       "    <tr>\n",
       "      <th>1</th>\n",
       "      <td>2</td>\n",
       "      <td>1</td>\n",
       "      <td>1</td>\n",
       "      <td>female</td>\n",
       "      <td>38.0</td>\n",
       "      <td>1</td>\n",
       "      <td>0</td>\n",
       "      <td>PC 17599</td>\n",
       "      <td>71.2833</td>\n",
       "      <td>C85</td>\n",
       "      <td>C</td>\n",
       "      <td>2</td>\n",
       "    </tr>\n",
       "    <tr>\n",
       "      <th>2</th>\n",
       "      <td>3</td>\n",
       "      <td>1</td>\n",
       "      <td>3</td>\n",
       "      <td>female</td>\n",
       "      <td>26.0</td>\n",
       "      <td>0</td>\n",
       "      <td>0</td>\n",
       "      <td>STON/O2. 3101282</td>\n",
       "      <td>7.9250</td>\n",
       "      <td>NaN</td>\n",
       "      <td>S</td>\n",
       "      <td>1</td>\n",
       "    </tr>\n",
       "    <tr>\n",
       "      <th>3</th>\n",
       "      <td>4</td>\n",
       "      <td>1</td>\n",
       "      <td>1</td>\n",
       "      <td>female</td>\n",
       "      <td>35.0</td>\n",
       "      <td>1</td>\n",
       "      <td>0</td>\n",
       "      <td>113803</td>\n",
       "      <td>53.1000</td>\n",
       "      <td>C123</td>\n",
       "      <td>S</td>\n",
       "      <td>2</td>\n",
       "    </tr>\n",
       "    <tr>\n",
       "      <th>4</th>\n",
       "      <td>5</td>\n",
       "      <td>0</td>\n",
       "      <td>3</td>\n",
       "      <td>male</td>\n",
       "      <td>35.0</td>\n",
       "      <td>0</td>\n",
       "      <td>0</td>\n",
       "      <td>373450</td>\n",
       "      <td>8.0500</td>\n",
       "      <td>NaN</td>\n",
       "      <td>S</td>\n",
       "      <td>0</td>\n",
       "    </tr>\n",
       "  </tbody>\n",
       "</table>\n",
       "</div>"
      ],
      "text/plain": [
       "   PassengerId  Survived  Pclass     Sex   Age  SibSp  Parch  \\\n",
       "0            1         0       3    male  22.0      1      0   \n",
       "1            2         1       1  female  38.0      1      0   \n",
       "2            3         1       3  female  26.0      0      0   \n",
       "3            4         1       1  female  35.0      1      0   \n",
       "4            5         0       3    male  35.0      0      0   \n",
       "\n",
       "             Ticket     Fare Cabin Embarked  Title  \n",
       "0         A/5 21171   7.2500   NaN        S      0  \n",
       "1          PC 17599  71.2833   C85        C      2  \n",
       "2  STON/O2. 3101282   7.9250   NaN        S      1  \n",
       "3            113803  53.1000  C123        S      2  \n",
       "4            373450   8.0500   NaN        S      0  "
      ]
     },
     "execution_count": 18,
     "metadata": {},
     "output_type": "execute_result"
    }
   ],
   "source": [
    "train.head()"
   ]
  },
  {
   "cell_type": "code",
   "execution_count": 19,
   "id": "ea278343",
   "metadata": {
    "execution": {
     "iopub.execute_input": "2022-08-11T14:20:53.136459Z",
     "iopub.status.busy": "2022-08-11T14:20:53.136037Z",
     "iopub.status.idle": "2022-08-11T14:20:53.152045Z",
     "shell.execute_reply": "2022-08-11T14:20:53.150861Z"
    },
    "papermill": {
     "duration": 0.049937,
     "end_time": "2022-08-11T14:20:53.154462",
     "exception": false,
     "start_time": "2022-08-11T14:20:53.104525",
     "status": "completed"
    },
    "tags": []
   },
   "outputs": [
    {
     "data": {
      "text/html": [
       "<div>\n",
       "<style scoped>\n",
       "    .dataframe tbody tr th:only-of-type {\n",
       "        vertical-align: middle;\n",
       "    }\n",
       "\n",
       "    .dataframe tbody tr th {\n",
       "        vertical-align: top;\n",
       "    }\n",
       "\n",
       "    .dataframe thead th {\n",
       "        text-align: right;\n",
       "    }\n",
       "</style>\n",
       "<table border=\"1\" class=\"dataframe\">\n",
       "  <thead>\n",
       "    <tr style=\"text-align: right;\">\n",
       "      <th></th>\n",
       "      <th>PassengerId</th>\n",
       "      <th>Pclass</th>\n",
       "      <th>Sex</th>\n",
       "      <th>Age</th>\n",
       "      <th>SibSp</th>\n",
       "      <th>Parch</th>\n",
       "      <th>Ticket</th>\n",
       "      <th>Fare</th>\n",
       "      <th>Cabin</th>\n",
       "      <th>Embarked</th>\n",
       "      <th>Title</th>\n",
       "    </tr>\n",
       "  </thead>\n",
       "  <tbody>\n",
       "    <tr>\n",
       "      <th>0</th>\n",
       "      <td>892</td>\n",
       "      <td>3</td>\n",
       "      <td>male</td>\n",
       "      <td>34.5</td>\n",
       "      <td>0</td>\n",
       "      <td>0</td>\n",
       "      <td>330911</td>\n",
       "      <td>7.8292</td>\n",
       "      <td>NaN</td>\n",
       "      <td>Q</td>\n",
       "      <td>0</td>\n",
       "    </tr>\n",
       "    <tr>\n",
       "      <th>1</th>\n",
       "      <td>893</td>\n",
       "      <td>3</td>\n",
       "      <td>female</td>\n",
       "      <td>47.0</td>\n",
       "      <td>1</td>\n",
       "      <td>0</td>\n",
       "      <td>363272</td>\n",
       "      <td>7.0000</td>\n",
       "      <td>NaN</td>\n",
       "      <td>S</td>\n",
       "      <td>2</td>\n",
       "    </tr>\n",
       "    <tr>\n",
       "      <th>2</th>\n",
       "      <td>894</td>\n",
       "      <td>2</td>\n",
       "      <td>male</td>\n",
       "      <td>62.0</td>\n",
       "      <td>0</td>\n",
       "      <td>0</td>\n",
       "      <td>240276</td>\n",
       "      <td>9.6875</td>\n",
       "      <td>NaN</td>\n",
       "      <td>Q</td>\n",
       "      <td>0</td>\n",
       "    </tr>\n",
       "    <tr>\n",
       "      <th>3</th>\n",
       "      <td>895</td>\n",
       "      <td>3</td>\n",
       "      <td>male</td>\n",
       "      <td>27.0</td>\n",
       "      <td>0</td>\n",
       "      <td>0</td>\n",
       "      <td>315154</td>\n",
       "      <td>8.6625</td>\n",
       "      <td>NaN</td>\n",
       "      <td>S</td>\n",
       "      <td>0</td>\n",
       "    </tr>\n",
       "    <tr>\n",
       "      <th>4</th>\n",
       "      <td>896</td>\n",
       "      <td>3</td>\n",
       "      <td>female</td>\n",
       "      <td>22.0</td>\n",
       "      <td>1</td>\n",
       "      <td>1</td>\n",
       "      <td>3101298</td>\n",
       "      <td>12.2875</td>\n",
       "      <td>NaN</td>\n",
       "      <td>S</td>\n",
       "      <td>2</td>\n",
       "    </tr>\n",
       "  </tbody>\n",
       "</table>\n",
       "</div>"
      ],
      "text/plain": [
       "   PassengerId  Pclass     Sex   Age  SibSp  Parch   Ticket     Fare Cabin  \\\n",
       "0          892       3    male  34.5      0      0   330911   7.8292   NaN   \n",
       "1          893       3  female  47.0      1      0   363272   7.0000   NaN   \n",
       "2          894       2    male  62.0      0      0   240276   9.6875   NaN   \n",
       "3          895       3    male  27.0      0      0   315154   8.6625   NaN   \n",
       "4          896       3  female  22.0      1      1  3101298  12.2875   NaN   \n",
       "\n",
       "  Embarked  Title  \n",
       "0        Q      0  \n",
       "1        S      2  \n",
       "2        Q      0  \n",
       "3        S      0  \n",
       "4        S      2  "
      ]
     },
     "execution_count": 19,
     "metadata": {},
     "output_type": "execute_result"
    }
   ],
   "source": [
    "test.head()"
   ]
  },
  {
   "cell_type": "markdown",
   "id": "0bfee771",
   "metadata": {
    "papermill": {
     "duration": 0.029816,
     "end_time": "2022-08-11T14:20:53.214299",
     "exception": false,
     "start_time": "2022-08-11T14:20:53.184483",
     "status": "completed"
    },
    "tags": []
   },
   "source": [
    "#### **'Sex' feature의 수치화**"
   ]
  },
  {
   "cell_type": "code",
   "execution_count": 20,
   "id": "7d5b14a9",
   "metadata": {
    "execution": {
     "iopub.execute_input": "2022-08-11T14:20:53.275940Z",
     "iopub.status.busy": "2022-08-11T14:20:53.275477Z",
     "iopub.status.idle": "2022-08-11T14:20:53.283292Z",
     "shell.execute_reply": "2022-08-11T14:20:53.282410Z"
    },
    "papermill": {
     "duration": 0.041355,
     "end_time": "2022-08-11T14:20:53.285501",
     "exception": false,
     "start_time": "2022-08-11T14:20:53.244146",
     "status": "completed"
    },
    "tags": []
   },
   "outputs": [],
   "source": [
    "#male: 0, female: 1\n",
    "\n",
    "sex_mapping = {'male':0, 'female':1}\n",
    "for dataset in train_test_data:\n",
    "    dataset['Sex'] = dataset['Sex'].map(sex_mapping)"
   ]
  },
  {
   "cell_type": "code",
   "execution_count": 21,
   "id": "e9d75a6b",
   "metadata": {
    "execution": {
     "iopub.execute_input": "2022-08-11T14:20:53.348743Z",
     "iopub.status.busy": "2022-08-11T14:20:53.348298Z",
     "iopub.status.idle": "2022-08-11T14:20:53.551162Z",
     "shell.execute_reply": "2022-08-11T14:20:53.550398Z"
    },
    "papermill": {
     "duration": 0.236939,
     "end_time": "2022-08-11T14:20:53.553300",
     "exception": false,
     "start_time": "2022-08-11T14:20:53.316361",
     "status": "completed"
    },
    "tags": []
   },
   "outputs": [
    {
     "data": {
      "image/png": "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\n",
      "text/plain": [
       "<Figure size 720x360 with 1 Axes>"
      ]
     },
     "metadata": {
      "needs_background": "light"
     },
     "output_type": "display_data"
    }
   ],
   "source": [
    "bar_chart('Sex')"
   ]
  },
  {
   "cell_type": "markdown",
   "id": "a4a0d1d0",
   "metadata": {
    "papermill": {
     "duration": 0.029934,
     "end_time": "2022-08-11T14:20:53.613520",
     "exception": false,
     "start_time": "2022-08-11T14:20:53.583586",
     "status": "completed"
    },
    "tags": []
   },
   "source": [
    "#### **결측치 탐색**"
   ]
  },
  {
   "cell_type": "code",
   "execution_count": 22,
   "id": "4ac29a9b",
   "metadata": {
    "execution": {
     "iopub.execute_input": "2022-08-11T14:20:53.675938Z",
     "iopub.status.busy": "2022-08-11T14:20:53.675308Z",
     "iopub.status.idle": "2022-08-11T14:20:53.693824Z",
     "shell.execute_reply": "2022-08-11T14:20:53.692604Z"
    },
    "papermill": {
     "duration": 0.053077,
     "end_time": "2022-08-11T14:20:53.696661",
     "exception": false,
     "start_time": "2022-08-11T14:20:53.643584",
     "status": "completed"
    },
    "tags": []
   },
   "outputs": [
    {
     "name": "stdout",
     "output_type": "stream",
     "text": [
      "<class 'pandas.core.frame.DataFrame'>\n",
      "RangeIndex: 891 entries, 0 to 890\n",
      "Data columns (total 12 columns):\n",
      " #   Column       Non-Null Count  Dtype  \n",
      "---  ------       --------------  -----  \n",
      " 0   PassengerId  891 non-null    int64  \n",
      " 1   Survived     891 non-null    int64  \n",
      " 2   Pclass       891 non-null    int64  \n",
      " 3   Sex          891 non-null    int64  \n",
      " 4   Age          714 non-null    float64\n",
      " 5   SibSp        891 non-null    int64  \n",
      " 6   Parch        891 non-null    int64  \n",
      " 7   Ticket       891 non-null    object \n",
      " 8   Fare         891 non-null    float64\n",
      " 9   Cabin        204 non-null    object \n",
      " 10  Embarked     889 non-null    object \n",
      " 11  Title        891 non-null    int64  \n",
      "dtypes: float64(2), int64(7), object(3)\n",
      "memory usage: 83.7+ KB\n"
     ]
    }
   ],
   "source": [
    "train.info()"
   ]
  },
  {
   "cell_type": "code",
   "execution_count": 23,
   "id": "57488c58",
   "metadata": {
    "execution": {
     "iopub.execute_input": "2022-08-11T14:20:53.760358Z",
     "iopub.status.busy": "2022-08-11T14:20:53.759270Z",
     "iopub.status.idle": "2022-08-11T14:20:53.768469Z",
     "shell.execute_reply": "2022-08-11T14:20:53.767614Z"
    },
    "papermill": {
     "duration": 0.043264,
     "end_time": "2022-08-11T14:20:53.770709",
     "exception": false,
     "start_time": "2022-08-11T14:20:53.727445",
     "status": "completed"
    },
    "tags": []
   },
   "outputs": [
    {
     "data": {
      "text/plain": [
       "PassengerId      0\n",
       "Survived         0\n",
       "Pclass           0\n",
       "Sex              0\n",
       "Age            177\n",
       "SibSp            0\n",
       "Parch            0\n",
       "Ticket           0\n",
       "Fare             0\n",
       "Cabin          687\n",
       "Embarked         2\n",
       "Title            0\n",
       "dtype: int64"
      ]
     },
     "execution_count": 23,
     "metadata": {},
     "output_type": "execute_result"
    }
   ],
   "source": [
    "train.isnull().sum()"
   ]
  },
  {
   "cell_type": "code",
   "execution_count": 24,
   "id": "4dcf907d",
   "metadata": {
    "execution": {
     "iopub.execute_input": "2022-08-11T14:20:53.836886Z",
     "iopub.status.busy": "2022-08-11T14:20:53.836168Z",
     "iopub.status.idle": "2022-08-11T14:20:53.849062Z",
     "shell.execute_reply": "2022-08-11T14:20:53.847690Z"
    },
    "papermill": {
     "duration": 0.048067,
     "end_time": "2022-08-11T14:20:53.851607",
     "exception": false,
     "start_time": "2022-08-11T14:20:53.803540",
     "status": "completed"
    },
    "tags": []
   },
   "outputs": [
    {
     "name": "stdout",
     "output_type": "stream",
     "text": [
      "<class 'pandas.core.frame.DataFrame'>\n",
      "RangeIndex: 418 entries, 0 to 417\n",
      "Data columns (total 11 columns):\n",
      " #   Column       Non-Null Count  Dtype  \n",
      "---  ------       --------------  -----  \n",
      " 0   PassengerId  418 non-null    int64  \n",
      " 1   Pclass       418 non-null    int64  \n",
      " 2   Sex          418 non-null    int64  \n",
      " 3   Age          332 non-null    float64\n",
      " 4   SibSp        418 non-null    int64  \n",
      " 5   Parch        418 non-null    int64  \n",
      " 6   Ticket       418 non-null    object \n",
      " 7   Fare         417 non-null    float64\n",
      " 8   Cabin        91 non-null     object \n",
      " 9   Embarked     418 non-null    object \n",
      " 10  Title        418 non-null    int64  \n",
      "dtypes: float64(2), int64(6), object(3)\n",
      "memory usage: 36.0+ KB\n"
     ]
    }
   ],
   "source": [
    "test.info()"
   ]
  },
  {
   "cell_type": "code",
   "execution_count": 25,
   "id": "7f75b246",
   "metadata": {
    "execution": {
     "iopub.execute_input": "2022-08-11T14:20:53.916355Z",
     "iopub.status.busy": "2022-08-11T14:20:53.915917Z",
     "iopub.status.idle": "2022-08-11T14:20:53.925251Z",
     "shell.execute_reply": "2022-08-11T14:20:53.924424Z"
    },
    "papermill": {
     "duration": 0.044873,
     "end_time": "2022-08-11T14:20:53.927362",
     "exception": false,
     "start_time": "2022-08-11T14:20:53.882489",
     "status": "completed"
    },
    "tags": []
   },
   "outputs": [
    {
     "data": {
      "text/plain": [
       "PassengerId      0\n",
       "Pclass           0\n",
       "Sex              0\n",
       "Age             86\n",
       "SibSp            0\n",
       "Parch            0\n",
       "Ticket           0\n",
       "Fare             1\n",
       "Cabin          327\n",
       "Embarked         0\n",
       "Title            0\n",
       "dtype: int64"
      ]
     },
     "execution_count": 25,
     "metadata": {},
     "output_type": "execute_result"
    }
   ],
   "source": [
    "test.isnull().sum()"
   ]
  },
  {
   "cell_type": "markdown",
   "id": "081f661a",
   "metadata": {
    "papermill": {
     "duration": 0.031681,
     "end_time": "2022-08-11T14:20:53.990397",
     "exception": false,
     "start_time": "2022-08-11T14:20:53.958716",
     "status": "completed"
    },
    "tags": []
   },
   "source": [
    "#### Age, Embarked, Fare, Cabin feature 에서 결측치가 확인되었다."
   ]
  },
  {
   "cell_type": "markdown",
   "id": "10d0fc41",
   "metadata": {
    "papermill": {
     "duration": 0.030959,
     "end_time": "2022-08-11T14:20:54.052259",
     "exception": false,
     "start_time": "2022-08-11T14:20:54.021300",
     "status": "completed"
    },
    "tags": []
   },
   "source": [
    "#### **feature7: Age (나이)**"
   ]
  },
  {
   "cell_type": "markdown",
   "id": "9da2b0e8",
   "metadata": {
    "papermill": {
     "duration": 0.031057,
     "end_time": "2022-08-11T14:20:54.114464",
     "exception": false,
     "start_time": "2022-08-11T14:20:54.083407",
     "status": "completed"
    },
    "tags": []
   },
   "source": [
    "#### **'Age' feature의 결측치를 'Title'의 group별로(Mr, Mrs, Miss, Master, others) 중앙값을 취하여 채워주자.**"
   ]
  },
  {
   "cell_type": "code",
   "execution_count": 26,
   "id": "daa045d7",
   "metadata": {
    "execution": {
     "iopub.execute_input": "2022-08-11T14:20:54.185826Z",
     "iopub.status.busy": "2022-08-11T14:20:54.184819Z",
     "iopub.status.idle": "2022-08-11T14:20:54.195153Z",
     "shell.execute_reply": "2022-08-11T14:20:54.194301Z"
    },
    "papermill": {
     "duration": 0.051297,
     "end_time": "2022-08-11T14:20:54.197557",
     "exception": false,
     "start_time": "2022-08-11T14:20:54.146260",
     "status": "completed"
    },
    "tags": []
   },
   "outputs": [],
   "source": [
    "train['Age'].fillna(train.groupby('Title')['Age'].transform('median'), inplace=True)\n",
    "test['Age'].fillna(test.groupby('Title')['Age'].transform('median'), inplace=True)"
   ]
  },
  {
   "cell_type": "markdown",
   "id": "bb24f358",
   "metadata": {
    "papermill": {
     "duration": 0.030837,
     "end_time": "2022-08-11T14:20:54.259613",
     "exception": false,
     "start_time": "2022-08-11T14:20:54.228776",
     "status": "completed"
    },
    "tags": []
   },
   "source": [
    "#### seaborn을 이용하여 데이터 분포를 시각화 해보자"
   ]
  },
  {
   "cell_type": "code",
   "execution_count": 27,
   "id": "d31d4d9b",
   "metadata": {
    "execution": {
     "iopub.execute_input": "2022-08-11T14:20:54.323139Z",
     "iopub.status.busy": "2022-08-11T14:20:54.322411Z",
     "iopub.status.idle": "2022-08-11T14:20:55.679533Z",
     "shell.execute_reply": "2022-08-11T14:20:55.678371Z"
    },
    "papermill": {
     "duration": 1.391725,
     "end_time": "2022-08-11T14:20:55.682117",
     "exception": false,
     "start_time": "2022-08-11T14:20:54.290392",
     "status": "completed"
    },
    "tags": []
   },
   "outputs": [
    {
     "data": {
      "image/png": "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\n",
      "text/plain": [
       "<Figure size 915.875x216 with 1 Axes>"
      ]
     },
     "metadata": {
      "needs_background": "light"
     },
     "output_type": "display_data"
    }
   ],
   "source": [
    "import seaborn as sns\n",
    "\n",
    "facet = sns.FacetGrid(train, hue='Survived', aspect=4)\n",
    "facet.map(sns.kdeplot,'Age',shade=True)\n",
    "facet.set(xlim=(0, train['Age'].max()))\n",
    "facet.add_legend()\n",
    "\n",
    "plt.show()"
   ]
  },
  {
   "cell_type": "markdown",
   "id": "da9bee08",
   "metadata": {
    "papermill": {
     "duration": 0.032086,
     "end_time": "2022-08-11T14:20:55.746547",
     "exception": false,
     "start_time": "2022-08-11T14:20:55.714461",
     "status": "completed"
    },
    "tags": []
   },
   "source": [
    "#### 그래프 분포가 비슷한 나이대로 구간을 나눠서 자세히 살펴보자 "
   ]
  },
  {
   "cell_type": "code",
   "execution_count": 28,
   "id": "9b48e030",
   "metadata": {
    "execution": {
     "iopub.execute_input": "2022-08-11T14:20:55.817653Z",
     "iopub.status.busy": "2022-08-11T14:20:55.817209Z",
     "iopub.status.idle": "2022-08-11T14:20:56.243911Z",
     "shell.execute_reply": "2022-08-11T14:20:56.242619Z"
    },
    "papermill": {
     "duration": 0.470018,
     "end_time": "2022-08-11T14:20:56.248016",
     "exception": false,
     "start_time": "2022-08-11T14:20:55.777998",
     "status": "completed"
    },
    "tags": []
   },
   "outputs": [
    {
     "data": {
      "text/plain": [
       "(0.0, 20.0)"
      ]
     },
     "execution_count": 28,
     "metadata": {},
     "output_type": "execute_result"
    },
    {
     "data": {
      "image/png": "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\n",
      "text/plain": [
       "<Figure size 915.875x216 with 1 Axes>"
      ]
     },
     "metadata": {
      "needs_background": "light"
     },
     "output_type": "display_data"
    }
   ],
   "source": [
    "facet = sns.FacetGrid(train, hue='Survived', aspect=4)\n",
    "facet.map(sns.kdeplot,'Age',shade=True)\n",
    "facet.set(xlim=(0, train['Age'].max()))\n",
    "facet.add_legend()\n",
    "plt.xlim(0,20) #0~20살 까지\n"
   ]
  },
  {
   "cell_type": "code",
   "execution_count": 29,
   "id": "34cfc506",
   "metadata": {
    "execution": {
     "iopub.execute_input": "2022-08-11T14:20:56.320624Z",
     "iopub.status.busy": "2022-08-11T14:20:56.319961Z",
     "iopub.status.idle": "2022-08-11T14:20:56.697135Z",
     "shell.execute_reply": "2022-08-11T14:20:56.695803Z"
    },
    "papermill": {
     "duration": 0.414465,
     "end_time": "2022-08-11T14:20:56.700294",
     "exception": false,
     "start_time": "2022-08-11T14:20:56.285829",
     "status": "completed"
    },
    "tags": []
   },
   "outputs": [
    {
     "data": {
      "text/plain": [
       "(20.0, 30.0)"
      ]
     },
     "execution_count": 29,
     "metadata": {},
     "output_type": "execute_result"
    },
    {
     "data": {
      "image/png": "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\n",
      "text/plain": [
       "<Figure size 915.875x216 with 1 Axes>"
      ]
     },
     "metadata": {
      "needs_background": "light"
     },
     "output_type": "display_data"
    }
   ],
   "source": [
    "facet = sns.FacetGrid(train, hue='Survived', aspect=4)\n",
    "facet.map(sns.kdeplot,'Age',shade=True)\n",
    "facet.set(xlim=(0, train['Age'].max()))\n",
    "facet.add_legend()\n",
    "plt.xlim(20,30) #20~30살 까지\n"
   ]
  },
  {
   "cell_type": "code",
   "execution_count": 30,
   "id": "402877ac",
   "metadata": {
    "execution": {
     "iopub.execute_input": "2022-08-11T14:20:56.772884Z",
     "iopub.status.busy": "2022-08-11T14:20:56.771945Z",
     "iopub.status.idle": "2022-08-11T14:20:57.110042Z",
     "shell.execute_reply": "2022-08-11T14:20:57.108978Z"
    },
    "papermill": {
     "duration": 0.375686,
     "end_time": "2022-08-11T14:20:57.112839",
     "exception": false,
     "start_time": "2022-08-11T14:20:56.737153",
     "status": "completed"
    },
    "tags": []
   },
   "outputs": [
    {
     "data": {
      "text/plain": [
       "(30.0, 35.0)"
      ]
     },
     "execution_count": 30,
     "metadata": {},
     "output_type": "execute_result"
    },
    {
     "data": {
      "image/png": "iVBORw0KGgoAAAANSUhEUgAAA48AAADQCAYAAACnWVSwAAAAOXRFWHRTb2Z0d2FyZQBNYXRwbG90bGliIHZlcnNpb24zLjUuMiwgaHR0cHM6Ly9tYXRwbG90bGliLm9yZy8qNh9FAAAACXBIWXMAAAsTAAALEwEAmpwYAAAubklEQVR4nO3deZgk913f8c+3qq+Z6ZnZ3dnZw5KwlEgPRsLBwcJ+jMnBYRDhEIkFloiN4XEQBJzwwEPAEEKEYxKb8GAMtgkCCYxIIhlxZGOEHYJtMETYkvElycisJdmrtWRpd+fs6emj6ps/qqq7uufo2dX29GzP+/U8/XR11a+qfr0uz+gzv8vcXQAAAAAAbCcYdQUAAAAAAHsf4REAAAAAMBDhEQAAAAAwEOERAAAAADAQ4REAAAAAMFBh1BW4WG644QZ/73vfO+pqAAAAABhvNuoKjMrYtDyeOXNm1FUAAAAAgLE1NuERAAAAADA8hEcAAAAAwECERwAAAADAQIRHAAAAAMBAhEcAAAAAwECERwAAAADAQGOzzuNqo63/99kzKoaBwsBUDAIVQlMhMBXCIH03FYJAxdCSMun+MDCZ7dvlWgAAAABgoLEJj08vreu/3PdptWMpjl3tOFYUuyJ3RZGr3b+dvtpxrNilMLBOkOwNnIEqhUDlYqCJYqhK55V8niiGqpRCTabvlULv8UoxVLkYqJKVTY9VCqEmSqHKhYDgCgAAAGDPG5vweHy2op/+Z9de0Lmxexo4XbF3w2W2r9mO1YxiNdqxmu1Yrb7PtUakhVpLrShSK3K1orhzTqvtakZRp2yzHasRxWq00mtFsYqFJKBWikmYLBfD5HMpC5xZ2CxoIguipb4wmg+2hW6ZJMwm15wohiqGtLICAAAAOH9jEx6fi8BMQWgqhLt/79iTsNnIQmlfME0CaPo5DaWL9ZaeWWmoFcXpy3vK9pzfjtVoJ+G10Y7l7ioXkpDaaRUt9AbQiXT/ZC6gTqRhtJwPp5uE18lSqGqloKlSQWFASAUAAADGBeFxxAKzNMztTnKN0pbURjtKW0g9DZvRpmG10Y61st5WM4rVzlpVo24w7S9fb0WqNyOttyKVC0mYnCoXVC0XNFUONV0pqlouaLqSvYrpsUJnf7ZdLRdUrRQ0WQwVEEQBAACAkSI87jNhYEmX19Jww2rsrkYrDZO5QFlvRp19C7WWnlpa13or0norTo7nyq81I9WbbTXasSrFUNVyIWnZTENl9j5dLuaCaLflMzs2le6bLhdVKTLGFAAAALgQhEcMRWAXL6TGsWu93Q2U/SGz3or07EpDp86tqdHuhtD1Vrf8WjNSrRkpilyT5bATQqdyLZzVckEzudbQTkDttJz2towy2REAAAD2E8Ij9rwgME2WCposFTT3HK/VjmOtN+MN4bOeC6VfWFxXox1tbBFtRlprRVprtrXWiCSp0y23v6vtdLnbLXezrrjZ9kx6nG65AAAA2OsIj9hXCkGgaiVQtfLcH/1WboxnvRVpPQ2X+e65SwtrqrdiNXKtofVWrHqznbSGNtpab8WaKoeamShqNn0dmCzqwERJB6eS99nJdP9EUbPpsQOTRVWKI5jlCQAAAPsS4RG4QMUwUDEMNFMpPqfrRLGr1myrtt5WrdnWaqOtWiPSaqOtZ5YbevzMmurNtmqNtmrNSKvrba002lpZb8lkmplIWjBns2CZhstDU0nAnO0JpSXNThQ1UymoEAYX6V8CAAAA+8FQw6OZ3SDpbZJCSb/p7m/uO16W9DuSXizprKRXufsTueNfIukRSbe5+y8Os67AqISBaaZSPO8Q6p7MlJsFzVqj3fP+2LOrqqdjPWvNtlbXk2MrjaTbbaUUdEPnRFEH02B5cCoJmQcmuoE0C54HJoqaLIWM9QQAANiHhhYezSyU9A5Jr5D0pKQHzOyEuz+SK/Y6SQvufrWZ3SzpLZJelTv+S5L+ZFh1BC5lllvm5dBU6bzOjd073WazwJltL9RaenKh3jmetXiurLe02mirFblmKgXNpN1oZ9LgeWCyG0APpC2gSTAtdQJqqUBrJwAAwKVqmC2PL5F00t0fkyQzu1vSjUpaEjM3Srot3b5X0tvNzNzdzew7JD0uqTbEOgL7UmDWmbTn6Hme24riXOjsbfU8tbCmz3wx6naxTY+trCctn6VC0O1mO1nUwckkXB6aLHW63CZjO7shdGaiqOkykwoBAACM2jDD42WSTuU+PynppVuVcfe2mS1JmjOzdUk/qaTV8seHWEcA56kYBkkX1snza+10d9VbWWtn1NPaubLe0tPL9c6SKrV86Gy01WjFqlYKOjBZ1KHJkg5VS5qbKutwtaS5allzU8kYz0NTJc1Vk/dygcmEAAAALqa9OmHObZLe6u6r242tMrNbJd0qSUefd/nu1AzABTHrLrkyP31+57bjZGznynpLy+ttrdRbWl5v6ZmVhh47U1Ot0dZyPTm2XG9pqd5SqZCE3EOTRR1KA+Z8tdwJl3PVkg5OJiH0ULWkKcZyAgAAbGuY4fG0pCtyny9P921W5kkzK0iaVTJxzksl3WRmvyDpgKTYzNbd/e35k939dkm3S9KXvfBFPowvAWD0CkGg2YlAsxM7m1TI0zGdy+stray3k/d68v6FpbpW1tvpKwmaS/WW3JW0bGYtmFNJq+bhakmHpso9rZpzUyXNVIp0pQUAAPvKMMPjA5KuMbOrlITEmyV9d1+ZE5JeK+l+STdJer+7u6R/lBUws9skrfYHRwDYiplpqlzQVLmg47M7O6fRjrScBsyV9VZn++++uKqVxmLSvbbe0lIaONdbcTpLbTENlEmrZtaVthtCk+2Dk0WWRwEAAJe0oYXHdAzj6yW9T8lSHXe6+8Nm9kZJD7r7CUl3SLrLzE5KOqckYALArisXQs1Ph5qfLu+ofDuKky60WVfaNHCeWqjr00+tJGtxpl1pl+otra63NVUOk660fS2b2bjNg+n+LHhWiozbBAAAe4clDX2Xvi974Yv8zj/6s1FXAwA2Fceu1Wa70312OQ2b2RIoq+kEQctZ6+ba5uM2k9bNcieAdlo3GbcJAMBu2be/bPfqhDkAMFaCwDRTKWqmUtRlmhhYPpudttuVNhu72dLTS+s9YXM57Uobx+qstzlXTSYIOjJT0ZHpsuanyzpcLevwdLL/4GSJMZsAAOC8EB4BYA/Kz057bLayo3Ma7WhDoFxaa+n0Yr07OdBaSwtrTdWakQ5OFpMlT6ZLmp8u6+h0RfNp0JyvdgPngckiLZoAAIDwCADjolwIVa6GOlwdPG4zG7O5uNbUUr2lxfT1+XNrWllva6ne1GK9pYVaS+utqDPb7OFqWUemyzoyXdGRmSRcZiFzvlrWzESBoAkAwJgiPALAPlQIg87EPIO0orizpMniWvJ+ZrWhx8/WOutqLq61tLjWVCtyHZwqJl1ks6A5k4TNbtBMWjqrZYImAACXEsIjAGBbxTDohMFBmu04abVc666h+cXlhk4+s6rlejsNmk0trLUUuWtuqtQJlfPVso7O5Foyc+9TZX5dAQAwavw2BgBcNKVCoPnpiuanB4/TXG9FnYC5tNbSYr2p04t1/e3TK92WznpLC7WmzJSMz0xbLbMxmodzkwEdSd8nSixxAgDAMBAeAQAjUSmGqhRDHZ3ZPmi6u9ZbsRbrzU7QXKq39PmFNT30haVkLc00fC7UWiqE1tOimXSd3dht9nC1zFqaAACcB8IjAGBPMzNNlEJNlCZ0fHb7ZU6yJU6ybrPZ+2PPruoTpxZ7xm4u1psqF0Idmip1Qubx2YqOzlQ64zSTbrQVzVQYnwkAAOERADA28kucPO/A4KBZa0Rp99hknObCWlOfOr2kpZOtzudztabasfdMAHRsJgmZR9N1NLOweZBlTQAAY4zwCADYl8xM1UpB1UpBlx3cPmiup62ZC2vNzoQ/jz69rI88fk6La0nwPFtrqtGONDfV7S57bLaiY7mWzPnpso7OVDQ3VVIQEDIBAJcWwiMAAANUiqGOzYY6Nrv9+MxmO07CZDrRz8JaSyefXdXffH5BS/WWFtZaOldrqtZo6+BkSYenS0kL5nRFx2aTsZlHpyu55U1KKoTBLn1LAAC2R3gEAOAiKRUCHZmp6MiASYDa6dqZC2kr5uJaU6cW6nro9HLP/qV6S7MTRc1Xs66xZR2fneiMxTwyk7RkzlfLKhUImQCA4SI8AgCwywphoLlqWXMD1s6MYu+sjZl1m316eV2f+eJKrnUzOTZVLnRD5mbjMtOwyQyzAIALRXgEAGCPCgPToamSDk2Vti0Xu2tlvd0zJvNcraXHz9Q6s8tmk/9UimFn2ZKjaUtmEjiTkJmFzaky/4kAAOjFbwYAAC5xgZlmJ4qanShKc1NblnN3rTbanTDZ7TK7tiFkhoF1Q2auJfPITFlHpys6mi5rUiVkAsC+wU98AAD2CTPTdKWo6UpRVxya3LJctl7mQi2dYTbtOttdxqSpc7WWztYaCiwJmVnAPD47kQbLcmcyILrLAsB4IDwCAIAe+fUyt1vGpD9kZq2WpxbWksBZa+pcum+iGHaWKjk2U9HxA9kyJtnYzLIOV8sqMrssAOxZhEcAAHBBdhoyY3etpmMyF9aaWqi19MxyQ3/3xdXcGM2khfPARDGZ4CcLmbMVHZvNdZmdqejQJOtkAsAoEB4BAMBQBWaamShqZqKo528zJjObXTYJmEnQ/Ny5NX3y9FInZJ6tNbTWiDRXLaVjL8s6NjPRCZjH0lbMIzMVzVQKMiNkAsDFQngEAAB7Qs/ssvNbl2u2Yy3Vk3GXWWvmo08v6yOPn+sEz7O1pqLYNT+drI95bDYZj3ks14KZbU+W+M8hANgJfloCAIBLSqkQaH66ovnpyrbl6s0obbFs6txasi7mx04taqmerI15Lg2ZpTDohszceMyjnTGZyTqZpQLjMQHsb4RHAAAwliZKoSZKEzp+YPtJf2qNqDseMx2T+fiZmhbXWp2QubDW1HSl0Jn052h+POZ0d9KfuWpZIeMxAYwpwiMAANi3zEzVSkHVSmHb5Uvi2LW83tJC2oK5sNbUFxbr+vRTyz3rY66st3VoqtQ7s+xsd13Mo+k6mQcmi4zHBHDJITwCAAAMEASmA5MlHZgs6arDW0/6045iLdWz1srk/bPPruqjn19IQmatqTO1hlpt1+HceMz8zLJHppOQeWy2wnhMAHsKP5EAAAAukkIYaK6adF/dznor6mmxXFhr6lOnl/Shv3u207p5ptZUMTTNV5PZY4/PJOEyC5uMxwSw2wiPAAAAu6xSDHVsNtSx2a0n/XF31ZpRp5tsNh7zc2drWthmPGa+q2x34p+yDk+VWR8TwHNCeAQAANiDzEzVckHV8vmNxzy31tTpxboeeWq5u6/W1GojGY95ZLqso7NJS+bxAxOdrrNHZ5LJf2YmWB8TwOaGGh7N7AZJb5MUSvpNd39z3/GypN+R9GJJZyW9yt2fMLOXSLo9KybpNnf/w2HWFQAA4FJ0PuMxF9ZauVbMpj7z9Ep3fcy1ps6tNtXOrY95dKai5x3oro+ZtWQenaloohTu4rcEsBcMLTyaWSjpHZJeIelJSQ+Y2Ql3fyRX7HWSFtz9ajO7WdJbJL1K0kOSrnf3tpkdl/QJM/vf7t4eVn0BAADGWSFdz3J+evB4zG5X2aRrbLY+5kKtpXNpyCwXg3Q8ZhoyZyfSFszucibz02UVQ8ZjAuNimC2PL5F00t0fkyQzu1vSjZLy4fFGSbel2/dKeruZmbuv5cpUJPmgmxXWz+noo78rmcllkkyy9F2SW+8+T/fny2x2rne6bfSW957rm9zUd8/Nz91QN+uviza9flIuKxOk1w4kk1xBst+CdFt9Zax3u/OenJPf1613kFyvp55BT70BAMD4qRRDHT8weH3M1Ua7Z+mSM6sNPfbsqhbT2WbPrTW1uNbS7ERRR6aTSX+OzVT0vM7SJd2QeWiyxHhM4BIwzPB4maRTuc9PSnrpVmXSVsYlSXOSzpjZSyXdKen5kl6zWaujmd0q6VZJuvzQhGa/8CFJLstnTXdl2dM82997vFve+85xybXxeP/+3D0kz91ns2tm9djiWvK0bHauy7y73VPnXD0713SXKU6Lxun94u6xzjlxet+4c53uNTY5L3/t9F+5J/xaPpBmITTQZsFzY/BN/iLZU77n3PT62bmd7Y1l8nXpllEuWG++TwrkQZieHyZlLJCnr2Q7zO0Lk3MskIJArvRYEKT7w/ReYe91tNl1c9fP6mxh57t27tW5dveczrW0ybWyf/cgzH33rD7p99Qm10rr6UFWnzD3bwoAQDIec7pS1HSlqC8ZMB5zsd7qnfDn3Jo+eXpJS2tJK+bZWkP1ZqS5qbSr7GyyFmY2HjOb8If1MYHR27MT5rj7hyVdZ2ZfJuldZvYn7r7eV+Z2pWMjr3vBNf70l33fCGq6D+WCaiesbwigG49tH3rzgVWS4m4Iz47lQ/GAAN3zecCxbuD2XGCOO9vmWf2y47GCuJ3bl5bPgrjH6R8D0vPy11f3WvnP1qlXvPl5PffPnxPn6hfn6pJdI+78O1mnTPYHg+52cp/8NbPPueOS3LKAnYXOrCV8k/BpaXDtCd6FXDgO5EGhL2AXktCantNTPgjTfWHuc3J+95xCp5xy1+/eM38s3KI+fWVz36Fz71x55Y8F4ab3y9ePEA5gPwkC06Gpkg5NlbYt12zHWqo3da7W0mIaNLPxmEv1pHXzbK2pZjvWXLXUCZWdiX5yy5YcnSlrdoKQCQzDMMPjaUlX5D5fnu7brMyTZlaQNKtk4pwOd/+0ma1K+nJJDw6vutixTtfV5OMm7awYR94fgPPhsj/w9gfQOLc/2nis53pR97pp+d7ze9+DuCVr58+P+0J2tEl4jvtCf/6e0Ybze+/Z+7l73Whj+Tjqqbd5lAvfuSCbfc4F53yZJIx2g7EHhVwwLnSDcFDMbWfBuphup/uCdF/PeWGnjLLr99yn0BfWCz1lZKHioLjFub11VMAEGwA2KhUCzU9XND+99dIlUhIy862Yi/WmHn16uTPpz+JaS2drDbXarsPTZR2pJi2Zx2YqOjbbbcnMgiYzywLnZ5jh8QFJ15jZVUpC4s2SvruvzAlJr5V0v6SbJL3f3T0951TalfX5kl4g6Ykh1hXAIJZ1Ne7ijwXnKd/CnA/GWQCN+wPuZkE7Ss+LcuE6SoJq/nNf2SBqyNpr6bFokzpEPYG4e518GG5vUY/u/bvntDfui5PRB72ttGFfQM234hZ7A/OGsoW+gJsPrsW+wFzIXS9r4S4ozspmITstF4f584ud9zhfLijl7l1UnAZpWpeB4SkVgk5L43Ya7UiLufGYC2stffqpZd3/2WanG+251aZasSeT/nRaMssbQ+ZMRdNlQiYgDTE8psHv9ZLep2Spjjvd/WEze6OkB939hKQ7JN1lZiclnVMSMCXpayS9wcxaSgbu/ZC7nxlWXQFgV/SNxd2X4bunBTcJnb1hNE6CZxZg420Cc9a6OzAwd6/ZH5i7wbc/CLdz+9t9+/Lv7e57HEnyvpbewsbPG8JpPpj2Btk4KPXsi8NSGoL7z+sPzKX0/N7wmy8X94fm9FoEYIyDciHU0ZlwYMhcb0WdFsusNfPh00v6f/VWZ1mTc7WmotzyJUdmKjo+W+ksW5LtOzpTVpWQiTFn7uPxny/XveAaf/cdvzzqagAA9rNOC20aPHtCZn84bW8RWNs9+7RhX9QXvntDcG/wjfqCbpSrSxZ6+/dHijeE3yxkZi3CxS3DaRyUkyAaltL3/OdSElp7totpcE335T/3HEvO64bekuKw1Jl0DRimejPqjMXMQuVSvaWlejJG81ytpXO1hiTT4WqpEyaP5cZlzk93Z5etlvfstCPYmX37FwKeXAAALhYLkmA06no8F1mrbJy2uuaDZU9AbefCaZRrhc0H05bM2wraawqbK+nn7Vpxo6RM3N+qm20nx4K4LYubSR3SyavyLbc922Gpb38pF2zzATcfbHOhd8O1St39nTCbBN3O9fPXCUqM9R0DE6VQE6Xtly+RkpCZjcnMWjM/cWpJS/UznfB5ttZUYKbDPd1lk5bMbM3MbP8UIRN7DE8kAADoyiZxCoqjrslg2cRXnWDZ26IaeKuvdbW1MZSmn4N2XaGvbGiJVRZWs+0NgbY3KOc/B3FLFrckWW8347A/5Pa3whblQTlthU3CbhxWuiE3LCfbYSltoU3eN+wLy7ntUu+5QZFW2yHIQubzBqyRWW9FPWtkLq619PFTi1qsNztjNc/WmgoD63SXPZp2l02WLqnoaNpd9sh0mZCJXcOTBgAALk2dNWtDeVgedW22lnVn7g+Ym2wHG461Ou+F5or6W2E3D6zZ8Va6r53bbnbKxVbIhc181+HSJiG03AmhcVDuhtlsXyfYlnKBtxt2u8G1/x7JPgX75z9JzUyTpYImSwVdNiBkrjWj7njMtaYWak2dXlzQ4lpLi+k6mQudlsySDk8n62FmE/0cmS6n4TPpNjs3VVIQ7Nsel7gIdvT/VDP7AyWT2/yJe2chPgAAAAySdWcOt1/rcFe5J8Ezask86w6cBc9mLoxu9rmlIFpX2FrdNBAHPeG1nbt2PtDmwmzUSqqUBtj+8bH5YNoNtJW+1tSKPA2nm7a8BqXu8U7LbRKK40Il1yJb2jMTRpmZpsoFTZULuuzg4JbMxbWWFtMxmItrrXQJk7aW663OWM3VRlsHJ4uar5Y1n4bLrLtsf9CsFOlujY12+meed0r6Pkm/Yma/J+m33P3R4VULAAAAQ2PWmfxoT4gjmafhtBNoW33BMz/utdnzudBc3qZld7PrNBVEzVyAbSqIm0mL7CYtp0lLabkTVOMN2xOKC/kQmz9e6obVvvM6+4Lk/ULGx+ZbMrfrLitJ7ShOJvmpt9LWy6aeXl7XZ7640tmfdaUtF0LNVUvJbLJpa2Y28U8WMI9Ml3VgssgMs/vIjsKju/9fSf/XzGYl3ZJun5L0G5J+191bQ6wjAAAAxlmQdD+OQkmjzLOdLsbNbtiMerv7WpTbTssFUUNha1WBt6QoPZa17PaVtfQanX1pcLWomaxVm+se3G1lzY1z7YTPSne7UO79vE1YnQlLuqxcVjyZ7Z+Sh2W5FTqtru6uWiPqjMHMWjQ/dXpJy7nwea7WVKMd6dBUqWcCoKzb7Hw1fZ8ua75aVqnAONtL3Y47mJvZnKRXS3qNpI9J+u9K1mN8raR/OozKAQAAALsm18V418dpuaeTNaXhNA2p3dCahdhmzz6LWyo0lmTxmZ4W2qA/BMctBVEWYpvpuWmLa9SU3LtjUTutoaW+EJq2rlbLimbL8rCiVlDRmhdVi4pajQpaXipo+WyopXZBn2+GWmiGOtMwnVkPpOKkpqaqmpqq6sDsjOZmZzU/O5mEy1yL5kyF9TL3qp2OefxDSV8q6S5J3+buT6WH7jGzB4dVOQAAAGBfMJOna6xKUrTb94+jTmtoflxqt5U013qaa40ttVdVjls6lB/HqrbMmgqKTQVBU1ZqKphsSlFDajUVnGsoONNUIW4qUqCWldRQSQ0v6pwX9QUVFQVJOPXihILShArlSRXKUypNVFWZqGqyWtXEZFVhaUIqTEjFys7ew+KeGdd6Kdppy+NvuPt9+R1mVnb3hrtfP4R6AQAAANgtQag4CCVVdu+enYmbmrmxpy1Zc11xo65Go65mY12txrqi5rqiekN+5hnFrVOK2w0pamkyjDUZxpoqRJoIklfZ2ipZW0VvqeAthXFD1m5K7fXkvoWyVKgkr2Klb3tCKqav/HZxMjlenJRe8v2792+0x+w0PL5J0n19++6X9JUXtzoAAAAA9oXcxE2xpnoOhZIm09dWYnfVmm2trEd6qpHMJru6Hmmt2dZqs63aelsrzbZW1lsymWYnijpYDjQ34TpUkQ5VpAMl12wx1nTRVS3EqhaS4GntVtJS2m5Ka+ek6GkpakpRi/C4FTM7JukySRNm9g8lZW28M9r+f0sAAAAAGJrATNPloqbLRW3XYuruakSxautt1Rpt1ZqRVhttPdFoa22lrXoz0up6pNVmW6vrrlihZipVzVYKmp0sJaFzsqgDE0XNTpb0st37invOoJbHb5L0vZIul/RLuf0rkn56SHUCAAAAgIvCzFQphKpUQ81VywPLN9uxas22Vhtp2GxEWlhr6fRiXbVmpJd9/S5Ueo/aNjy6+7skvcvMXunuv79LdQIAAACAkSgVApUKJR2cLI26KnvOoG6rr3b335V0pZn9WP9xd/+lTU4DAAAAAIyZQd1Ws5Gr1WFXBAAAAACwdw3qtvrr6fvP7U51AAAAAGB8mNm/l/TdSpbvjCX9gLt/+Dle89slXevub74I9Vt19x01FgY7vOAvmNmMmRXN7M/M7Fkze/VzqyYAAAAAjC8ze5mkb5X0le7+DyR9g6RTOzx3y4Y+dz9xMYLj+dpReJT0je6+rOSLPyHpakn/bliVAgAAAIAxcFzSGXdvSJK7n3H3L5jZE2Z2WJLM7Hoz+2C6fZuZ3WVmfyXpLjP7azO7LruYmX0wLf+9ZvZ2M5s1s8+ZWZAenzKzU2mj3983s/ea2UfN7ENm9oK0zFVmdr+ZfcrM3nQ+X2an4TFLvd8i6ffcfel8bgIAAAAA+9D/kXSFmX3GzN5pZv9kB+dcK+kb3P0WSfdI+i5JMrPjko67+4NZwTSXfVxSdt1vlfQ+d29Jul3Sv3H3F0v6cUnvTMu8TdKvufsLJT11Pl9mp+HxPWb2t5JeLOnPzGxe0vr53AgAAAAA9hN3X1WSoW6V9Kyke8zsewecdsLd6+n2uyXdlG5/l6R7Nyl/j6RXpds3p/eoSvpqSb9nZh+X9OtKWkEl6eWS/me6fdf5fJ9Bs61Kktz9DWb2C5KW3D0ys5qkG8/nRgAAAACw37h7JOmDkj5oZp+S9FpJbXUb8ip9p9Ry5542s7Nm9g+UBMQf3OQWJyT9ZzM7pCSovl/JqhmL7v6irap1Id9lpy2PkvQCSa8ys+9Rkn6/8UJuCAAAAAD7gZl9qZldk9v1IkmfUzKPzIvTfa8ccJl7JP2EpFl3/2T/wbR18wEl3VHf4+5ROl/N42b2nWk9zMy+Ij3lr5S0UErSvzyf77PT2VbvkvSLkr5G0lelr+vP50YAAAAAsM9UJb3LzB4xs08qGc94m6Sfk/Q2M3tQyRIe27lXSdh79zZl7pH06vQ98y8lvc7MPiHpYXV7jv6IpB9OW0EvO58vY+6DWyzN7NNK1hG5oObN3XDdC67xd9/xy6OuBgAAAIAxdt3Lv8VGXYdR2Wm31YckHRtmRQAAAAAAe9eOJsyRdFjSI2b2EUmNbKe7f/tQagUAAAAA2FN2Gh5vG2YlAAAAAAB72466rbr7nyuZEaiYbj8g6W8GnWdmN5jZo2Z20szesMnxspndkx7/sJldme5/hZl91Mw+lb5/3fl8KQAAAADAxbXT2Va/X8ksP7+e7rpM0h8NOCeU9A5J36xkVqFbzOzavmKvk7Tg7ldLequkt6T7z0j6Nnd/oZJ1UM5r8UoAAAAAwMW10wlzfljSyyUtS5K7/52kIwPOeYmkk+7+mLs3Jd2t7vSwmRslvSvdvlfS15uZufvH3P0L6f6HJU2YWXmHdQUAAAAAXGQ7DY+NNABKksysIGnQsh2XSTqV+/ykNq4j0inj7m1JS5Lm+sq8UtLfuHujb7/M7FYze9DMHlxYXNrRFwEAAACA/WTQcMKd2umEOX9uZj+tpAXwFZJ+SNL/vtCb7pSZXaekK+s3bnbc3W+XdLuUrPM47PoAAAAAwIW68g1//HlJV1zES5564s3f8iXbFcgNJ3yFkga9B8zshLs/cr4322l4fIOS8YmfkvQDku6T9JsDzjmt3n+Yy9N9m5V5Mm3NnJV0VpLM7HJJfyjpe9z9szusJwAAAADsVVdI+tqLeL0P7KBMZzihJJlZNpxwOOHR3WMz+yNJf+Tuz+7w2g9IusbMrlISEm+W9N19ZU4omRDnfkk3SXq/u7uZHZD0x5Le4O5/tcP7AQAAAAB6bTac8KUXcqFtxzxa4jYzOyPpUUmPmtmzZvazgy6cjmF8vaT3Sfq0pHe7+8Nm9kYz+/a02B2S5szspKQfU9LCqfS8qyX9rJl9PH0NmqAHAAAAADAkg1oef1TJLKtf5e6PS5KZ/T1Jv2ZmP+rub93uZHe/T0kX1/y+n81tr0v6zk3Oe5OkN+3oGwAAAAAAtrKT4YQ7Mmi21ddIuiULjpKU9pV9taTvuZAbAgAAAAB2TWc4oZmVlAwnPHEhFxrU8lh09zP9O939WTMrXsgNAQAAAAC7w93bZpYNJwwl3enuD1/ItQaFx+YFHgMAAAAA9Dqlnc2Qej7XG2iz4YQXYlB4/AozW95kv0mqPNebAwAAAMB+MWhNxr1u2/Do7uFuVQQAAAAAsHcNmjAHAAAAAADCIwAAAABgMMIjAAAAAGAgwiMAAAAAYCDCIwAAAACMKTO708yeMbOHnuu1Bi3VAQAAAAC4GG6b/bykKy7iFU/ptqVBy3/8tqS3S/qd53ozwiMAAAAA7I4rJH3tRbzeBwYVcPe/MLMrL8bN6LYKAAAAABiI8AgAAAAAGIjwCAAAAAAYiPAIAAAAABiI8AgAAAAAY8rM/qek+yV9qZk9aWavu9BrMdsqAAAAAOyOU9rBDKnneb1tufstF+tmhEcAAAAA2A2D12Tc0+i2CgAAAAAYiPAIAAAAABiI8AgAAAAAGIjwCAAAAAAYiPAIAAAAABiI8AgAAAAAGIjwCAAAAAAYaKjh0cxuMLNHzeykmb1hk+NlM7snPf5hM7sy3T9nZh8ws1Uze/sw6wgAAAAAGGxo4dHMQknvkPTNkq6VdIuZXdtX7HWSFtz9aklvlfSWdP+6pP8g6ceHVT8AAAAAwM4Ns+XxJZJOuvtj7t6UdLekG/vK3CjpXen2vZK+3szM3Wvu/pdKQiQAAAAAYMSGGR4vk3Qq9/nJdN+mZdy9LWlJ0txOb2Bmt5rZg2b24MLi0nOsLgAAAABgK5f0hDnufru7X+/u1x88MDvq6gAAAADA2BpmeDwt6Yrc58vTfZuWMbOCpFlJZ4dYJwAAAADABRhmeHxA0jVmdpWZlSTdLOlEX5kTkl6bbt8k6f3u7kOsEwAAAADgAhSGdWF3b5vZ6yW9T1Io6U53f9jM3ijpQXc/IekOSXeZ2UlJ55QETEmSmT0haUZSycy+Q9I3uvsjw6ovAAAAAGBrQwuPkuTu90m6r2/fz+a21yV95xbnXjnMugEAAAAAdu6SnjAHAAAAALA7CI8AAAAAgIEIjwAAAACAgQiPAAAAAICBCI8AAAAAgIEIjwAAAACAgQiPAAAAAICBCI8AAAAAgIEIjwAAAACAgQiPAAAAAICBCI8AAAAAgIEIjwAAAACAgQiPAAAAAICBCI8AAAAAgIEIjwAAAACAgQiPAAAAAICBCI8AAAAAgIEIjwAAAACAgQiPAAAAAICBCI8AAAAAgIEIjwAAAACAgQiPAAAAAICBCI8AAAAAgIEIjwAAAACAgQiPAAAAAICBCI8AAAAAgIEIjwAAAACAgYYaHs3sBjN71MxOmtkbNjleNrN70uMfNrMrc8d+Kt3/qJl90zDrCQAAAADY3tDCo5mFkt4h6ZslXSvpFjO7tq/Y6yQtuPvVkt4q6S3puddKulnSdZJukPTO9HoAAAAAgBEoDPHaL5F00t0fkyQzu1vSjZIeyZW5UdJt6fa9kt5uZpbuv9vdG5IeN7OT6fXu3+pmtvKU7IM/f9G/BAAAAAB0vPxbRl2DkRlmeLxM0qnc5yclvXSrMu7eNrMlSXPp/r/uO/ey/huY2a2Sbk0/Nq77mfsfujhVB87bYUlnRl0J7Es8exglnj+MCs8eRudn7CF3//JRV2MUhhkeh87db5d0uySZ2YPufv2Iq4R9iucPo8Kzh1Hi+cOo8OxhlMzswVHXYVSGOWHOaUlX5D5fnu7btIyZFSTNSjq7w3MBAAAAALtkmOHxAUnXmNlVZlZSMgHOib4yJyS9Nt2+SdL73d3T/Tens7FeJekaSR8ZYl0BAAAAANsYWrfVdAzj6yW9T1Io6U53f9jM3ijpQXc/IekOSXelE+KcUxIwlZZ7t5LJddqSftjdowG3vH1Y3wXYAZ4/jArPHkaJ5w+jwrOHUdq3z58lDX0AAAAAAGxtmN1WAQAAAABjgvAIAAAAABjokgyPZlYxs4+Y2SfM7GEz+7l0/1Vm9mEzO2lm96QT9QAXzTbP3uvT587N7PCo64nxtM3z99/N7FEze8jM7jSz4qjrivGyzbN3R7rvk2Z2r5lVR11XjJ+tnr/c8V8xs9VR1Q/ja5uffb9tZo+b2cfT14tGXNVdc0mOeTQzkzTl7qvpfyT9paQfkfRjkv7A3e82s/8m6RPu/mujrCvGyzbPXkPSgqQPSrre3Vm4GBfdNs/fIUl/khb7H5L+gp99uJi2efYecffltMwvSXrG3d88wqpiDG31/Ln7X5vZ9UqexX/u7vzxAhfVNj/7flDSe9z93pFWcAQuyZZHT2R/YSqmL5f0dZKy/xHfJek7dr92GGdbPXvu/jF3f2J0NcN+sM3zd196zJUsa3T5yCqJsbTNs5cFR5M0oeR3MXBRbfX8mVko6b9K+omRVQ5jbZvMsW9dkuFRkswsNLOPS3pG0p9K+qykRXdvp0WelHTZiKqHMdb/7Ln7h0dcJewj2z1/6V9FXyPpvSOqHsbYVs+emf2WpKclvUDSr46uhhhnWzx/r5d0wt2fGmnlMNa2+b3782mX/beaWXl0Ndxdl2x4dPfI3V+k5C/sL1HySwsYuv5nz8y+fMRVwj4y4Pl7p5Iuqx8aSeUw1rZ69tz9+yQ9T9KnJb1qdDXEONvk+fvHkr5T/MECQ7bFz76fUpI9vkrJ0JGfHF0Nd9clGx4z7r4o6QOSXibpgJkV0kOXSzo9qnph/OWevRtGXBXsQ/3Pn5n9R0nzSsZ+A0Oz2c8+d48k3S3plSOqFvaJ3PP3tZKulnTSzJ6QNGlmJ0dYNYy5/M8+d38q7dLakPRbShqy9oVLMjya2byZHUi3JyS9QslfPD8g6aa02Gsl/a+RVBBja4tn729HWinsG1s9f2b2ryR9k6Rb3D0eYRUxprZ49h41s6vTfSbp28XPQwzBFs/fR939mLtf6e5XSlpz96tHWE2MoW1+7x5P95mSOVYeGlUdd1thcJE96bikd6UDpQNJ73b395jZI5LuNrM3SfqYpDtGWUmMpa2evX+rZMD+MUmfNLP73P1fjbKiGEtbPX9tSZ+TdH/ye0x/4O5vHGE9MX42PHuS/ljSh8xsRpJJ+oSkfz26KmKMbfqzb8R1wv6w1e/d95vZvJKffR9XMvvqvnBJLtUBAAAAANhdl2S3VQAAAADA7iI8AgAAAAAGIjwCAAAAAAYiPAIAAAAABiI8AgAAAAAGIjwCAMaamX2HmbmZvWDUdQEA4FJGeAQAjLtbJP1l+g4AAC4Q4REAMLbMrCrpayS9TtLN6b7AzN5pZn9rZn9qZveZ2U3psReb2Z+b2UfN7H1mdnyE1QcAYE8hPAIAxtmNkt7r7p+RdNbMXizpX0i6UtK1kl4j6WWSZGZFSb8q6SZ3f7GkOyX9/CgqDQDAXlQYdQUAABiiWyS9Ld2+O/1ckPR77h5LetrMPpAe/1JJXy7pT81MkkJJT+1udQEA2LsIjwCAsWRmhyR9naQXmpkrCYMu6Q+3OkXSw+7+sl2qIgAAlxS6rQIAxtVNku5y9+e7+5XufoWkxyWdk/TKdOzjUUn/NC3/qKR5M+t0YzWz60ZRcQAA9iLCIwBgXN2ija2Mvy/pmKQnJT0i6Xcl/Y2kJXdvKgmcbzGzT0j6uKSv3rXaAgCwx5m7j7oOAADsKjOruvuqmc1J+oikl7v706OuFwAAexljHgEA+9F7zOyApJKk/0RwBABgMFoeAQAAAAADMeYRAAAAADAQ4REAAAAAMBDhEQAAAAAwEOERAAAAADAQ4REAAAAAMND/B5tzGflLa2nyAAAAAElFTkSuQmCC\n",
      "text/plain": [
       "<Figure size 915.875x216 with 1 Axes>"
      ]
     },
     "metadata": {
      "needs_background": "light"
     },
     "output_type": "display_data"
    }
   ],
   "source": [
    "facet = sns.FacetGrid(train, hue='Survived', aspect=4)\n",
    "facet.map(sns.kdeplot,'Age',shade=True)\n",
    "facet.set(xlim=(0, train['Age'].max()))\n",
    "facet.add_legend()\n",
    "plt.xlim(30,35) #30~35살 까지"
   ]
  },
  {
   "cell_type": "code",
   "execution_count": 31,
   "id": "a4e1c2f9",
   "metadata": {
    "execution": {
     "iopub.execute_input": "2022-08-11T14:20:57.179848Z",
     "iopub.status.busy": "2022-08-11T14:20:57.179466Z",
     "iopub.status.idle": "2022-08-11T14:20:57.469376Z",
     "shell.execute_reply": "2022-08-11T14:20:57.468140Z"
    },
    "papermill": {
     "duration": 0.326265,
     "end_time": "2022-08-11T14:20:57.471838",
     "exception": false,
     "start_time": "2022-08-11T14:20:57.145573",
     "status": "completed"
    },
    "tags": []
   },
   "outputs": [
    {
     "data": {
      "text/plain": [
       "(36.0, 60.0)"
      ]
     },
     "execution_count": 31,
     "metadata": {},
     "output_type": "execute_result"
    },
    {
     "data": {
      "image/png": "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\n",
      "text/plain": [
       "<Figure size 915.875x216 with 1 Axes>"
      ]
     },
     "metadata": {
      "needs_background": "light"
     },
     "output_type": "display_data"
    }
   ],
   "source": [
    "facet = sns.FacetGrid(train, hue='Survived', aspect=4)\n",
    "facet.map(sns.kdeplot,'Age',shade=True)\n",
    "facet.set(xlim=(0, train['Age'].max()))\n",
    "facet.add_legend()\n",
    "plt.xlim(36,60) #30~60살 까지"
   ]
  },
  {
   "cell_type": "markdown",
   "id": "11156e97",
   "metadata": {
    "papermill": {
     "duration": 0.033269,
     "end_time": "2022-08-11T14:20:57.538461",
     "exception": false,
     "start_time": "2022-08-11T14:20:57.505192",
     "status": "completed"
    },
    "tags": []
   },
   "source": [
    "#### Binning 작업 - 나이대 별로 그룹을 묶어주자 "
   ]
  },
  {
   "cell_type": "code",
   "execution_count": 32,
   "id": "e94b65cb",
   "metadata": {
    "execution": {
     "iopub.execute_input": "2022-08-11T14:20:57.608599Z",
     "iopub.status.busy": "2022-08-11T14:20:57.608150Z",
     "iopub.status.idle": "2022-08-11T14:20:57.630899Z",
     "shell.execute_reply": "2022-08-11T14:20:57.629762Z"
    },
    "papermill": {
     "duration": 0.06104,
     "end_time": "2022-08-11T14:20:57.633199",
     "exception": false,
     "start_time": "2022-08-11T14:20:57.572159",
     "status": "completed"
    },
    "tags": []
   },
   "outputs": [
    {
     "data": {
      "text/html": [
       "<div>\n",
       "<style scoped>\n",
       "    .dataframe tbody tr th:only-of-type {\n",
       "        vertical-align: middle;\n",
       "    }\n",
       "\n",
       "    .dataframe tbody tr th {\n",
       "        vertical-align: top;\n",
       "    }\n",
       "\n",
       "    .dataframe thead th {\n",
       "        text-align: right;\n",
       "    }\n",
       "</style>\n",
       "<table border=\"1\" class=\"dataframe\">\n",
       "  <thead>\n",
       "    <tr style=\"text-align: right;\">\n",
       "      <th></th>\n",
       "      <th>PassengerId</th>\n",
       "      <th>Survived</th>\n",
       "      <th>Pclass</th>\n",
       "      <th>Sex</th>\n",
       "      <th>Age</th>\n",
       "      <th>SibSp</th>\n",
       "      <th>Parch</th>\n",
       "      <th>Ticket</th>\n",
       "      <th>Fare</th>\n",
       "      <th>Cabin</th>\n",
       "      <th>Embarked</th>\n",
       "      <th>Title</th>\n",
       "    </tr>\n",
       "  </thead>\n",
       "  <tbody>\n",
       "    <tr>\n",
       "      <th>0</th>\n",
       "      <td>1</td>\n",
       "      <td>0</td>\n",
       "      <td>3</td>\n",
       "      <td>0</td>\n",
       "      <td>1</td>\n",
       "      <td>1</td>\n",
       "      <td>0</td>\n",
       "      <td>A/5 21171</td>\n",
       "      <td>7.2500</td>\n",
       "      <td>NaN</td>\n",
       "      <td>S</td>\n",
       "      <td>0</td>\n",
       "    </tr>\n",
       "    <tr>\n",
       "      <th>1</th>\n",
       "      <td>2</td>\n",
       "      <td>1</td>\n",
       "      <td>1</td>\n",
       "      <td>1</td>\n",
       "      <td>3</td>\n",
       "      <td>1</td>\n",
       "      <td>0</td>\n",
       "      <td>PC 17599</td>\n",
       "      <td>71.2833</td>\n",
       "      <td>C85</td>\n",
       "      <td>C</td>\n",
       "      <td>2</td>\n",
       "    </tr>\n",
       "    <tr>\n",
       "      <th>2</th>\n",
       "      <td>3</td>\n",
       "      <td>1</td>\n",
       "      <td>3</td>\n",
       "      <td>1</td>\n",
       "      <td>1</td>\n",
       "      <td>0</td>\n",
       "      <td>0</td>\n",
       "      <td>STON/O2. 3101282</td>\n",
       "      <td>7.9250</td>\n",
       "      <td>NaN</td>\n",
       "      <td>S</td>\n",
       "      <td>1</td>\n",
       "    </tr>\n",
       "    <tr>\n",
       "      <th>3</th>\n",
       "      <td>4</td>\n",
       "      <td>1</td>\n",
       "      <td>1</td>\n",
       "      <td>1</td>\n",
       "      <td>2</td>\n",
       "      <td>1</td>\n",
       "      <td>0</td>\n",
       "      <td>113803</td>\n",
       "      <td>53.1000</td>\n",
       "      <td>C123</td>\n",
       "      <td>S</td>\n",
       "      <td>2</td>\n",
       "    </tr>\n",
       "    <tr>\n",
       "      <th>4</th>\n",
       "      <td>5</td>\n",
       "      <td>0</td>\n",
       "      <td>3</td>\n",
       "      <td>0</td>\n",
       "      <td>2</td>\n",
       "      <td>0</td>\n",
       "      <td>0</td>\n",
       "      <td>373450</td>\n",
       "      <td>8.0500</td>\n",
       "      <td>NaN</td>\n",
       "      <td>S</td>\n",
       "      <td>0</td>\n",
       "    </tr>\n",
       "  </tbody>\n",
       "</table>\n",
       "</div>"
      ],
      "text/plain": [
       "   PassengerId  Survived  Pclass  Sex Age  SibSp  Parch            Ticket  \\\n",
       "0            1         0       3    0   1      1      0         A/5 21171   \n",
       "1            2         1       1    1   3      1      0          PC 17599   \n",
       "2            3         1       3    1   1      0      0  STON/O2. 3101282   \n",
       "3            4         1       1    1   2      1      0            113803   \n",
       "4            5         0       3    0   2      0      0            373450   \n",
       "\n",
       "      Fare Cabin Embarked  Title  \n",
       "0   7.2500   NaN        S      0  \n",
       "1  71.2833   C85        C      2  \n",
       "2   7.9250   NaN        S      1  \n",
       "3  53.1000  C123        S      2  \n",
       "4   8.0500   NaN        S      0  "
      ]
     },
     "execution_count": 32,
     "metadata": {},
     "output_type": "execute_result"
    }
   ],
   "source": [
    "def age_binning(data): \n",
    "    if int(data) <= 20 :\n",
    "        return '0'\n",
    "    elif (int(data)>20) and (int(data)<=30):\n",
    "        return '1'\n",
    "    elif (int(data)>30) and (int(data)<=35):\n",
    "        return '2'\n",
    "    elif (int(data)>35) and (int(data)<=60):\n",
    "        return '3'\n",
    "    elif int(data)>60:\n",
    "        return '4'\n",
    "\n",
    "for dataset in train_test_data:\n",
    "    dataset['Age'] = dataset['Age'].apply(age_binning) \n",
    "\n",
    "train.head()"
   ]
  },
  {
   "cell_type": "code",
   "execution_count": 33,
   "id": "efa09808",
   "metadata": {
    "execution": {
     "iopub.execute_input": "2022-08-11T14:20:57.702303Z",
     "iopub.status.busy": "2022-08-11T14:20:57.701483Z",
     "iopub.status.idle": "2022-08-11T14:20:57.717268Z",
     "shell.execute_reply": "2022-08-11T14:20:57.716127Z"
    },
    "papermill": {
     "duration": 0.053163,
     "end_time": "2022-08-11T14:20:57.719791",
     "exception": false,
     "start_time": "2022-08-11T14:20:57.666628",
     "status": "completed"
    },
    "tags": []
   },
   "outputs": [
    {
     "data": {
      "text/html": [
       "<div>\n",
       "<style scoped>\n",
       "    .dataframe tbody tr th:only-of-type {\n",
       "        vertical-align: middle;\n",
       "    }\n",
       "\n",
       "    .dataframe tbody tr th {\n",
       "        vertical-align: top;\n",
       "    }\n",
       "\n",
       "    .dataframe thead th {\n",
       "        text-align: right;\n",
       "    }\n",
       "</style>\n",
       "<table border=\"1\" class=\"dataframe\">\n",
       "  <thead>\n",
       "    <tr style=\"text-align: right;\">\n",
       "      <th></th>\n",
       "      <th>PassengerId</th>\n",
       "      <th>Survived</th>\n",
       "      <th>Pclass</th>\n",
       "      <th>Sex</th>\n",
       "      <th>Age</th>\n",
       "      <th>SibSp</th>\n",
       "      <th>Parch</th>\n",
       "      <th>Ticket</th>\n",
       "      <th>Fare</th>\n",
       "      <th>Cabin</th>\n",
       "      <th>Embarked</th>\n",
       "      <th>Title</th>\n",
       "    </tr>\n",
       "  </thead>\n",
       "  <tbody>\n",
       "    <tr>\n",
       "      <th>0</th>\n",
       "      <td>1</td>\n",
       "      <td>0</td>\n",
       "      <td>3</td>\n",
       "      <td>0</td>\n",
       "      <td>1</td>\n",
       "      <td>1</td>\n",
       "      <td>0</td>\n",
       "      <td>A/5 21171</td>\n",
       "      <td>7.2500</td>\n",
       "      <td>NaN</td>\n",
       "      <td>S</td>\n",
       "      <td>0</td>\n",
       "    </tr>\n",
       "    <tr>\n",
       "      <th>1</th>\n",
       "      <td>2</td>\n",
       "      <td>1</td>\n",
       "      <td>1</td>\n",
       "      <td>1</td>\n",
       "      <td>3</td>\n",
       "      <td>1</td>\n",
       "      <td>0</td>\n",
       "      <td>PC 17599</td>\n",
       "      <td>71.2833</td>\n",
       "      <td>C85</td>\n",
       "      <td>C</td>\n",
       "      <td>2</td>\n",
       "    </tr>\n",
       "    <tr>\n",
       "      <th>2</th>\n",
       "      <td>3</td>\n",
       "      <td>1</td>\n",
       "      <td>3</td>\n",
       "      <td>1</td>\n",
       "      <td>1</td>\n",
       "      <td>0</td>\n",
       "      <td>0</td>\n",
       "      <td>STON/O2. 3101282</td>\n",
       "      <td>7.9250</td>\n",
       "      <td>NaN</td>\n",
       "      <td>S</td>\n",
       "      <td>1</td>\n",
       "    </tr>\n",
       "    <tr>\n",
       "      <th>3</th>\n",
       "      <td>4</td>\n",
       "      <td>1</td>\n",
       "      <td>1</td>\n",
       "      <td>1</td>\n",
       "      <td>2</td>\n",
       "      <td>1</td>\n",
       "      <td>0</td>\n",
       "      <td>113803</td>\n",
       "      <td>53.1000</td>\n",
       "      <td>C123</td>\n",
       "      <td>S</td>\n",
       "      <td>2</td>\n",
       "    </tr>\n",
       "    <tr>\n",
       "      <th>4</th>\n",
       "      <td>5</td>\n",
       "      <td>0</td>\n",
       "      <td>3</td>\n",
       "      <td>0</td>\n",
       "      <td>2</td>\n",
       "      <td>0</td>\n",
       "      <td>0</td>\n",
       "      <td>373450</td>\n",
       "      <td>8.0500</td>\n",
       "      <td>NaN</td>\n",
       "      <td>S</td>\n",
       "      <td>0</td>\n",
       "    </tr>\n",
       "  </tbody>\n",
       "</table>\n",
       "</div>"
      ],
      "text/plain": [
       "   PassengerId  Survived  Pclass  Sex Age  SibSp  Parch            Ticket  \\\n",
       "0            1         0       3    0   1      1      0         A/5 21171   \n",
       "1            2         1       1    1   3      1      0          PC 17599   \n",
       "2            3         1       3    1   1      0      0  STON/O2. 3101282   \n",
       "3            4         1       1    1   2      1      0            113803   \n",
       "4            5         0       3    0   2      0      0            373450   \n",
       "\n",
       "      Fare Cabin Embarked  Title  \n",
       "0   7.2500   NaN        S      0  \n",
       "1  71.2833   C85        C      2  \n",
       "2   7.9250   NaN        S      1  \n",
       "3  53.1000  C123        S      2  \n",
       "4   8.0500   NaN        S      0  "
      ]
     },
     "execution_count": 33,
     "metadata": {},
     "output_type": "execute_result"
    }
   ],
   "source": [
    "train.head()"
   ]
  },
  {
   "cell_type": "code",
   "execution_count": 34,
   "id": "feb83333",
   "metadata": {
    "execution": {
     "iopub.execute_input": "2022-08-11T14:20:57.789398Z",
     "iopub.status.busy": "2022-08-11T14:20:57.788967Z",
     "iopub.status.idle": "2022-08-11T14:20:57.963409Z",
     "shell.execute_reply": "2022-08-11T14:20:57.962584Z"
    },
    "papermill": {
     "duration": 0.211828,
     "end_time": "2022-08-11T14:20:57.965780",
     "exception": false,
     "start_time": "2022-08-11T14:20:57.753952",
     "status": "completed"
    },
    "tags": []
   },
   "outputs": [
    {
     "data": {
      "image/png": "iVBORw0KGgoAAAANSUhEUgAAAlYAAAFRCAYAAAC2SOM6AAAAOXRFWHRTb2Z0d2FyZQBNYXRwbG90bGliIHZlcnNpb24zLjUuMiwgaHR0cHM6Ly9tYXRwbG90bGliLm9yZy8qNh9FAAAACXBIWXMAAAsTAAALEwEAmpwYAAAXMklEQVR4nO3de7BdVZ0n8O+PBEx3A9JgoKhc7OBAKxGVR1AcKYbH0AoyaImNWDhGwaGsijVtM1O2dnVNj+NU+ajyQbeOyjRdg0+0dRwYZWhp4qOHGqVBaEFph7REczMoMQriIxLimj/uRm9jQm5yVzzn3Pv5VN06e629zzq/W1TdfFl77XWqtRYAAOZvn1EXAACwUAhWAACdCFYAAJ0IVgAAnQhWAACdCFYAAJ0sHXUBSfKEJzyhrVy5ctRlAADs0q233vq91tryHZ0bi2C1cuXK3HLLLaMuAwBgl6rqWzs751YgAEAnghUAQCeCFQBAJ2OxxgoAWFy2bduW6enpbN26ddSl7NSyZcsyNTWVfffdd87vEawAgF+76enpHHDAAVm5cmWqatTl/IrWWrZs2ZLp6ekceeSRc36fW4EAwK/d1q1bc8ghh4xlqEqSqsohhxyy2zNqghUAMBLjGqoesSf1CVYAwKJ08cUX59BDD82xxx7bbUxrrACAkVv5+s90HW/DW56/y2te8YpX5DWveU1e/vKXd/tcM1YAwKJ06qmn5uCDD+46pmAFANCJW4EAi8x7Xr1u1CUwIda+74xRlzBxzFgBAHQiWAEAdCJYAQCL0ktf+tI8+9nPzje+8Y1MTU3lyiuvnPeY1lgBACM3l+0RevvoRz/afUwzVgAAnQhWAACdCFYAAJ1YYwWwyJzx+bWjLoGJcdeoC5g4ZqwAADoRrAAAOhGsAIBF6frrr8+Tn/zkHHXUUXnLW97SZUxrrACA0fuPj+883gOPeXr79u1Zu3ZtbrjhhkxNTeWkk07Keeedl1WrVs3rY81YAQCLzs0335yjjjoqT3rSk7LffvvlwgsvzDXXXDPvcQUrAGDR2bRpU4444ohftKemprJp06Z5jytYAQB0IlgBAIvOihUrsnHjxl+0p6ens2LFinmPK1gBAIvOSSedlLvvvjv33HNPHnrooVx99dU577zz5j2upwIBgEVn6dKlefe7353nPve52b59ey6++OI89alPnf+4c7moqjYkeTDJ9iQPt9ZWV9XBST6WZGWSDUkuaK39oKoqyeVJzknykySvaK19Zd6VAgAL1y62R9gbzjnnnJxzzjldx9ydW4Gnt9aOa62tHtqvT3Jja+3oJDcO7SQ5O8nRw8+lSd7bq1gAgHE2nzVWL0hy1XB8VZIXzur/QJvxpSQHVdXh8/gcAICJMNdg1ZJ8tqpurapLh77DWmv3DsffSXLYcLwiycZZ750e+gAAFrS5Ll4/pbW2qaoOTXJDVf3D7JOttVZVbXc+eAholybJE5/4xN15KwDAWJrTjFVrbdPwel+STyV5ZpLvPnKLb3i9b7h8U5IjZr19auh79JhXtNZWt9ZWL1++fM9/AwCAMbHLYFVVv1VVBzxynOT3ktyZ5Noka4bL1iR55At2rk3y8ppxcpIHZt0yBABYsOZyK/CwJJ+a2UUhS5N8pLV2fVX9XZKPV9UlSb6V5ILh+usys9XC+sxst/DK7lUDAMzD1q1bc+qpp+ZnP/tZHn744bz4xS/OG9/4xnmPu8tg1Vr7ZpJn7KB/S5Izd9Dfkqydd2UAwKLxtKue1nW8O9bc8ZjnH/e4x2XdunXZf//9s23btpxyyik5++yzc/LJJ8/rc32lDQCw6FRV9t9//yTJtm3bsm3btgx35+ZFsAIAFqXt27fnuOOOy6GHHpqzzjorz3rWs+Y9pmAFACxKS5Ysye23357p6encfPPNufPOO+c9pi9hBlhkLniDP/3MzWOvUlo4DjrooJx++um5/vrrc+yxx85rLDNWAMCis3nz5tx///1Jkp/+9Ke54YYb8pSnPGXe4/rfFgBg0bn33nuzZs2abN++PT//+c9zwQUX5Nxzz533uIIVADByu9oeobenP/3pue2227qP61YgAEAnghUAQCeCFQBAJ4IVAEAnghUAQCeCFQBAJ4IVALDobNy4MaeffnpWrVqVpz71qbn88su7jGsfKwBg5O56yjFdxzvmH+56zPNLly7N29/+9pxwwgl58MEHc+KJJ+ass87KqlWr5vW5ZqwAgEXn8MMPzwknnJAkOeCAA3LMMcdk06ZN8x5XsAIAFrUNGzbktttuy7Oe9ax5jyVYAQCL1o9+9KOcf/75ede73pUDDzxw3uMJVgDAorRt27acf/75ueiii/KiF72oy5iCFQCw6LTWcskll+SYY47JZZdd1m1cwQoAWHRuuummfPCDH8y6dety3HHH5bjjjst1110373FttwAAjNyutkfo7ZRTTklrrfu4ZqwAADoRrAAAOhGsAAA6EawAADoRrAAAOhGsAAA6EawAgEVr+/btOf7443Puued2Gc8+VgDAyL3n1eu6jrf2fWfM6brLL788xxxzTH74wx92+VwzVgDAojQ9PZ3PfOYzedWrXtVtTMEKAFiUXvva1+Ztb3tb9tmnXxwSrACARefTn/50Dj300Jx44oldxxWsAIBF56abbsq1116blStX5sILL8y6devyspe9bN7jClYAwKLz5je/OdPT09mwYUOuvvrqnHHGGfnQhz4073EFKwCATmy3AACM3Fy3R9gbTjvttJx22mldxjJjBQDQyZyDVVUtqarbqurTQ/vIqvpyVa2vqo9V1X5D/+OG9vrh/Mq9VDsAwFjZnRmrP0hy16z2W5O8s7V2VJIfJLlk6L8kyQ+G/ncO1wEALHhzClZVNZXk+Un+YmhXkjOSfGK45KokLxyOXzC0M5w/c7geAOAXWmujLuEx7Ul9c52xeleS1yX5+dA+JMn9rbWHh/Z0khXD8YokG4eCHk7ywHA9AECSZNmyZdmyZcvYhqvWWrZs2ZJly5bt1vt2+VRgVZ2b5L7W2q1VddqelbfDcS9NcmmSPPGJT+w1LAAwAaampjI9PZ3NmzePupSdWrZsWaampnbrPXPZbuE5Sc6rqnOSLEtyYJLLkxxUVUuHWampJJuG6zclOSLJdFUtTfL4JFsePWhr7YokVyTJ6tWrxzOuAgB7xb777psjjzxy1GV0t8tbga21N7TWplprK5NcmGRda+2iJJ9L8uLhsjVJrhmOrx3aGc6va+M6zwcA0NF89rH6oySXVdX6zKyhunLovzLJIUP/ZUleP78SAQAmw27tvN5a+3ySzw/H30zyzB1cszXJ73eoDQBgoth5HQCgE8EKAKATwQoAoBPBCgCgE8EKAKATwQoAoBPBCgCgE8EKAKATwQoAoBPBCgCgE8EKAKCT3fquQAAm3x33fHvUJcCCZcYKAKATwQoAoBPBCgCgE8EKAKATwQoAoBPBCgCgE8EKAKATwQoAoBPBCgCgE8EKAKATwQoAoBPfFTjG3vPqdaMugQmx9n1njLoEAGLGCgCgGzNWY+yMz68ddQlMjLtGXQAAMWMFANCNYAUA0IlgBQDQiWAFANCJYAUA0IlgBQDQiWAFANCJYAUA0IlgBQDQiWAFANCJYAUA0IlgBQDQiWAFANDJLoNVVS2rqpur6u+r6mtV9cah/8iq+nJVra+qj1XVfkP/44b2+uH8yr38OwAAjIW5zFj9LMkZrbVnJDkuyfOq6uQkb03yztbaUUl+kOSS4fpLkvxg6H/ncB0AwIK3y2DVZvxoaO47/LQkZyT5xNB/VZIXDscvGNoZzp9ZVdWrYACAcTWnNVZVtaSqbk9yX5Ibkvxjkvtbaw8Pl0wnWTEcr0iyMUmG8w8kOWQHY15aVbdU1S2bN2+e1y8BADAO5hSsWmvbW2vHJZlK8swkT5nvB7fWrmitrW6trV6+fPl8hwMAGLndeiqwtXZ/ks8leXaSg6pq6XBqKsmm4XhTkiOSZDj/+CRbehQLADDO5vJU4PKqOmg4/o0kZyW5KzMB68XDZWuSXDMcXzu0M5xf11prHWsGABhLS3d9SQ5PclVVLclMEPt4a+3TVfX1JFdX1X9OcluSK4frr0zywapan+T7SS7cC3UDAIydXQar1tpXkxy/g/5vZma91aP7tyb5/S7VAQBMEDuvAwB0IlgBAHQiWAEAdDKXxeuMyAVv8J+Hublj1AUAkMSMFQBAN4IVAEAnghUAQCeCFQBAJ4IVAEAnghUAQCeCFQBAJzZKAlhkVm79yKhLYEJsGHUBE8iMFQBAJ4IVAEAnghUAQCeCFQBAJ4IVAEAnghUAQCeCFQBAJ4IVAEAnghUAQCeCFQBAJ4IVAEAnghUAQCeCFQBAJ4IVAEAnghUAQCeCFQBAJ4IVAEAnghUAQCeCFQBAJ4IVAEAnghUAQCeCFQBAJ4IVAEAnghUAQCeCFQBAJ4IVAEAnuwxWVXVEVX2uqr5eVV+rqj8Y+g+uqhuq6u7h9beH/qqqP6uq9VX11ao6YW//EgAA42AuM1YPJ/l3rbVVSU5OsraqViV5fZIbW2tHJ7lxaCfJ2UmOHn4uTfLe7lUDAIyhpbu6oLV2b5J7h+MHq+quJCuSvCDJacNlVyX5fJI/Gvo/0FprSb5UVQdV1eHDOOyGO+759qhLAAB2w26tsaqqlUmOT/LlJIfNCkvfSXLYcLwiycZZb5se+gAAFrQ5B6uq2j/JJ5O8trX2w9nnhtmptjsfXFWXVtUtVXXL5s2bd+etAABjaU7Bqqr2zUyo+nBr7b8P3d+tqsOH84cnuW/o35TkiFlvnxr6/onW2hWttdWttdXLly/f0/oBAMbGXJ4KrCRXJrmrtfaOWaeuTbJmOF6T5JpZ/S8fng48OckD1lcBAIvBLhevJ3lOkn+d5I6qun3o++Mkb0ny8aq6JMm3klwwnLsuyTlJ1if5SZJX9iwYAGBczeWpwP+dpHZy+swdXN+SrJ1nXQAAE8fO6wAAnQhWAACdCFYAAJ0IVgAAnQhWAACdCFYAAJ0IVgAAnQhWAACdCFYAAJ0IVgAAnQhWAACdCFYAAJ0IVgAAnQhWAACdCFYAAJ0IVgAAnQhWAACdCFYAAJ0IVgAAnQhWAACdCFYAAJ0IVgAAnQhWAACdCFYAAJ0IVgAAnQhWAACdCFYAAJ0IVgAAnQhWAACdCFYAAJ0IVgAAnQhWAACdLB11Aezcyq0fGXUJTIgNoy4AgCRmrAAAuhGsAAA6EawAADoRrAAAOhGsAAA62WWwqqq/rKr7qurOWX0HV9UNVXX38PrbQ39V1Z9V1fqq+mpVnbA3iwcAGCdzmbH6b0me96i+1ye5sbV2dJIbh3aSnJ3k6OHn0iTv7VMmAMD422Wwaq19Mcn3H9X9giRXDcdXJXnhrP4PtBlfSnJQVR3eqVYAgLG2p2usDmut3TscfyfJYcPxiiQbZ103PfQBACx481683lprSdruvq+qLq2qW6rqls2bN8+3DACAkdvTYPXdR27xDa/3Df2bkhwx67qpoe9XtNauaK2tbq2tXr58+R6WAQAwPvY0WF2bZM1wvCbJNbP6Xz48HXhykgdm3TIEAFjQdvklzFX10SSnJXlCVU0n+dMkb0ny8aq6JMm3klwwXH5dknOSrE/ykySv3As1AwCMpV0Gq9baS3dy6swdXNuSrJ1vUQAAk8jO6wAAnQhWAACdCFYAAJ0IVgAAnQhWAACdCFYAAJ0IVgAAnQhWAACdCFYAAJ0IVgAAnQhWAACdCFYAAJ0IVgAAnQhWAACdCFYAAJ0IVgAAnQhWAACdCFYAAJ0IVgAAnQhWAACdCFYAAJ0IVgAAnQhWAACdCFYAAJ0IVgAAnQhWAACdCFYAAJ0IVgAAnQhWAACdCFYAAJ0IVgAAnQhWAACdCFYAAJ0IVgAAnQhWAACdCFYAAJ0IVgAAnQhWAACd7JVgVVXPq6pvVNX6qnr93vgMAIBx0z1YVdWSJO9JcnaSVUleWlWren8OAMC42RszVs9Msr619s3W2kNJrk7ygr3wOQAAY2VvBKsVSTbOak8PfQAAC9rSUX1wVV2a5NKh+aOq+saoamHiPCHJ90ZdxDipt466AlgQ/G15FH9bdup3dnZibwSrTUmOmNWeGvr+idbaFUmu2AufzwJXVbe01laPug5gYfG3hR72xq3Av0tydFUdWVX7JbkwybV74XMAAMZK9xmr1trDVfWaJH+dZEmSv2ytfa335wAAjJu9ssaqtXZdkuv2xtgQt5CBvcPfFuatWmujrgEAYEHwlTYAAJ0IVgAAnQhWAACdjGyDUAAYlaq67LHOt9be8euqhYVFsGJsVdWDSXb6dEVr7cBfYznAwnLA8PrkJCfll/st/qskN4+kIhYETwUy9qrqTUnuTfLBJJXkoiSHt9b+w0gLAyZeVX0xyfNbaw8O7QOSfKa1dupoK2NSCVaMvar6+9baM3bVB7C7hu+pfXpr7WdD+3FJvtpae/JoK2NSuRXIJPhxVV2U5OrM3Bp8aZIfj7YkYIH4QJKbq+pTQ/uFSa4aXTlMOjNWjL2qWpnk8iTPyUywuinJa1trG0ZYFrBAVNWJSU4Zml9srd02ynqYbIIVAIteVR2aZNkj7dbat0dYDhPMPlaMvar63aq6saruHNpPr6o/GXVdwOSrqvOq6u4k9yT5wvD6v0ZbFZNMsGIS/Nckb0iyLUlaa19NcuFIKwIWijclOTnJ/22tHZnkXyb50mhLYpIJVkyC32ytPXpfmYdHUgmw0GxrrW1Jsk9V7dNa+1yS1aMuisnlqUAmwfeq6p9l2Cy0ql6cmX2tAObr/qraP8nfJvlwVd0XTx0zDxavM/aq6klJrkjyz5P8IDNrIC5qrX1rpIUBE6+qfivJTzNzB+eiJI9P8uFhFgt2m2DF2KuqJa217cMfwH0e2SEZoIeq+p0kR7fW/qaqfjPJEn9n2FPWWDEJ7qmqKzKzwPRHoy4GWDiq6t8k+USS9w9dK5L8j5EVxMQTrJgET0nyN0nWZiZkvbuqTtnFewDmYm1mNh/+YZK01u5OcuhIK2KiCVaMvdbaT1prH2+tvSjJ8UkOzMx+MwDz9bPW2kOPNKpqaYYHZWBPCFZMhKr6F1X1X5LcmpndkS8YcUnAwvCFqvrjJL9RVWcl+ask/3PENTHBLF5n7FXVhiS3Jfl4kmtbax6FBrqoqn2SXJLk95JUkr9O8hfNP47sIcGKsVdVB7bWfjjqOoCFqaqWJ0lrbfOoa2HyCVaMrap6XWvtbVX159nBmofW2r8dQVnAAlBVleRPk7wmv1wWsz3Jn7fW/tPICmPi2XmdcXbX8HrLSKsAFqI/zMzTgCe11u5JfrEZ8Xur6g9ba+8caXVMLDNWjL2qOqG19pVR1wEsHFV1W5KzWmvfe1T/8iSfba0dP5rKmHSeCmQSvL2q7qqqN1XVsaMuBlgQ9n10qEp+sc5q3xHUwwIhWDH2WmunJzk9yeYk76+qO6rqT0ZcFjDZHtrDc/CY3ApkolTV05K8LslLWmv7jboeYDJV1fYkO9q6pZIsa62ZtWKPCFaMvao6JslLkpyfZEuSjyX5ZGvtvpEWBgCPIlgx9qrq/yS5Oslftdb+36jrAYCdsd0CY62qliS5p7V2+ahrAYBdsXidsdZa257kiKqyngqAsWfGiklwT5KbqurazFps2lp7x+hKAoBfJVgxCf5x+NknyQEjrgUAdsridQCATsxYMfaq6nPZ8ZcwnzGCcgBgpwQrJsG/n3W8LDP7WT08oloAYKfcCmQiVdXNrbVnjroOAJjNjBVjr6oOntXcJ8nqJI8fUTkAsFOCFZPg1vxyjdXDSTYkuWRk1QDATghWjK2qOinJxtbakUN7TWbWV21I8vURlgYAO2TndcbZ+5M8lCRVdWqSNye5KskDSa4YYV0AsENmrBhnS1pr3x+OX5LkitbaJ5N8sqpuH11ZALBjZqwYZ0uq6pHwf2aSdbPO+Z8CAMaOf5wYZx9N8oWq+l6Snyb52ySpqqMyczsQAMaKfawYa1V1cpLDk3y2tfbjoe93k+zfWvvKSIsDgEcRrAAAOrHGCgCgE8EKAKATwQoAoBPBCgCgE8EKAKCT/w+UVTsL/PUujQAAAABJRU5ErkJggg==\n",
      "text/plain": [
       "<Figure size 720x360 with 1 Axes>"
      ]
     },
     "metadata": {
      "needs_background": "light"
     },
     "output_type": "display_data"
    }
   ],
   "source": [
    "bar_chart('Age')"
   ]
  },
  {
   "cell_type": "markdown",
   "id": "a2e07c81",
   "metadata": {
    "papermill": {
     "duration": 0.033729,
     "end_time": "2022-08-11T14:20:58.033527",
     "exception": false,
     "start_time": "2022-08-11T14:20:57.999798",
     "status": "completed"
    },
    "tags": []
   },
   "source": [
    "- #### 특히 20대의 사망비율이 높게 나타난다."
   ]
  },
  {
   "cell_type": "markdown",
   "id": "f2381bae",
   "metadata": {
    "papermill": {
     "duration": 0.033282,
     "end_time": "2022-08-11T14:20:58.100893",
     "exception": false,
     "start_time": "2022-08-11T14:20:58.067611",
     "status": "completed"
    },
    "tags": []
   },
   "source": [
    "#### **'Embarked' feature 결측치 채우기 및 수치화 과정**"
   ]
  },
  {
   "cell_type": "markdown",
   "id": "068c60a9",
   "metadata": {
    "papermill": {
     "duration": 0.033285,
     "end_time": "2022-08-11T14:20:58.168259",
     "exception": false,
     "start_time": "2022-08-11T14:20:58.134974",
     "status": "completed"
    },
    "tags": []
   },
   "source": [
    "#### **'탑승 항구'는 '객실 등급'과 연관성이 있을 것으로 추측하였다.**\n",
    "#### **Pclass에 따른 탑승 항구를 알아보자.**"
   ]
  },
  {
   "cell_type": "code",
   "execution_count": 35,
   "id": "b8b3466d",
   "metadata": {
    "execution": {
     "iopub.execute_input": "2022-08-11T14:20:58.237885Z",
     "iopub.status.busy": "2022-08-11T14:20:58.237033Z",
     "iopub.status.idle": "2022-08-11T14:20:58.401144Z",
     "shell.execute_reply": "2022-08-11T14:20:58.400175Z"
    },
    "papermill": {
     "duration": 0.201213,
     "end_time": "2022-08-11T14:20:58.403627",
     "exception": false,
     "start_time": "2022-08-11T14:20:58.202414",
     "status": "completed"
    },
    "tags": []
   },
   "outputs": [
    {
     "data": {
      "text/plain": [
       "<AxesSubplot:>"
      ]
     },
     "execution_count": 35,
     "metadata": {},
     "output_type": "execute_result"
    },
    {
     "data": {
      "image/png": "iVBORw0KGgoAAAANSUhEUgAAAlYAAAFUCAYAAADmhXKJAAAAOXRFWHRTb2Z0d2FyZQBNYXRwbG90bGliIHZlcnNpb24zLjUuMiwgaHR0cHM6Ly9tYXRwbG90bGliLm9yZy8qNh9FAAAACXBIWXMAAAsTAAALEwEAmpwYAAAZ/0lEQVR4nO3dfbRddZ3f8feHJCYo8mBIEQkSHoIWGkCS+jhrRGBQ0DUgSwVqx0ipqRYcptpxsHaWU6e02Acpds1yGYeZBlsGGUZKhmFUBKzMoNSEAQIikuFBQgmEyIOI4SF8+8fZwQuG3Bvyu9nn3vt+rXXX2fu39z3ncxdnHT7Z+3f2TlUhSZKkbbdD3wEkSZImC4uVJElSIxYrSZKkRixWkiRJjVisJEmSGrFYSZIkNTK97wAAu+++e82bN6/vGJIkSaNauXLlQ1U1Z3PbhqJYzZs3jxUrVvQdQ5IkaVRJ7nmxbZ4KlCRJasRiJUmS1MiYilWSu5OsSnJjkhXd2KuSXJnkju5xt248Sb6YZHWSm5McPp5/gCRJ0rDYmjlW76iqh0asnwVcVVXnJDmrW/894FhgfvfzJuBL3eNWefrpp1mzZg0bNmzY2l/d7mbNmsXcuXOZMWNG31EkSVKPtmXy+vHAEd3yMuA7DIrV8cAFNbi78/eT7Jpkz6q6f2uefM2aNbzyla9k3rx5JNmGmOOrqli/fj1r1qxh33337TuOJEnq0VjnWBXwrSQrkyzpxvYYUZbWAnt0y3sB94743TXd2FbZsGEDs2fPHupSBZCE2bNnT4gja5IkaXyN9YjVr1XVfUn+AXBlkh+N3FhVlaS25oW7grYE4LWvfe2L7bM1T9mbiZJTkiSNrzEdsaqq+7rHB4FLgTcCDyTZE6B7fLDb/T5g7xG/Prcbe+FzLq2qRVW1aM6czV5jayicffbZHHzwwRxyyCEcdthhXH/99X1HkiRJQ2rUI1ZJXgHsUFU/65aPAT4HLAcWA+d0j5d1v7IcOCPJRQwmrT+6tfOrNmfeWX+1rU/xPHef8+5R9/ne977H5Zdfzg033MDMmTN56KGHeOqpp5rmkCRJk8dYTgXuAVzane6aDlxYVd9I8gPg4iSnAfcAH+j2vwI4DlgNPAGc2jz1dnL//fez++67M3PmTAB23333nhNJkqRhNmqxqqo7gUM3M74eOGoz4wWc3iRdz4455hg+97nPceCBB3L00Udz0kkn8fa3v73vWJIkaUgNxb0Ch9VOO+3EypUrufbaa7nmmms46aSTOOecc/jwhz/cdzRJUmMLli3oO8KUs2rxqr4jNGexGsW0adM44ogjOOKII1iwYAHLli2zWEmSpM3yXoFbcPvtt3PHHXc8t37jjTeyzz779JhIkiQNM49YbcHjjz/Oxz/+cR555BGmT5/OAQccwNKlS/uOJUmShtSEKVZjuTxCawsXLuS6667b7q8rSZImJk8FSpIkNWKxkiRJasRiJUmS1IjFSpIkqRGLlSRJUiMWK0mSpEYsVqNYu3YtJ598Mvvvvz8LFy7kuOOO48c//nHfsSRJ0hCaMNex4g92afx8j466S1Xx3ve+l8WLF3PRRRcBcNNNN/HAAw9w4IEHts0jSZImvIlTrHpwzTXXMGPGDD760Y8+N3booYf2mEiSJA0zTwVuwS233MLChQv7jiFJkiYIi5UkSVIjFqstOPjgg1m5cmXfMSRJ0gRhsdqCI488kieffJKlS5c+N3bzzTdz7bXX9phKkiQNK4vVFiTh0ksv5dvf/jb7778/Bx98MJ/+9Kd59atf3Xc0SZI0hCbOtwLHcHmE8fCa17yGiy++uJfXliRJE4tHrCRJkhqxWEmSJDVisZIkSWrEYiVJktSIxUqSJKkRi5UkSVIjFqtRrFmzhuOPP5758+ez3377ccYZZ/Dkk0/2HUuSJA2hCXMdqwXLFjR9vlWLV426T1Vx4okn8rGPfYzLLruMjRs3smTJEj71qU9x3nnnNc0jSZImPo9YbcHVV1/NrFmzOPXUUwGYNm0a5557LhdccAGPP/54z+kkSdKwsVhtwa233srChQufN7bzzjszb948Vq9e3VMqSZI0rCxWkiRJjVistuCggw5i5cqVzxt77LHHWLt2La973et6SiVJkoaVxWoLjjrqKJ544gkuuOACADZu3MgnP/lJzjjjDHbcccee00mSpGFjsdqCJFx66aVccsklzJ8/n9mzZ7PDDjvwmc98pu9okiRpCE2Yyy2M5fII42Hvvfdm+fLlAFx33XWccsop3HDDDRx++OG95JEkScNrwhSrYfDWt76Ve+65p+8YkiRpSHkqUJIkqRGLlSRJUiNDfSqwqkjSd4xRVVXfESRJ22jVXT/pO4ImgaE9YjVr1izWr18/9KWlqli/fj2zZs3qO4okSerZ0B6xmjt3LmvWrGHdunV9RxnVrFmzmDt3bt8xJElSz4a2WM2YMYN999237xiSJEljNrSnAiVJkiYai5UkSVIjYy5WSaYl+bskl3fr+ya5PsnqJF9L8rJufGa3vrrbPm+cskuSJA2VrTlidSZw24j1zwPnVtUBwMPAad34acDD3fi53X6SJEmT3piKVZK5wLuBP+7WAxwJXNLtsgw4oVs+vlun235UJsLFqCRJkrbRWI9Y/TfgU8Cz3fps4JGqeqZbXwPs1S3vBdwL0G1/tNtfkiRpUhu1WCV5D/BgVa1s+cJJliRZkWTFRLhWlSRJ0mjGcsTqbcBvJrkbuIjBKcDzgF2TbLoO1lzgvm75PmBvgG77LsD6Fz5pVS2tqkVVtWjOnDnb9EdIkiQNg1GLVVV9uqrmVtU84GTg6qr6IHAN8L5ut8XAZd3y8m6dbvvVNez3pZEkSWpgW65j9XvAJ5KsZjCH6vxu/Hxgdjf+CeCsbYsoSZI0MWzVLW2q6jvAd7rlO4E3bmafDcD7G2STJEmaULzyuiRJUiMWK0mSpEYsVpIkSY1YrCRJkhqxWEmSJDVisZIkSWrEYiVJktSIxUqSJKkRi5UkSVIjFitJkqRGLFaSJEmNWKwkSZIasVhJkiQ1YrGSJElqxGIlSZLUiMVKkiSpEYuVJElSIxYrSZKkRixWkiRJjUzvO4AkScNg3oYL+44w5dzdd4Bx4BErSZKkRixWkiRJjVisJEmSGrFYSZIkNWKxkiRJasRiJUmS1IjFSpIkqRGLlSRJUiMWK0mSpEYsVpIkSY1YrCRJkhqxWEmSJDVisZIkSWrEYiVJktSIxUqSJKkRi5UkSVIjFitJkqRGLFaSJEmNWKwkSZIasVhJkiQ1YrGSJElqxGIlSZLUiMVKkiSpEYuVJElSI6MWqySzkvzfJDcluTXJv+vG901yfZLVSb6W5GXd+MxufXW3fd44/w2SJElDYSxHrJ4EjqyqQ4HDgHcleTPweeDcqjoAeBg4rdv/NODhbvzcbj9JkqRJb9RiVQOPd6szup8CjgQu6caXASd0y8d363Tbj0qSVoElSZKG1ZjmWCWZluRG4EHgSuDvgUeq6plulzXAXt3yXsC9AN32R4HZm3nOJUlWJFmxbt26bfojJEmShsGYilVVbayqw4C5wBuB12/rC1fV0qpaVFWL5syZs61PJ0mS1Lut+lZgVT0CXAO8Bdg1yfRu01zgvm75PmBvgG77LsD6FmElSZKG2Vi+FTgnya7d8o7AbwC3MShY7+t2Wwxc1i0v79bptl9dVdUwsyRJ0lCaPvou7AksSzKNQRG7uKouT/JD4KIk/x74O+D8bv/zga8mWQ38FDh5HHJLkiQNnVGLVVXdDLxhM+N3Mphv9cLxDcD7m6STJEmaQLzyuiRJUiMWK0mSpEYsVpIkSY1YrCRJkhqxWEmSJDVisZIkSWrEYiVJktSIxUqSJKkRi5UkSVIjFitJkqRGLFaSJEmNWKwkSZIasVhJkiQ1YrGSJElqxGIlSZLUiMVKkiSpEYuVJElSIxYrSZKkRixWkiRJjVisJEmSGrFYSZIkNWKxkiRJasRiJUmS1IjFSpIkqRGLlSRJUiMWK0mSpEYsVpIkSY1YrCRJkhqxWEmSJDVisZIkSWrEYiVJktSIxUqSJKkRi5UkSVIjFitJkqRGLFaSJEmNWKwkSZIasVhJkiQ1YrGSJElqxGIlSZLUiMVKkiSpkel9B5joFixb0HeEKWfV4lV9R5AkabMsVtto1V0/6TuCJEkaEp4KlCRJasRiJUmS1MioxSrJ3kmuSfLDJLcmObMbf1WSK5Pc0T3u1o0nyReTrE5yc5LDx/uPkCRJGgZjOWL1DPDJqjoIeDNwepKDgLOAq6pqPnBVtw5wLDC/+1kCfKl5akmSpCE0arGqqvur6oZu+WfAbcBewPHAsm63ZcAJ3fLxwAU18H1g1yR7tg4uSZI0bLZqjlWSecAbgOuBParq/m7TWmCPbnkv4N4Rv7amG3vhcy1JsiLJinXr1m1tbkmSpKEz5mKVZCfgL4DfqarHRm6rqgJqa164qpZW1aKqWjRnzpyt+VVJkqShNKZilWQGg1L1v6rq693wA5tO8XWPD3bj9wF7j/j1ud2YJEnSpDaWbwUGOB+4raq+MGLTcmBxt7wYuGzE+Ie6bwe+GXh0xClDSZKkSWssV15/G/BbwKokN3Zj/wY4B7g4yWnAPcAHum1XAMcBq4EngFNbBpYkSRpWoxarqvobIC+y+ajN7F/A6duYS5IkacLxyuuSJEmNWKwkSZIasVhJkiQ1MpbJ65KmuAXLFvQdYcpZtXhV3xEkvQQWK0mjWnXXT/qOIEkTgqcCJUmSGrFYSZIkNWKxkiRJasRiJUmS1IjFSpIkqRGLlSRJUiMWK0mSpEYsVpIkSY14gVBJo5q34cK+I0w5d/cdQNJL4hErSZKkRixWkiRJjVisJEmSGrFYSZIkNWKxkiRJasRiJUmS1IjFSpIkqRGLlSRJUiMWK0mSpEYsVpIkSY1YrCRJkhqxWEmSJDVisZIkSWrEYiVJktSIxUqSJKkRi5UkSVIjFitJkqRGLFaSJEmNWKwkSZIamd53gIlu3oYL+44w5dzddwBJkl6ER6wkSZIasVhJkiQ1YrGSJElqxGIlSZLUiMVKkiSpEYuVJElSIxYrSZKkRixWkiRJjVisJEmSGhm1WCX5kyQPJrllxNirklyZ5I7ucbduPEm+mGR1kpuTHD6e4SVJkobJWI5Y/Q/gXS8YOwu4qqrmA1d16wDHAvO7nyXAl9rElCRJGn6jFquq+i7w0xcMHw8s65aXASeMGL+gBr4P7Jpkz0ZZJUmShtpLnWO1R1Xd3y2vBfbolvcC7h2x35puTJIkadLb5snrVVVAbe3vJVmSZEWSFevWrdvWGJIkSb17qcXqgU2n+LrHB7vx+4C9R+w3txv7FVW1tKoWVdWiOXPmvMQYkiRJw+OlFqvlwOJueTFw2YjxD3XfDnwz8OiIU4aSJEmT2vTRdkjyZ8ARwO5J1gCfBc4BLk5yGnAP8IFu9yuA44DVwBPAqeOQWZIkaSiNWqyq6pQX2XTUZvYt4PRtDSVJkjQReeV1SZKkRixWkiRJjVisJEmSGrFYSZIkNWKxkiRJasRiJUmS1IjFSpIkqRGLlSRJUiMWK0mSpEYsVpIkSY1YrCRJkhqxWEmSJDVisZIkSWrEYiVJktSIxUqSJKkRi5UkSVIjFitJkqRGLFaSJEmNWKwkSZIasVhJkiQ1YrGSJElqxGIlSZLUiMVKkiSpEYuVJElSIxYrSZKkRixWkiRJjVisJEmSGrFYSZIkNWKxkiRJasRiJUmS1IjFSpIkqRGLlSRJUiMWK0mSpEYsVpIkSY1YrCRJkhqxWEmSJDVisZIkSWrEYiVJktSIxUqSJKkRi5UkSVIjFitJkqRGLFaSJEmNWKwkSZIasVhJkiQ1Mi7FKsm7ktyeZHWSs8bjNSRJkoZN82KVZBrwR8CxwEHAKUkOav06kiRJw2Y8jli9EVhdVXdW1VPARcDx4/A6kiRJQ2U8itVewL0j1td0Y5IkSZPa9L5eOMkSYEm3+niS2/vKMkXtDjzUd4iXIp/vO4EmEN/nmgp8n29/+7zYhvEoVvcBe49Yn9uNPU9VLQWWjsPrawySrKiqRX3nkMaT73NNBb7Ph8t4nAr8ATA/yb5JXgacDCwfh9eRJEkaKs2PWFXVM0nOAL4JTAP+pKpubf06kiRJw2Zc5lhV1RXAFePx3GrG07CaCnyfayrwfT5EUlV9Z5AkSZoUvKWNJElSIxYrSZKkRixWU1CSHZLs3HcOqbUk70/yym753yb5epLD+84ljZckuyU5pO8c+iWL1RSR5MIkOyd5BXAL8MMkv9t3Lqmx36+qnyX5NeBo4HzgSz1nkppK8p3u8/xVwA3AV5J8oe9cGrBYTR0HVdVjwAnAXwP7Ar/VayKpvY3d47uBpVX1V8DLeswjjYddus/zE4ELqupNDP4hoSFgsZo6ZiSZwaBYLa+qpwG/EqrJ5r4kXwZOAq5IMhM/5zT5TE+yJ/AB4PK+w+j5/MCZOr4M3A28Avhukn2Ax3pNJLX3AQYXJ35nVT0CvArwlLcmm88xeJ+vrqofJNkPuKPnTOp4HaspLMn0qnqm7xxSK0n2B9ZU1ZNJjgAOYXCq5JE+c0maOjxiNUUkObOb7Jgk5ye5ATiy71xSY38BbExyAIOrUe8NXNhvJKmtJP+p+zyfkeSqJOuS/NO+c2nAYjV1/LNusuMxwG4MJq6f028kqblnu6OwJwL/vap+F9iz50xSa8d0n+fvYTDF4wA85T00LFZTR7rH44CvdjfGzhb2lyaip5OcAnyIX07qndFjHmk8bLrP77uBP6+qR/sMo+ezWE0dK5N8i0Gx+mZ3EcVne84ktXYq8Bbg7Kq6K8m+wFd7ziS1dnmSHwELgauSzAE29JxJHSevTxFJdgAOA+6sqkeSzAb2qqqb+00mSdpa3cVBH62qjUleDuxcVWv7zqVfHk7UJFdVzya5Czgwyay+80jjIcl84D8CBwHPvc+rar/eQknj4zXA0S/4PL+grzD6JYvVFJHknwNnAnOBG4E3A9/DbwZqcvlT4LPAucA7GJwadMqDJpUknwWOYPAPiCuAY4G/wWI1FPzAmTrOBP4xcE9VvQN4A/BIr4mk9nasqqsYTHO4p6r+gMEEX2kyeR9wFLC2qk4FDgV26TeSNvGI1dSxoao2JCHJzKr6UZLX9R1KauzJbj7hHUnOAO4Dduo5k9TaL7rpHc8k2Rl4kME12zQELFZTx5okuwL/G7gyycPAPb0mkto7E3g58NvAHzI41b2410RSeyu6z/OvACuBxxlM7dAQ8FuBU1CStzM4bPyNqnqq7zySpJcmyTwG3wj0G95DwmI1yXVfyX1RVfXT7ZVFGi9J/hJ40Q+zqvrN7RhHGhdJDt/S9qq6YXtl0YuzWE1y3SUWiudfZX3Tevk1dE0G3VHYF1VV/2d7ZZHGS5JrtrC5qspveQ8Bi5WkSSPJK+gm9nbr04CZVfVEv8kkTRVebmGKSPLeJLuMWN81yQk9RpLGw1UMJq9vsiPw7Z6ySOMiyend5PVN67sl+Zc9RtIIFqup47Mjb9RZVY8wuJCiNJnMqqrHN610yy/fwv7SRPSR7jMcgKp6GPhIf3E0ksVq6tjcf2svt6HJ5ucjJ/gmWQj8osc80niYluS5ebPdKe+X9ZhHI/g/1qljRZIvAH/UrZ/O4Pon0mTyO8CfJ/l/DL6g8WrgpF4TSe19A/haki936/+iG9MQcPL6FNFN6v194GgG3wq8Eji7qn7eazCpsSQzgE13Fbi9qp7uM4/UWnd3gSUMPs9h8Hn+x1W1sb9U2sRiJUmS1IhzrCRJkhqxWEmSJDXi5PUpIsnbqupvRxuTJiJv9SFpWDjHaopIckNVHT7amDQRjbjVxyxgEXATg28FHgKsqKq39JVNasV7Yk4MHrGa5JK8BXgrMCfJJ0Zs2hmY1k8qqa2qegdAkq8Dh1fVqm79HwF/0GM0qaX/0j2eyOBSIv+zWz8FeKCXRPoVFqvJ72XATgz+W79yxPhjwPt6SSSNn9dtKlUAVXVLkn/YZyCplU03E0/yX6tq0YhNf5lkRU+x9AKeCpwikuxTVfd0yzsAO1XVYz3HkppK8mfAz/nlv+Q/yOC9fkp/qaS2ktwGvLuq7uzW9wWuqCr/ETEELFZTRJILgY8CG4EfMDgVeF5V/edeg0kNJZkFfAz49W7ou8CXqmpDf6mktpK8E/gKcCeDuYT7AEuq6lu9BhNgsZoyktxYVYcl+SBwOHAWsLKqDuk5miRpjLozDu8DLgNe3w3/qKqe7C+VRvI6VlPHjO5WHycAy7vbfNiqNakkeVuSK5P8OMmdm376ziW1UlXPAp+qqier6qbux1I1RJy8PnV8GbibwdfQv5tkHwYT2KXJ5HzgXzG4wbj3TdNk9e0k/xr4GoM5hQBU1U/7i6RNPBU4RSUJMK2qnuk7i9RKkuur6k1955DGU5K7NjNcVbXfdg+jX2GxmsKSnFpVf9p3DqmVJOcwuD7b14HnTo945XVJ24vFagpL8pOqem3fOaRWRlyBfaSqqiO3exhpHCR5I4P39A+SHAS8C7itqv6652jqWKwmuSQ3v9gm4MCqmrk980iSXpoknwWOZTA/+krgTcA1wG8A36yqs3uMp47FapJL8gDwTuDhF24Crquq12z/VFJ7SV4P7AVcX1WPjxh/V1V9o79kUhtJVgGHATOBtcDcqnosyY4M3vdePmcIeLmFye9yBleevucFP3cD3+k3mtRGkt9mcF2fjwO3JDl+xOb/0E8qqblnqmpjVT0B/P2mu2dU1S+AZ/uNpk283MIkV1WnbWHbP9meWaRx9BFgYVU9nmQecEmSeVV1HoOjs9Jk8FSSl3fFauGmwSS7YLEaGhYrSZPBDptO/1XV3UmOYFCu9sFipcnj1zddDLS7UOgmM4DF/UTSC3kqUNJk8ECSwzatdCXrPcDuwIK+QkktvdgV1qvqoapatb3zaPOcvC5pwksyl8H8k7Wb2fa2qvrbHmJJmoIsVpIkSY14KlCSJKkRi5UkSVIjFitJkqRGLFaSJEmNWKwkSZIa+f8RN1tVHmhvkgAAAABJRU5ErkJggg==\n",
      "text/plain": [
       "<Figure size 720x360 with 1 Axes>"
      ]
     },
     "metadata": {
      "needs_background": "light"
     },
     "output_type": "display_data"
    }
   ],
   "source": [
    "Pclass1 = train[train['Pclass']==1]['Embarked'].value_counts()\n",
    "Pclass2 = train[train['Pclass']==2]['Embarked'].value_counts()\n",
    "Pclass3 = train[train['Pclass']==3]['Embarked'].value_counts()\n",
    "df = pd.DataFrame([Pclass1, Pclass2, Pclass3])\n",
    "df.index = ['1st class', '2nd class', '3rd class']\n",
    "df.plot(kind='bar', stacked=True, figsize=(10,5))"
   ]
  },
  {
   "cell_type": "markdown",
   "id": "e668a0ec",
   "metadata": {
    "papermill": {
     "duration": 0.034382,
     "end_time": "2022-08-11T14:20:58.473019",
     "exception": false,
     "start_time": "2022-08-11T14:20:58.438637",
     "status": "completed"
    },
    "tags": []
   },
   "source": [
    "- #### 'Q'항구는 대부분 3rd class 가 이용하였다. \n",
    "- #### 모든 Pclass에서 'S'항구를 이용하는 사람이 과반수였다. "
   ]
  },
  {
   "cell_type": "markdown",
   "id": "1dc65a1f",
   "metadata": {
    "papermill": {
     "duration": 0.033822,
     "end_time": "2022-08-11T14:20:58.541454",
     "exception": false,
     "start_time": "2022-08-11T14:20:58.507632",
     "status": "completed"
    },
    "tags": []
   },
   "source": [
    "- #### Pclass와 상관 없이 결측치를 확률상 'S'로 채워도 무방할 것이다."
   ]
  },
  {
   "cell_type": "code",
   "execution_count": 36,
   "id": "47780e78",
   "metadata": {
    "execution": {
     "iopub.execute_input": "2022-08-11T14:20:58.613737Z",
     "iopub.status.busy": "2022-08-11T14:20:58.613306Z",
     "iopub.status.idle": "2022-08-11T14:20:58.620287Z",
     "shell.execute_reply": "2022-08-11T14:20:58.619129Z"
    },
    "papermill": {
     "duration": 0.046182,
     "end_time": "2022-08-11T14:20:58.622722",
     "exception": false,
     "start_time": "2022-08-11T14:20:58.576540",
     "status": "completed"
    },
    "tags": []
   },
   "outputs": [],
   "source": [
    "for dataset in train_test_data:\n",
    "    dataset['Embarked'] = dataset['Embarked'].fillna('S')"
   ]
  },
  {
   "cell_type": "code",
   "execution_count": 37,
   "id": "acc708e1",
   "metadata": {
    "execution": {
     "iopub.execute_input": "2022-08-11T14:20:58.695285Z",
     "iopub.status.busy": "2022-08-11T14:20:58.694882Z",
     "iopub.status.idle": "2022-08-11T14:20:58.712190Z",
     "shell.execute_reply": "2022-08-11T14:20:58.711079Z"
    },
    "papermill": {
     "duration": 0.056881,
     "end_time": "2022-08-11T14:20:58.714339",
     "exception": false,
     "start_time": "2022-08-11T14:20:58.657458",
     "status": "completed"
    },
    "tags": []
   },
   "outputs": [
    {
     "data": {
      "text/html": [
       "<div>\n",
       "<style scoped>\n",
       "    .dataframe tbody tr th:only-of-type {\n",
       "        vertical-align: middle;\n",
       "    }\n",
       "\n",
       "    .dataframe tbody tr th {\n",
       "        vertical-align: top;\n",
       "    }\n",
       "\n",
       "    .dataframe thead th {\n",
       "        text-align: right;\n",
       "    }\n",
       "</style>\n",
       "<table border=\"1\" class=\"dataframe\">\n",
       "  <thead>\n",
       "    <tr style=\"text-align: right;\">\n",
       "      <th></th>\n",
       "      <th>PassengerId</th>\n",
       "      <th>Survived</th>\n",
       "      <th>Pclass</th>\n",
       "      <th>Sex</th>\n",
       "      <th>Age</th>\n",
       "      <th>SibSp</th>\n",
       "      <th>Parch</th>\n",
       "      <th>Ticket</th>\n",
       "      <th>Fare</th>\n",
       "      <th>Cabin</th>\n",
       "      <th>Embarked</th>\n",
       "      <th>Title</th>\n",
       "    </tr>\n",
       "  </thead>\n",
       "  <tbody>\n",
       "    <tr>\n",
       "      <th>0</th>\n",
       "      <td>1</td>\n",
       "      <td>0</td>\n",
       "      <td>3</td>\n",
       "      <td>0</td>\n",
       "      <td>1</td>\n",
       "      <td>1</td>\n",
       "      <td>0</td>\n",
       "      <td>A/5 21171</td>\n",
       "      <td>7.2500</td>\n",
       "      <td>NaN</td>\n",
       "      <td>S</td>\n",
       "      <td>0</td>\n",
       "    </tr>\n",
       "    <tr>\n",
       "      <th>1</th>\n",
       "      <td>2</td>\n",
       "      <td>1</td>\n",
       "      <td>1</td>\n",
       "      <td>1</td>\n",
       "      <td>3</td>\n",
       "      <td>1</td>\n",
       "      <td>0</td>\n",
       "      <td>PC 17599</td>\n",
       "      <td>71.2833</td>\n",
       "      <td>C85</td>\n",
       "      <td>C</td>\n",
       "      <td>2</td>\n",
       "    </tr>\n",
       "    <tr>\n",
       "      <th>2</th>\n",
       "      <td>3</td>\n",
       "      <td>1</td>\n",
       "      <td>3</td>\n",
       "      <td>1</td>\n",
       "      <td>1</td>\n",
       "      <td>0</td>\n",
       "      <td>0</td>\n",
       "      <td>STON/O2. 3101282</td>\n",
       "      <td>7.9250</td>\n",
       "      <td>NaN</td>\n",
       "      <td>S</td>\n",
       "      <td>1</td>\n",
       "    </tr>\n",
       "    <tr>\n",
       "      <th>3</th>\n",
       "      <td>4</td>\n",
       "      <td>1</td>\n",
       "      <td>1</td>\n",
       "      <td>1</td>\n",
       "      <td>2</td>\n",
       "      <td>1</td>\n",
       "      <td>0</td>\n",
       "      <td>113803</td>\n",
       "      <td>53.1000</td>\n",
       "      <td>C123</td>\n",
       "      <td>S</td>\n",
       "      <td>2</td>\n",
       "    </tr>\n",
       "    <tr>\n",
       "      <th>4</th>\n",
       "      <td>5</td>\n",
       "      <td>0</td>\n",
       "      <td>3</td>\n",
       "      <td>0</td>\n",
       "      <td>2</td>\n",
       "      <td>0</td>\n",
       "      <td>0</td>\n",
       "      <td>373450</td>\n",
       "      <td>8.0500</td>\n",
       "      <td>NaN</td>\n",
       "      <td>S</td>\n",
       "      <td>0</td>\n",
       "    </tr>\n",
       "    <tr>\n",
       "      <th>5</th>\n",
       "      <td>6</td>\n",
       "      <td>0</td>\n",
       "      <td>3</td>\n",
       "      <td>0</td>\n",
       "      <td>1</td>\n",
       "      <td>0</td>\n",
       "      <td>0</td>\n",
       "      <td>330877</td>\n",
       "      <td>8.4583</td>\n",
       "      <td>NaN</td>\n",
       "      <td>Q</td>\n",
       "      <td>0</td>\n",
       "    </tr>\n",
       "    <tr>\n",
       "      <th>6</th>\n",
       "      <td>7</td>\n",
       "      <td>0</td>\n",
       "      <td>1</td>\n",
       "      <td>0</td>\n",
       "      <td>3</td>\n",
       "      <td>0</td>\n",
       "      <td>0</td>\n",
       "      <td>17463</td>\n",
       "      <td>51.8625</td>\n",
       "      <td>E46</td>\n",
       "      <td>S</td>\n",
       "      <td>0</td>\n",
       "    </tr>\n",
       "    <tr>\n",
       "      <th>7</th>\n",
       "      <td>8</td>\n",
       "      <td>0</td>\n",
       "      <td>3</td>\n",
       "      <td>0</td>\n",
       "      <td>0</td>\n",
       "      <td>3</td>\n",
       "      <td>1</td>\n",
       "      <td>349909</td>\n",
       "      <td>21.0750</td>\n",
       "      <td>NaN</td>\n",
       "      <td>S</td>\n",
       "      <td>3</td>\n",
       "    </tr>\n",
       "    <tr>\n",
       "      <th>8</th>\n",
       "      <td>9</td>\n",
       "      <td>1</td>\n",
       "      <td>3</td>\n",
       "      <td>1</td>\n",
       "      <td>1</td>\n",
       "      <td>0</td>\n",
       "      <td>2</td>\n",
       "      <td>347742</td>\n",
       "      <td>11.1333</td>\n",
       "      <td>NaN</td>\n",
       "      <td>S</td>\n",
       "      <td>2</td>\n",
       "    </tr>\n",
       "    <tr>\n",
       "      <th>9</th>\n",
       "      <td>10</td>\n",
       "      <td>1</td>\n",
       "      <td>2</td>\n",
       "      <td>1</td>\n",
       "      <td>0</td>\n",
       "      <td>1</td>\n",
       "      <td>0</td>\n",
       "      <td>237736</td>\n",
       "      <td>30.0708</td>\n",
       "      <td>NaN</td>\n",
       "      <td>C</td>\n",
       "      <td>2</td>\n",
       "    </tr>\n",
       "  </tbody>\n",
       "</table>\n",
       "</div>"
      ],
      "text/plain": [
       "   PassengerId  Survived  Pclass  Sex Age  SibSp  Parch            Ticket  \\\n",
       "0            1         0       3    0   1      1      0         A/5 21171   \n",
       "1            2         1       1    1   3      1      0          PC 17599   \n",
       "2            3         1       3    1   1      0      0  STON/O2. 3101282   \n",
       "3            4         1       1    1   2      1      0            113803   \n",
       "4            5         0       3    0   2      0      0            373450   \n",
       "5            6         0       3    0   1      0      0            330877   \n",
       "6            7         0       1    0   3      0      0             17463   \n",
       "7            8         0       3    0   0      3      1            349909   \n",
       "8            9         1       3    1   1      0      2            347742   \n",
       "9           10         1       2    1   0      1      0            237736   \n",
       "\n",
       "      Fare Cabin Embarked  Title  \n",
       "0   7.2500   NaN        S      0  \n",
       "1  71.2833   C85        C      2  \n",
       "2   7.9250   NaN        S      1  \n",
       "3  53.1000  C123        S      2  \n",
       "4   8.0500   NaN        S      0  \n",
       "5   8.4583   NaN        Q      0  \n",
       "6  51.8625   E46        S      0  \n",
       "7  21.0750   NaN        S      3  \n",
       "8  11.1333   NaN        S      2  \n",
       "9  30.0708   NaN        C      2  "
      ]
     },
     "execution_count": 37,
     "metadata": {},
     "output_type": "execute_result"
    }
   ],
   "source": [
    "train.head(10)"
   ]
  },
  {
   "cell_type": "markdown",
   "id": "a05cc7d5",
   "metadata": {
    "papermill": {
     "duration": 0.034484,
     "end_time": "2022-08-11T14:20:58.783246",
     "exception": false,
     "start_time": "2022-08-11T14:20:58.748762",
     "status": "completed"
    },
    "tags": []
   },
   "source": [
    "#### 추후 모델링을 위해 mapping으로 수치화를 해놓자."
   ]
  },
  {
   "cell_type": "code",
   "execution_count": 38,
   "id": "5a019d9d",
   "metadata": {
    "execution": {
     "iopub.execute_input": "2022-08-11T14:20:58.854717Z",
     "iopub.status.busy": "2022-08-11T14:20:58.854277Z",
     "iopub.status.idle": "2022-08-11T14:20:58.862147Z",
     "shell.execute_reply": "2022-08-11T14:20:58.861015Z"
    },
    "papermill": {
     "duration": 0.046091,
     "end_time": "2022-08-11T14:20:58.864252",
     "exception": false,
     "start_time": "2022-08-11T14:20:58.818161",
     "status": "completed"
    },
    "tags": []
   },
   "outputs": [],
   "source": [
    "embarked_mapping = {'S':0, 'C':1, 'Q':2}\n",
    "for dataset in train_test_data:\n",
    "    dataset['Embarked'] = dataset['Embarked'].map(embarked_mapping)"
   ]
  },
  {
   "cell_type": "code",
   "execution_count": 39,
   "id": "f057fb5d",
   "metadata": {
    "execution": {
     "iopub.execute_input": "2022-08-11T14:20:58.935733Z",
     "iopub.status.busy": "2022-08-11T14:20:58.935295Z",
     "iopub.status.idle": "2022-08-11T14:20:58.952440Z",
     "shell.execute_reply": "2022-08-11T14:20:58.951227Z"
    },
    "papermill": {
     "duration": 0.056315,
     "end_time": "2022-08-11T14:20:58.955239",
     "exception": false,
     "start_time": "2022-08-11T14:20:58.898924",
     "status": "completed"
    },
    "tags": []
   },
   "outputs": [
    {
     "data": {
      "text/html": [
       "<div>\n",
       "<style scoped>\n",
       "    .dataframe tbody tr th:only-of-type {\n",
       "        vertical-align: middle;\n",
       "    }\n",
       "\n",
       "    .dataframe tbody tr th {\n",
       "        vertical-align: top;\n",
       "    }\n",
       "\n",
       "    .dataframe thead th {\n",
       "        text-align: right;\n",
       "    }\n",
       "</style>\n",
       "<table border=\"1\" class=\"dataframe\">\n",
       "  <thead>\n",
       "    <tr style=\"text-align: right;\">\n",
       "      <th></th>\n",
       "      <th>PassengerId</th>\n",
       "      <th>Survived</th>\n",
       "      <th>Pclass</th>\n",
       "      <th>Sex</th>\n",
       "      <th>Age</th>\n",
       "      <th>SibSp</th>\n",
       "      <th>Parch</th>\n",
       "      <th>Ticket</th>\n",
       "      <th>Fare</th>\n",
       "      <th>Cabin</th>\n",
       "      <th>Embarked</th>\n",
       "      <th>Title</th>\n",
       "    </tr>\n",
       "  </thead>\n",
       "  <tbody>\n",
       "    <tr>\n",
       "      <th>0</th>\n",
       "      <td>1</td>\n",
       "      <td>0</td>\n",
       "      <td>3</td>\n",
       "      <td>0</td>\n",
       "      <td>1</td>\n",
       "      <td>1</td>\n",
       "      <td>0</td>\n",
       "      <td>A/5 21171</td>\n",
       "      <td>7.2500</td>\n",
       "      <td>NaN</td>\n",
       "      <td>0</td>\n",
       "      <td>0</td>\n",
       "    </tr>\n",
       "    <tr>\n",
       "      <th>1</th>\n",
       "      <td>2</td>\n",
       "      <td>1</td>\n",
       "      <td>1</td>\n",
       "      <td>1</td>\n",
       "      <td>3</td>\n",
       "      <td>1</td>\n",
       "      <td>0</td>\n",
       "      <td>PC 17599</td>\n",
       "      <td>71.2833</td>\n",
       "      <td>C85</td>\n",
       "      <td>1</td>\n",
       "      <td>2</td>\n",
       "    </tr>\n",
       "    <tr>\n",
       "      <th>2</th>\n",
       "      <td>3</td>\n",
       "      <td>1</td>\n",
       "      <td>3</td>\n",
       "      <td>1</td>\n",
       "      <td>1</td>\n",
       "      <td>0</td>\n",
       "      <td>0</td>\n",
       "      <td>STON/O2. 3101282</td>\n",
       "      <td>7.9250</td>\n",
       "      <td>NaN</td>\n",
       "      <td>0</td>\n",
       "      <td>1</td>\n",
       "    </tr>\n",
       "    <tr>\n",
       "      <th>3</th>\n",
       "      <td>4</td>\n",
       "      <td>1</td>\n",
       "      <td>1</td>\n",
       "      <td>1</td>\n",
       "      <td>2</td>\n",
       "      <td>1</td>\n",
       "      <td>0</td>\n",
       "      <td>113803</td>\n",
       "      <td>53.1000</td>\n",
       "      <td>C123</td>\n",
       "      <td>0</td>\n",
       "      <td>2</td>\n",
       "    </tr>\n",
       "    <tr>\n",
       "      <th>4</th>\n",
       "      <td>5</td>\n",
       "      <td>0</td>\n",
       "      <td>3</td>\n",
       "      <td>0</td>\n",
       "      <td>2</td>\n",
       "      <td>0</td>\n",
       "      <td>0</td>\n",
       "      <td>373450</td>\n",
       "      <td>8.0500</td>\n",
       "      <td>NaN</td>\n",
       "      <td>0</td>\n",
       "      <td>0</td>\n",
       "    </tr>\n",
       "    <tr>\n",
       "      <th>5</th>\n",
       "      <td>6</td>\n",
       "      <td>0</td>\n",
       "      <td>3</td>\n",
       "      <td>0</td>\n",
       "      <td>1</td>\n",
       "      <td>0</td>\n",
       "      <td>0</td>\n",
       "      <td>330877</td>\n",
       "      <td>8.4583</td>\n",
       "      <td>NaN</td>\n",
       "      <td>2</td>\n",
       "      <td>0</td>\n",
       "    </tr>\n",
       "    <tr>\n",
       "      <th>6</th>\n",
       "      <td>7</td>\n",
       "      <td>0</td>\n",
       "      <td>1</td>\n",
       "      <td>0</td>\n",
       "      <td>3</td>\n",
       "      <td>0</td>\n",
       "      <td>0</td>\n",
       "      <td>17463</td>\n",
       "      <td>51.8625</td>\n",
       "      <td>E46</td>\n",
       "      <td>0</td>\n",
       "      <td>0</td>\n",
       "    </tr>\n",
       "    <tr>\n",
       "      <th>7</th>\n",
       "      <td>8</td>\n",
       "      <td>0</td>\n",
       "      <td>3</td>\n",
       "      <td>0</td>\n",
       "      <td>0</td>\n",
       "      <td>3</td>\n",
       "      <td>1</td>\n",
       "      <td>349909</td>\n",
       "      <td>21.0750</td>\n",
       "      <td>NaN</td>\n",
       "      <td>0</td>\n",
       "      <td>3</td>\n",
       "    </tr>\n",
       "    <tr>\n",
       "      <th>8</th>\n",
       "      <td>9</td>\n",
       "      <td>1</td>\n",
       "      <td>3</td>\n",
       "      <td>1</td>\n",
       "      <td>1</td>\n",
       "      <td>0</td>\n",
       "      <td>2</td>\n",
       "      <td>347742</td>\n",
       "      <td>11.1333</td>\n",
       "      <td>NaN</td>\n",
       "      <td>0</td>\n",
       "      <td>2</td>\n",
       "    </tr>\n",
       "    <tr>\n",
       "      <th>9</th>\n",
       "      <td>10</td>\n",
       "      <td>1</td>\n",
       "      <td>2</td>\n",
       "      <td>1</td>\n",
       "      <td>0</td>\n",
       "      <td>1</td>\n",
       "      <td>0</td>\n",
       "      <td>237736</td>\n",
       "      <td>30.0708</td>\n",
       "      <td>NaN</td>\n",
       "      <td>1</td>\n",
       "      <td>2</td>\n",
       "    </tr>\n",
       "  </tbody>\n",
       "</table>\n",
       "</div>"
      ],
      "text/plain": [
       "   PassengerId  Survived  Pclass  Sex Age  SibSp  Parch            Ticket  \\\n",
       "0            1         0       3    0   1      1      0         A/5 21171   \n",
       "1            2         1       1    1   3      1      0          PC 17599   \n",
       "2            3         1       3    1   1      0      0  STON/O2. 3101282   \n",
       "3            4         1       1    1   2      1      0            113803   \n",
       "4            5         0       3    0   2      0      0            373450   \n",
       "5            6         0       3    0   1      0      0            330877   \n",
       "6            7         0       1    0   3      0      0             17463   \n",
       "7            8         0       3    0   0      3      1            349909   \n",
       "8            9         1       3    1   1      0      2            347742   \n",
       "9           10         1       2    1   0      1      0            237736   \n",
       "\n",
       "      Fare Cabin  Embarked  Title  \n",
       "0   7.2500   NaN         0      0  \n",
       "1  71.2833   C85         1      2  \n",
       "2   7.9250   NaN         0      1  \n",
       "3  53.1000  C123         0      2  \n",
       "4   8.0500   NaN         0      0  \n",
       "5   8.4583   NaN         2      0  \n",
       "6  51.8625   E46         0      0  \n",
       "7  21.0750   NaN         0      3  \n",
       "8  11.1333   NaN         0      2  \n",
       "9  30.0708   NaN         1      2  "
      ]
     },
     "execution_count": 39,
     "metadata": {},
     "output_type": "execute_result"
    }
   ],
   "source": [
    "train.head(10)"
   ]
  },
  {
   "cell_type": "markdown",
   "id": "960b3559",
   "metadata": {
    "papermill": {
     "duration": 0.035045,
     "end_time": "2022-08-11T14:20:59.026312",
     "exception": false,
     "start_time": "2022-08-11T14:20:58.991267",
     "status": "completed"
    },
    "tags": []
   },
   "source": [
    "#### **feature8: Fare (요금)**"
   ]
  },
  {
   "cell_type": "markdown",
   "id": "6aadbd32",
   "metadata": {
    "papermill": {
     "duration": 0.035582,
     "end_time": "2022-08-11T14:20:59.097592",
     "exception": false,
     "start_time": "2022-08-11T14:20:59.062010",
     "status": "completed"
    },
    "tags": []
   },
   "source": [
    "#### **객실 등급(Pclass)을 그룹화하여 각 그룹 'Fare'의 중앙값을 'Fare' feature의 결측치로 채워넣자.**"
   ]
  },
  {
   "cell_type": "code",
   "execution_count": 40,
   "id": "905cbd3a",
   "metadata": {
    "execution": {
     "iopub.execute_input": "2022-08-11T14:20:59.170906Z",
     "iopub.status.busy": "2022-08-11T14:20:59.170410Z",
     "iopub.status.idle": "2022-08-11T14:20:59.181193Z",
     "shell.execute_reply": "2022-08-11T14:20:59.180006Z"
    },
    "papermill": {
     "duration": 0.05053,
     "end_time": "2022-08-11T14:20:59.183708",
     "exception": false,
     "start_time": "2022-08-11T14:20:59.133178",
     "status": "completed"
    },
    "tags": []
   },
   "outputs": [],
   "source": [
    "train['Fare'].fillna(train.groupby('Pclass')['Fare'].transform('median'), inplace=True)\n",
    "test['Fare'].fillna(train.groupby('Pclass')['Fare'].transform('median'), inplace=True)"
   ]
  },
  {
   "cell_type": "markdown",
   "id": "17bea8ce",
   "metadata": {
    "papermill": {
     "duration": 0.034883,
     "end_time": "2022-08-11T14:20:59.255610",
     "exception": false,
     "start_time": "2022-08-11T14:20:59.220727",
     "status": "completed"
    },
    "tags": []
   },
   "source": [
    "#### seaborn을 활용하여 데이터 분포를 수치화 해보자."
   ]
  },
  {
   "cell_type": "code",
   "execution_count": 41,
   "id": "d3c02c0a",
   "metadata": {
    "execution": {
     "iopub.execute_input": "2022-08-11T14:20:59.328522Z",
     "iopub.status.busy": "2022-08-11T14:20:59.327799Z",
     "iopub.status.idle": "2022-08-11T14:20:59.844581Z",
     "shell.execute_reply": "2022-08-11T14:20:59.843318Z"
    },
    "papermill": {
     "duration": 0.556694,
     "end_time": "2022-08-11T14:20:59.847508",
     "exception": false,
     "start_time": "2022-08-11T14:20:59.290814",
     "status": "completed"
    },
    "tags": []
   },
   "outputs": [
    {
     "data": {
      "image/png": "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\n",
      "text/plain": [
       "<Figure size 915.875x216 with 1 Axes>"
      ]
     },
     "metadata": {
      "needs_background": "light"
     },
     "output_type": "display_data"
    }
   ],
   "source": [
    "import seaborn as sns\n",
    "\n",
    "facet = sns.FacetGrid(train, hue='Survived', aspect=4)\n",
    "facet.map(sns.kdeplot, 'Fare', shade=True)\n",
    "facet.set(xlim=(0, train['Fare'].max()))\n",
    "facet.add_legend()\n",
    "\n",
    "plt.show()"
   ]
  },
  {
   "cell_type": "markdown",
   "id": "cfa8840a",
   "metadata": {
    "papermill": {
     "duration": 0.036491,
     "end_time": "2022-08-11T14:20:59.920819",
     "exception": false,
     "start_time": "2022-08-11T14:20:59.884328",
     "status": "completed"
    },
    "tags": []
   },
   "source": [
    "#### (0,100) 구간을 더 자세히 들여다 보자."
   ]
  },
  {
   "cell_type": "code",
   "execution_count": 42,
   "id": "2457af62",
   "metadata": {
    "execution": {
     "iopub.execute_input": "2022-08-11T14:20:59.994035Z",
     "iopub.status.busy": "2022-08-11T14:20:59.993657Z",
     "iopub.status.idle": "2022-08-11T14:21:00.380868Z",
     "shell.execute_reply": "2022-08-11T14:21:00.380007Z"
    },
    "papermill": {
     "duration": 0.426548,
     "end_time": "2022-08-11T14:21:00.383235",
     "exception": false,
     "start_time": "2022-08-11T14:20:59.956687",
     "status": "completed"
    },
    "tags": []
   },
   "outputs": [
    {
     "data": {
      "text/plain": [
       "(0.0, 100.0)"
      ]
     },
     "execution_count": 42,
     "metadata": {},
     "output_type": "execute_result"
    },
    {
     "data": {
      "image/png": "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\n",
      "text/plain": [
       "<Figure size 915.875x216 with 1 Axes>"
      ]
     },
     "metadata": {
      "needs_background": "light"
     },
     "output_type": "display_data"
    }
   ],
   "source": [
    "facet = sns.FacetGrid(train, hue='Survived', aspect=4)\n",
    "facet.map(sns.kdeplot, 'Fare', shade=True)\n",
    "facet.set(xlim=(0, train['Fare'].max()))\n",
    "facet.add_legend()\n",
    "plt.xlim(0,100)"
   ]
  },
  {
   "cell_type": "markdown",
   "id": "2dd9c1c4",
   "metadata": {
    "papermill": {
     "duration": 0.036146,
     "end_time": "2022-08-11T14:21:00.456414",
     "exception": false,
     "start_time": "2022-08-11T14:21:00.420268",
     "status": "completed"
    },
    "tags": []
   },
   "source": [
    "#### 그래프 특성이 비슷한 구간별로 나누어서 binning을 해보자. "
   ]
  },
  {
   "cell_type": "code",
   "execution_count": 43,
   "id": "8adea5c1",
   "metadata": {
    "execution": {
     "iopub.execute_input": "2022-08-11T14:21:00.532941Z",
     "iopub.status.busy": "2022-08-11T14:21:00.532543Z",
     "iopub.status.idle": "2022-08-11T14:21:00.554120Z",
     "shell.execute_reply": "2022-08-11T14:21:00.552876Z"
    },
    "papermill": {
     "duration": 0.06261,
     "end_time": "2022-08-11T14:21:00.556544",
     "exception": false,
     "start_time": "2022-08-11T14:21:00.493934",
     "status": "completed"
    },
    "tags": []
   },
   "outputs": [
    {
     "data": {
      "text/html": [
       "<div>\n",
       "<style scoped>\n",
       "    .dataframe tbody tr th:only-of-type {\n",
       "        vertical-align: middle;\n",
       "    }\n",
       "\n",
       "    .dataframe tbody tr th {\n",
       "        vertical-align: top;\n",
       "    }\n",
       "\n",
       "    .dataframe thead th {\n",
       "        text-align: right;\n",
       "    }\n",
       "</style>\n",
       "<table border=\"1\" class=\"dataframe\">\n",
       "  <thead>\n",
       "    <tr style=\"text-align: right;\">\n",
       "      <th></th>\n",
       "      <th>PassengerId</th>\n",
       "      <th>Survived</th>\n",
       "      <th>Pclass</th>\n",
       "      <th>Sex</th>\n",
       "      <th>Age</th>\n",
       "      <th>SibSp</th>\n",
       "      <th>Parch</th>\n",
       "      <th>Ticket</th>\n",
       "      <th>Fare</th>\n",
       "      <th>Cabin</th>\n",
       "      <th>Embarked</th>\n",
       "      <th>Title</th>\n",
       "    </tr>\n",
       "  </thead>\n",
       "  <tbody>\n",
       "    <tr>\n",
       "      <th>0</th>\n",
       "      <td>1</td>\n",
       "      <td>0</td>\n",
       "      <td>3</td>\n",
       "      <td>0</td>\n",
       "      <td>1</td>\n",
       "      <td>1</td>\n",
       "      <td>0</td>\n",
       "      <td>A/5 21171</td>\n",
       "      <td>0</td>\n",
       "      <td>NaN</td>\n",
       "      <td>0</td>\n",
       "      <td>0</td>\n",
       "    </tr>\n",
       "    <tr>\n",
       "      <th>1</th>\n",
       "      <td>2</td>\n",
       "      <td>1</td>\n",
       "      <td>1</td>\n",
       "      <td>1</td>\n",
       "      <td>3</td>\n",
       "      <td>1</td>\n",
       "      <td>0</td>\n",
       "      <td>PC 17599</td>\n",
       "      <td>2</td>\n",
       "      <td>C85</td>\n",
       "      <td>1</td>\n",
       "      <td>2</td>\n",
       "    </tr>\n",
       "    <tr>\n",
       "      <th>2</th>\n",
       "      <td>3</td>\n",
       "      <td>1</td>\n",
       "      <td>3</td>\n",
       "      <td>1</td>\n",
       "      <td>1</td>\n",
       "      <td>0</td>\n",
       "      <td>0</td>\n",
       "      <td>STON/O2. 3101282</td>\n",
       "      <td>0</td>\n",
       "      <td>NaN</td>\n",
       "      <td>0</td>\n",
       "      <td>1</td>\n",
       "    </tr>\n",
       "    <tr>\n",
       "      <th>3</th>\n",
       "      <td>4</td>\n",
       "      <td>1</td>\n",
       "      <td>1</td>\n",
       "      <td>1</td>\n",
       "      <td>2</td>\n",
       "      <td>1</td>\n",
       "      <td>0</td>\n",
       "      <td>113803</td>\n",
       "      <td>2</td>\n",
       "      <td>C123</td>\n",
       "      <td>0</td>\n",
       "      <td>2</td>\n",
       "    </tr>\n",
       "    <tr>\n",
       "      <th>4</th>\n",
       "      <td>5</td>\n",
       "      <td>0</td>\n",
       "      <td>3</td>\n",
       "      <td>0</td>\n",
       "      <td>2</td>\n",
       "      <td>0</td>\n",
       "      <td>0</td>\n",
       "      <td>373450</td>\n",
       "      <td>0</td>\n",
       "      <td>NaN</td>\n",
       "      <td>0</td>\n",
       "      <td>0</td>\n",
       "    </tr>\n",
       "  </tbody>\n",
       "</table>\n",
       "</div>"
      ],
      "text/plain": [
       "   PassengerId  Survived  Pclass  Sex Age  SibSp  Parch            Ticket  \\\n",
       "0            1         0       3    0   1      1      0         A/5 21171   \n",
       "1            2         1       1    1   3      1      0          PC 17599   \n",
       "2            3         1       3    1   1      0      0  STON/O2. 3101282   \n",
       "3            4         1       1    1   2      1      0            113803   \n",
       "4            5         0       3    0   2      0      0            373450   \n",
       "\n",
       "  Fare Cabin  Embarked  Title  \n",
       "0    0   NaN         0      0  \n",
       "1    2   C85         1      2  \n",
       "2    0   NaN         0      1  \n",
       "3    2  C123         0      2  \n",
       "4    0   NaN         0      0  "
      ]
     },
     "execution_count": 43,
     "metadata": {},
     "output_type": "execute_result"
    }
   ],
   "source": [
    "def Fare_binning(data): \n",
    "    if int(data) <= 10 :\n",
    "        return '0'\n",
    "    elif (int(data)>10) and (int(data)<=30):\n",
    "        return '1'\n",
    "    elif (int(data)>30) and (int(data)<=100):\n",
    "        return '2'\n",
    "    elif int(data)>100:\n",
    "        return '3'\n",
    "\n",
    "for dataset in train_test_data:\n",
    "    dataset['Fare'] = dataset['Fare'].apply(Fare_binning) \n",
    "\n",
    "train.head()"
   ]
  },
  {
   "cell_type": "markdown",
   "id": "f5a3c6ff",
   "metadata": {
    "papermill": {
     "duration": 0.03723,
     "end_time": "2022-08-11T14:21:00.630299",
     "exception": false,
     "start_time": "2022-08-11T14:21:00.593069",
     "status": "completed"
    },
    "tags": []
   },
   "source": [
    "#### **feature9: Cabin (객실 구역)**"
   ]
  },
  {
   "cell_type": "code",
   "execution_count": 44,
   "id": "30933742",
   "metadata": {
    "execution": {
     "iopub.execute_input": "2022-08-11T14:21:00.706177Z",
     "iopub.status.busy": "2022-08-11T14:21:00.705356Z",
     "iopub.status.idle": "2022-08-11T14:21:00.715170Z",
     "shell.execute_reply": "2022-08-11T14:21:00.714383Z"
    },
    "papermill": {
     "duration": 0.050079,
     "end_time": "2022-08-11T14:21:00.717229",
     "exception": false,
     "start_time": "2022-08-11T14:21:00.667150",
     "status": "completed"
    },
    "tags": []
   },
   "outputs": [
    {
     "data": {
      "text/plain": [
       "B96 B98        4\n",
       "G6             4\n",
       "C23 C25 C27    4\n",
       "C22 C26        3\n",
       "F33            3\n",
       "              ..\n",
       "E34            1\n",
       "C7             1\n",
       "C54            1\n",
       "E36            1\n",
       "C148           1\n",
       "Name: Cabin, Length: 147, dtype: int64"
      ]
     },
     "execution_count": 44,
     "metadata": {},
     "output_type": "execute_result"
    }
   ],
   "source": [
    "train.Cabin.value_counts()"
   ]
  },
  {
   "cell_type": "markdown",
   "id": "bb146dad",
   "metadata": {
    "papermill": {
     "duration": 0.035875,
     "end_time": "2022-08-11T14:21:00.789939",
     "exception": false,
     "start_time": "2022-08-11T14:21:00.754064",
     "status": "completed"
    },
    "tags": []
   },
   "source": [
    "#### 객실 종류가 매우 다양하다. 첫번째 문자만을 가지고 Pclass에 대응하는 객실을 분석해 보자."
   ]
  },
  {
   "cell_type": "code",
   "execution_count": 45,
   "id": "b172d7c9",
   "metadata": {
    "execution": {
     "iopub.execute_input": "2022-08-11T14:21:00.865469Z",
     "iopub.status.busy": "2022-08-11T14:21:00.864822Z",
     "iopub.status.idle": "2022-08-11T14:21:01.145694Z",
     "shell.execute_reply": "2022-08-11T14:21:01.144602Z"
    },
    "papermill": {
     "duration": 0.321901,
     "end_time": "2022-08-11T14:21:01.148459",
     "exception": false,
     "start_time": "2022-08-11T14:21:00.826558",
     "status": "completed"
    },
    "tags": []
   },
   "outputs": [
    {
     "data": {
      "text/plain": [
       "<AxesSubplot:>"
      ]
     },
     "execution_count": 45,
     "metadata": {},
     "output_type": "execute_result"
    },
    {
     "data": {
      "image/png": "iVBORw0KGgoAAAANSUhEUgAAAlYAAAFUCAYAAADmhXKJAAAAOXRFWHRTb2Z0d2FyZQBNYXRwbG90bGliIHZlcnNpb24zLjUuMiwgaHR0cHM6Ly9tYXRwbG90bGliLm9yZy8qNh9FAAAACXBIWXMAAAsTAAALEwEAmpwYAAAcr0lEQVR4nO3dfZRdVZnn8e9jEUgUUAyFIjGkQoNKxJRJxGZ8aQy2IjIK6mDAwUjbxsyA0IN2d9LTPYSe5Qy2oqtnYBjDQAs9TQGCBNpGEQEB29eEjiRIUMCkKSZvJGKMJAiVZ/64p6DACqnU3Tenqu73s1atumefc/d5Vrjr8quz99knMhNJkiQ170V1FyBJkjRWGKwkSZIKMVhJkiQVYrCSJEkqxGAlSZJUiMFKkiSpkL3qLgDgwAMPzClTptRdhiRJ0i4tW7bssczsHGzfiAhWU6ZMYenSpXWXIUmStEsRsWZn+xwKlCRJKsRgJUmSVIjBSpIkqZARMcdKkiS1j6eeeore3l62b99edykvaPz48UyaNIlx48YN+T0GK0mStEf19vay3377MWXKFCKi7nIGlZls2rSJ3t5eurq6hvw+hwIlSdIetX37diZOnDhiQxVARDBx4sTdvqpmsJIkSXvcSA5V/YZTo8FKkiS1nXXr1jFnzhwOO+wwZs6cyQknnMDPfvazpvt1jpUkSarVlAX/VLS/1Re89wX3ZyYnn3wyc+fO5eqrrwbgJz/5CevXr+eII45o6ty7DFYRcTlwIrAhM19ftV0DvKY65GXA45nZHRFTgPuBB6p9P8jM+U1VKEmSVNAdd9zBuHHjmD//2Ygyffr0In0P5YrVV4CLgCv7GzLzw/2vI+JC4FcDjn8oM7uLVCdJklTYypUrmTlzZkv63mWwysy7qitRvyMas7pOAWYXrmvUuPDDJ9ZdQtv59DVfr7sESZIG1ewcq7cB6zPz5wPauiLiX4AtwF9m5t2DvTEi5gHzACZPntxkGfUZf8C5dZcgSZJ2w7Rp07juuuta0nezdwWeCvQM2F4LTM7MNwLnAldFxP6DvTEzF2fmrMyc1dnZ2WQZkiRJQzN79myefPJJFi9e/Ezbvffey913D3otaLcMO1hFxF7AB4Br+tsy88nM3FS9XgY8BDQ3vV6SJKmgiOCGG27g29/+NocddhjTpk1j4cKFvPKVr2y672aGAt8JrMrM3gGFdgKbM7MvIqYChwMPN1mjJEkaw3a1PEIrvOpVr+Laa68t3u8ur1hFRA/wfeA1EdEbER+vds3hucOAAG8H7o2I5cB1wPzM3FywXkmSpBFrKHcFnrqT9o8N0nY9cH3zZUmSJI0+PtJGkiSpEIOVJElSIQYrSZKkQgxWkiRJhRisJElS2+no6KC7u5vp06czY8YMvve97xXpt9lH2kiSJDVn0UsL9/erXR4yYcIEli9fDsAtt9zCwoULufPOO5s+tVesJElSW9uyZQsHHHBAkb68YiVJktrOtm3b6O7uZvv27axdu5bbb7+9SL8GK0mS1HYGDgV+//vf56Mf/SgrV64kIprq16FASZLU1o455hgee+wxNm7c2HRfBitJktTWVq1aRV9fHxMnTmy6L4cCJUlS2+mfYwWQmVxxxRV0dHQ03a/BSpIk1WsIyyOU1tfX15J+HQqUJEkqxGAlSZJUiMFKkiSpEOdYNWn2d86su4Q2dH/dBUiSNCivWEmSJBVisJIkSSrEYCVJktpOR0cH3d3dTJs2jenTp3PhhReyY8eOpvt1jpUkSarVUVccVbS/FXNX7PKYgc8K3LBhA6eddhpbtmzh/PPPb+rcXrGSJElt7aCDDmLx4sVcdNFFZGZTfRmsJElS25s6dSp9fX1s2LChqX4MVpIkSYUYrCRJUtt7+OGH6ejo4KCDDmqqH4OVJElqaxs3bmT+/PmcddZZRERTfXlXoCRJajvbtm2ju7ubp556ir322ovTTz+dc889t+l+dxmsIuJy4ERgQ2a+vmpbBHwC2Fgd9heZeXO1byHwcaAPODszb2m6SkmSNGYNZXmE0vr6+lrS71CGAr8CHD9I+5cys7v66Q9VRwJzgGnVe/5XRHSUKlaSJGkk22Wwysy7gM1D7O/9wNWZ+WRm/gJ4EDi6ifokSZJGjWYmr58VEfdGxOURcUDVdgjwyIBjeqs2SZKkMW+4weoS4DCgG1gLXLi7HUTEvIhYGhFLN27cuOs3SJIkjXDDClaZuT4z+zJzB3Apzw73PQq8esChk6q2wfpYnJmzMnNWZ2fncMqQJEkaUYYVrCLi4AGbJwMrq9c3AXMiYp+I6AIOB37UXImSJEmjw1CWW+gBjgUOjIhe4Dzg2IjoBhJYDXwSIDPvi4hrgZ8CTwNnZmZr7meUJEkapo6ODo466qhntufMmcOCBQua7neXwSozTx2k+bIXOP6zwGebKUqSJLWP+1/7uqL9vW7V/bs8ZsKECSxfvrzoecFH2kiSJBVjsJIkSW2n/5E2/T/XXHNNkX59VqAkSWo7DgVKkiSNcAYrSZKkQhwKlCRJbad/jlW/448/ngsuuKDpfg1WkiSpVkNZHqG0vr7WLLPpUKAkSVIhBitJkqRCDFaSJEmFGKwkSZIKMVhJkiQVYrCSJEkqxGAlSZLa0pIlS4gIVq1aVaxP17GSJEm1unj+7UX7O/N/zx7ScT09Pbz1rW+lp6eH888/v8i5vWIlSZLaztatW/nud7/LZZddxtVXX12sX4OVJElqOzfeeCPHH388RxxxBBMnTmTZsmVF+nUosEmnLPSfcE9bUXcBkqRRr6enh3POOQeAOXPm0NPTw8yZM5vu11QgSZLayubNm7n99ttZsWIFEUFfXx8Rwec//3kioqm+HQqUJElt5brrruP0009nzZo1rF69mkceeYSuri7uvvvupvs2WEmSpLbS09PDySef/Jy2D37wg/T09DTdt0OBkiSpVkNdHqGUO+6443fazj777CJ9e8VKkiSpEIOVJElSIQYrSZKkQgxWkiRJhRisJEmSCjFYSZIkFbLL5RYi4nLgRGBDZr6+avs88G+B3wIPAWdk5uMRMQW4H3igevsPMnN+KwqXJEnaXZs2beK4444DYN26dXR0dNDZ2QnAj370I/bee++m+h/KOlZfAS4CrhzQdiuwMDOfjojPAQuBP6/2PZSZ3U1VJUmS2saFHz6xaH+fvubrO903ceJEli9fDsCiRYvYd999+cxnPlPs3LscCszMu4DNz2v7VmY+XW3+AJhUrCJJkqRRqsQcqz8CvjFguysi/iUi7oyItxXoX5IkaVRo6pE2EfGfgaeBf6ia1gKTM3NTRMwElkTEtMzcMsh75wHzACZPntxMGZIkSSPCsK9YRcTHaExq/0hmJkBmPpmZm6rXy2hMbD9isPdn5uLMnJWZs/onjUmSJI1mwwpWEXE88GfA+zLziQHtnRHRUb2eChwOPFyiUEmSpJFuKMst9ADHAgdGRC9wHo27APcBbo0IeHZZhbcDfx0RTwE7gPmZuXnQjiVJksaYXQarzDx1kObLdnLs9cD1zRYlSZLaxwstj9BKixYtKt6nK69LkiQVYrCSJEkqxGAlSZJUiMFKkiSpEIOVJElSIQYrSZKkQpp6pI0kSdJo1NHRwVFHHfXM9pIlS5gyZUrT/RqsJElSrXoX3F20v0kXvG2Xx0yYMIHly5cXPS84FChJklSMV6wkSVLb2bZtG93d3QB0dXVxww03FOnXYCVJktqOQ4GSJEkjnMFKkiSpEIOVJElSIc6xkiRJtRrK8gilbd26tSX9esVKkiSpEIOVJElSIQYrSZKkQgxWkiRJhRisJEmSCjFYSZIkFWKwkiRJbWf9+vWcdtppTJ06lZkzZ3LMMccUeV6g61hJkqRaLVq0aI/2l5mcdNJJzJ07l6uuugqANWvWcNNNNzV9boNVk1b84l/rLkGSJO2G22+/nb333pv58+c/03booYfyqU99qum+HQqUJElt5b777mPGjBkt6dtgJUmS2tqZZ57J9OnTedOb3tR0XwYrSZLUVqZNm8Y999zzzPbFF1/MbbfdxsaNG5vu22AlSZLayuzZs9m+fTuXXHLJM21PPPFEkb6HFKwi4vKI2BARKwe0vTwibo2In1e/D6jaIyL+R0Q8GBH3RkRrBjElSZKGISJYsmQJd955J11dXRx99NHMnTuXz33uc033PdS7Ar8CXARcOaBtAXBbZl4QEQuq7T8H3gMcXv28Gbik+i1JkvQ7Si+3MBQHH3wwV199dfF+h3TFKjPvAjY/r/n9wBXV6yuAkwa0X5kNPwBeFhEHF6hVkiRpRGtmjtUrMnNt9Xod8Irq9SHAIwOO663aniMi5kXE0ohYWmKymCRJUt2KTF7PzARyN9+zODNnZeaszs7OEmVIkiTVqplgtb5/iK/6vaFqfxR49YDjJlVtkiRJQOOxMiPdcGpsJljdBMytXs8FbhzQ/tHq7sDfB341YMhQkiS1ufHjx7Np06YRHa4yk02bNjF+/Pjdet+Q7gqMiB7gWODAiOgFzgMuAK6NiI8Da4BTqsNvBk4AHgSeAM7YrYokSdKYNmnSJHp7e4ssyNlK48ePZ9KkSbv1niEFq8w8dSe7jhvk2ATO3K0qJElS2xg3bhxdXV11l9ESrrwuSZJUiMFKkiSpEIOVJElSIQYrSZKkQgxWkiRJhRisJEmSCjFYSZIkFWKwkiRJKsRgJUmSVIjBSpIkqRCDlSRJUiEGK0mSpEIMVpIkSYUYrCRJkgoxWEmSJBVisJIkSSrEYCVJklSIwUqSJKkQg5UkSVIhBitJkqRCDFaSJEmFGKwkSZIKMVhJkiQVYrCSJEkqxGAlSZJUiMFKkiSpEIOVJElSIQYrSZKkQvYa7hsj4jXANQOapgL/BXgZ8AlgY9X+F5l583DPI0mSNFoMO1hl5gNAN0BEdACPAjcAZwBfyswvlChQkiRptCg1FHgc8FBmrinUnyRJ0qhTKljNAXoGbJ8VEfdGxOURccBgb4iIeRGxNCKWbty4cbBDJEmSRpWmg1VE7A28D/hq1XQJcBiNYcK1wIWDvS8zF2fmrMyc1dnZ2WwZkiRJtStxxeo9wD2ZuR4gM9dnZl9m7gAuBY4ucA5JkqQRr0SwOpUBw4ARcfCAfScDKwucQ5IkacQb9l2BABHxEuAPgU8OaP6biOgGElj9vH2SJEljVlPBKjN/A0x8XtvpTVUkSZI0SrnyuiRJUiEGK0mSpEIMVpIkSYUYrCRJkgoxWEmSJBVisJIkSSrEYCVJklSIwUqSJKkQg5UkSVIhBitJkqRCDFaSJEmFGKwkSZIKMVhJkiQVYrCSJEkqxGAlSZJUiMFKkiSpEIOVJElSIQYrSZKkQvaqu4DRbsr2q+ouoe2srrsASZJ2witWkiRJhRisJEmSCjFYSZIkFWKwkiRJKsRgJUmSVIjBSpIkqRCDlSRJUiEGK0mSpEKaXiA0IlYDvwb6gKczc1ZEvBy4BphCYz3HUzLzl82eS5IkaSQrdcXqHZnZnZmzqu0FwG2ZeThwW7UtSZI0prVqKPD9wBXV6yuAk1p0HkmSpBGjRLBK4FsRsSwi5lVtr8jMtdXrdcArCpxHkiRpRCvxEOa3ZuajEXEQcGtErBq4MzMzIvL5b6pC2DyAyZMnFyhDkiSpXk1fscrMR6vfG4AbgKOB9RFxMED1e8Mg71ucmbMyc1ZnZ2ezZUiSJNWuqWAVES+JiP36XwPvAlYCNwFzq8PmAjc2cx5JkqTRoNmhwFcAN0REf19XZeY3I+LHwLUR8XFgDXBKk+eRJEka8ZoKVpn5MDB9kPZNwHHN9C1JkjTauPK6JElSIQYrSZKkQgxWkiRJhRisJEmSCjFYSZIkFWKwkiRJKsRgJUmSVIjBSpIkqRCDlSRJUiEGK0mSpEIMVpIkSYUYrCRJkgoxWEmSJBVisJIkSSrEYCVJklSIwUqSJKkQg5UkSVIhBitJkqRCDFaSJEmFGKwkSZIKMVhJkiQVYrCSJEkqxGAlSZJUiMFKkiSpEIOVJElSIQYrSZKkQgxWkiRJhRisJEmSChl2sIqIV0fEHRHx04i4LyLOqdoXRcSjEbG8+jmhXLmSJEkj115NvPdp4NOZeU9E7Acsi4hbq31fyswvNF+eJEnS6DHsYJWZa4G11etfR8T9wCGlCpMkSRptisyxiogpwBuBH1ZNZ0XEvRFxeUQcUOIckiRJI13TwSoi9gWuB/4kM7cAlwCHAd00rmhduJP3zYuIpRGxdOPGjc2WIUmSVLumglVEjKMRqv4hM78GkJnrM7MvM3cAlwJHD/bezFycmbMyc1ZnZ2czZUiSJI0IzdwVGMBlwP2Z+cUB7QcPOOxkYOXwy5MkSRo9mrkr8C3A6cCKiFhetf0FcGpEdAMJrAY+2cQ5JEmSRo1m7gr8LhCD7Lp5+OVIkiSNXq68LkmSVIjBSpIkqRCDlSRJUiEGK0mSpEIMVpIkSYUYrCRJkgoxWEmSJBVisJIkSSqkmZXXJbWJ3gV3111C25l0wdvqLkHSMHjFSpIkqRCDlSRJUiEGK0mSpEIMVpIkSYUYrCRJkgrxrkBJkoBFixbVXULbGYv/5l6xkiRJKsRgJUmSVIjBSpIkqRCDlSRJUiEGK0mSpEK8K1DSLv16yby6S2g/F9xfdwVt54+3H1d3CRoDvGIlSZJUiMFKkiSpEIOVJElSIQYrSZKkQgxWkiRJhXhXoKRdOmWhXxV72oq6C5A0LH5bSpKEy4rUYgwuK9KyocCIOD4iHoiIByNiQavOI0mSNFK0JFhFRAdwMfAe4Ejg1Ig4shXnkiRJGiladcXqaODBzHw4M38LXA28v0XnkiRJGhFaFawOAR4ZsN1btUmSJI1ZtU1ej4h5QP9Mwa0R8UBdtbSpA4HH6i5iOOJzdVegUWT0fs4/FnWXoNFj1H7OiVH7OT90ZztaFaweBV49YHtS1faMzFwMLG7R+bULEbE0M2fVXYfUSn7O1Q78nI8srRoK/DFweER0RcTewBzgphadS5IkaURoyRWrzHw6Is4CbgE6gMsz875WnEuSJGmkaNkcq8y8Gbi5Vf2raQ7Dqh34OVc78HM+gkRm1l2DJEnSmOBDmCVJkgoxWEmSJBVisGpDEfGiiNi/7jqk0iLi30XEftXrv4yIr0XEjLrrklolIg6IiDfUXYeeZbBqExFxVUTsHxEvAVYCP42IP627Lqmwv8rMX0fEW4F3ApcBl9Rck1RURHyn+j5/OXAPcGlEfLHuutRgsGofR2bmFuAk4BtAF3B6rRVJ5fVVv98LLM7MfwL2rrEeqRVeWn2ffwC4MjPfTOMPCY0ABqv2MS4ixtEIVjdl5lOAt4RqrHk0Ir4MfBi4OSL2we85jT17RcTBwCnA1+suRs/lF077+DKwGngJcFdEHApsqbUiqbxTaCxM/O7MfBx4OeCQt8aav6bxOX8wM38cEVOBn9dckyquY9XGImKvzHy67jqkUiLiMKA3M5+MiGOBN9AYKnm8zroktQ+vWLWJiDinmuwYEXFZRNwDzK67Lqmw64G+iPg9GqtRvxq4qt6SpLIi4m+q7/NxEXFbRGyMiH9fd11qMFi1jz+qJju+CziAxsT1C+otSSpuR3UV9gPA/8zMPwUOrrkmqbR3Vd/nJ9KY4vF7OOQ9Yhis2kdUv08A/r56KHa8wPHSaPRURJwKfJRnJ/WOq7EeqRX6n/P7XuCrmfmrOovRcxms2seyiPgWjWB1S7WI4o6aa5JKOwM4BvhsZv4iIrqAv6+5Jqm0r0fEKmAmcFtEdALba65JFSevt4mIeBHQDTycmY9HxETgkMy8t97KJEm7q1oc9FeZ2RcRLwb2z8x1ddelZy8naozLzB0R8QvgiIgYX3c9UitExOHAfweOBJ75nGfm1NqKklrjVcA7n/d9fmVdxehZBqs2ERF/DJwDTAKWA78PfB/vDNTY8nfAecCXgHfQGBp0yoPGlIg4DziWxh8QNwPvAb6LwWpE8AunfZwDvAlYk5nvAN4IPF5rRVJ5EzLzNhrTHNZk5iIaE3ylseRDwHHAusw8A5gOvLTektTPK1btY3tmbo8IImKfzFwVEa+puyipsCer+YQ/j4izgEeBfWuuSSptWzW94+mI2B/YQGPNNo0ABqv20RsRLwOWALdGxC+BNbVWJJV3DvBi4Gzgv9IY6p5ba0VSeUur7/NLgWXAVhpTOzQCeFdgG4qIP6Bx2fibmfnbuuuRJA1PREyhcUegd3iPEAarMa66JXenMnPznqpFapWI+Edgp19mmfm+PViO1BIRMeOF9mfmPXuqFu2cwWqMq5ZYSJ67ynr/dnobusaC6irsTmXmnXuqFqlVIuKOF9idmeld3iOAwUrSmBERL6Ga2FttdwD7ZOYT9VYmqV243EKbiIiTI+KlA7ZfFhEn1ViS1Aq30Zi83m8C8O2aapFaIiLOrCav928fEBH/scaSNIDBqn2cN/BBnZn5OI2FFKWxZHxmbu3fqF6/+AWOl0ajT1Tf4QBk5i+BT9RXjgYyWLWPwf5bu9yGxprfDJzgGxEzgW011iO1QkdEPDNvthry3rvGejSA/2NtH0sj4ovAxdX2mTTWP5HGkj8BvhoR/4/GDRqvBD5ca0VSed8EromIL1fbn6zaNAI4eb1NVJN6/wp4J427Am8FPpuZv6m1MKmwiBgH9D9V4IHMfKrOeqTSqqcLzKPxfQ6N7/P/k5l99VWlfgYrSZKkQpxjJUmSVIjBSpIkqRAnr7eJiHhLZv7zrtqk0chHfUgaKZxj1SYi4p7MnLGrNmk0GvCoj/HALOAnNO4KfAOwNDOPqas2qRSfiTk6eMVqjIuIY4B/A3RGxLkDdu0PdNRTlVRWZr4DICK+BszIzBXV9uuBRTWWJpX0her3B2gsJfJ/q+1TgfW1VKTfYbAa+/YG9qXx33q/Ae1bgA/VUpHUOq/pD1UAmbkyIl5XZ0FSKf0PE4+ICzNz1oBd/xgRS2sqS8/jUGCbiIhDM3NN9fpFwL6ZuaXmsqSiIqIH+A3P/iX/ERqf9VPrq0oqKyLuB96bmQ9X213AzZnpHxEjgMGqTUTEVcB8oA/4MY2hwL/NzM/XWphUUESMB/4D8Paq6S7gkszcXl9VUlkR8W7gUuBhGnMJDwXmZea3ai1MgMGqbUTE8szsjoiPADOABcCyzHxDzaVJkoaoGnH4EHAj8NqqeVVmPllfVRrIdazax7jqUR8nATdVj/kwVWtMiYi3RMStEfGziHi4/6fuuqRSMnMH8GeZ+WRm/qT6MVSNIE5ebx9fBlbTuA39rog4lMYEdmksuQz4TzQeMO5z0zRWfTsiPgNcQ2NOIQCZubm+ktTPocA2FREBdGTm03XXIpUSET/MzDfXXYfUShHxi0GaMzOn7vFi9DsMVm0sIs7IzL+ruw6plIi4gMb6bF8DnhkeceV1SXuKwaqNRcS/ZubkuuuQShmwAvtAmZmz93gxUgtExNE0PtM/jogjgeOB+zPzGzWXporBaoyLiHt3tgs4IjP32ZP1SJKGJyLOA95DY370rcCbgTuAPwRuyczP1lieKgarMS4i1gPvBn75/F3A9zLzVXu+Kqm8iHgtcAjww8zcOqD9+Mz8Zn2VSWVExAqgG9gHWAdMyswtETGBxufe5XNGAJdbGPu+TmPl6TXP+1kNfKfe0qQyIuJsGuv6fApYGRHvH7D7v9VTlVTc05nZl5lPAA/1Pz0jM7cBO+otTf1cbmGMy8yPv8C+0/ZkLVILfQKYmZlbI2IKcF1ETMnMv6VxdVYaC34bES+ugtXM/saIeCkGqxHDYCVpLHhR//BfZq6OiGNphKtDMVhp7Hh7/2Kg1UKh/cYBc+spSc/nUKCksWB9RHT3b1Qh60TgQOCouoqSStrZCuuZ+VhmrtjT9WhwTl6XNOpFxCQa80/WDbLvLZn5zzWUJakNGawkSZIKcShQkiSpEIOVJElSIQYrSZKkQgxWkiRJhRisJEmSCvn/sk2MqwJZgKoAAAAASUVORK5CYII=\n",
      "text/plain": [
       "<Figure size 720x360 with 1 Axes>"
      ]
     },
     "metadata": {
      "needs_background": "light"
     },
     "output_type": "display_data"
    }
   ],
   "source": [
    "for dataset in train_test_data:\n",
    "    dataset['Cabin'] = dataset['Cabin'].str[:1]\n",
    "    \n",
    "Pclass1 = train[train['Pclass']==1]['Cabin'].value_counts()\n",
    "Pclass2 = train[train['Pclass']==2]['Cabin'].value_counts()\n",
    "Pclass3 = train[train['Pclass']==3]['Cabin'].value_counts()\n",
    "df = pd.DataFrame([Pclass1, Pclass2, Pclass3])\n",
    "df.index = ['1st class', '2nd class', '3rd class']\n",
    "df.plot(kind='bar', stacked=True, figsize=(10,5))"
   ]
  },
  {
   "cell_type": "markdown",
   "id": "94ca6846",
   "metadata": {
    "papermill": {
     "duration": 0.037808,
     "end_time": "2022-08-11T14:21:01.225041",
     "exception": false,
     "start_time": "2022-08-11T14:21:01.187233",
     "status": "completed"
    },
    "tags": []
   },
   "source": [
    "- #### A-G 알파벳 순으로 객실구역에 따른 Pclass 등급이 낮아짐을 알 수 있다. "
   ]
  },
  {
   "cell_type": "markdown",
   "id": "47986b68",
   "metadata": {
    "papermill": {
     "duration": 0.036572,
     "end_time": "2022-08-11T14:21:01.300052",
     "exception": false,
     "start_time": "2022-08-11T14:21:01.263480",
     "status": "completed"
    },
    "tags": []
   },
   "source": [
    "#### Mapping으로 각 객실 구역을 수치로 바꿔주자.\n",
    "#### feature scaling을 고려하여 범위를 적절히 설정해주자. "
   ]
  },
  {
   "cell_type": "code",
   "execution_count": 46,
   "id": "b39cdb7d",
   "metadata": {
    "execution": {
     "iopub.execute_input": "2022-08-11T14:21:01.375847Z",
     "iopub.status.busy": "2022-08-11T14:21:01.375456Z",
     "iopub.status.idle": "2022-08-11T14:21:01.383891Z",
     "shell.execute_reply": "2022-08-11T14:21:01.382718Z"
    },
    "papermill": {
     "duration": 0.04928,
     "end_time": "2022-08-11T14:21:01.386437",
     "exception": false,
     "start_time": "2022-08-11T14:21:01.337157",
     "status": "completed"
    },
    "tags": []
   },
   "outputs": [],
   "source": [
    "cabin_mapping = {'A':0, 'B':0.4, 'C':0.8, 'D':1.2, 'E':1.6, 'F':2, 'G':2.4, 'T':2.8}\n",
    "for dataset in train_test_data:\n",
    "    dataset['Cabin'] = dataset['Cabin'].map(cabin_mapping)"
   ]
  },
  {
   "cell_type": "markdown",
   "id": "f891f79c",
   "metadata": {
    "papermill": {
     "duration": 0.037686,
     "end_time": "2022-08-11T14:21:01.461525",
     "exception": false,
     "start_time": "2022-08-11T14:21:01.423839",
     "status": "completed"
    },
    "tags": []
   },
   "source": [
    "#### **객실등급(Pclass)을 그룹화하여 각 그룹에 해당하는 'Cabin'의 중앙값을 'Cabin' feature의 결측치로 채워넣자.**"
   ]
  },
  {
   "cell_type": "code",
   "execution_count": 47,
   "id": "cc7b6cdd",
   "metadata": {
    "execution": {
     "iopub.execute_input": "2022-08-11T14:21:01.537755Z",
     "iopub.status.busy": "2022-08-11T14:21:01.537310Z",
     "iopub.status.idle": "2022-08-11T14:21:01.556789Z",
     "shell.execute_reply": "2022-08-11T14:21:01.555637Z"
    },
    "papermill": {
     "duration": 0.059681,
     "end_time": "2022-08-11T14:21:01.558975",
     "exception": false,
     "start_time": "2022-08-11T14:21:01.499294",
     "status": "completed"
    },
    "tags": []
   },
   "outputs": [
    {
     "data": {
      "text/html": [
       "<div>\n",
       "<style scoped>\n",
       "    .dataframe tbody tr th:only-of-type {\n",
       "        vertical-align: middle;\n",
       "    }\n",
       "\n",
       "    .dataframe tbody tr th {\n",
       "        vertical-align: top;\n",
       "    }\n",
       "\n",
       "    .dataframe thead th {\n",
       "        text-align: right;\n",
       "    }\n",
       "</style>\n",
       "<table border=\"1\" class=\"dataframe\">\n",
       "  <thead>\n",
       "    <tr style=\"text-align: right;\">\n",
       "      <th></th>\n",
       "      <th>PassengerId</th>\n",
       "      <th>Survived</th>\n",
       "      <th>Pclass</th>\n",
       "      <th>Sex</th>\n",
       "      <th>Age</th>\n",
       "      <th>SibSp</th>\n",
       "      <th>Parch</th>\n",
       "      <th>Ticket</th>\n",
       "      <th>Fare</th>\n",
       "      <th>Cabin</th>\n",
       "      <th>Embarked</th>\n",
       "      <th>Title</th>\n",
       "    </tr>\n",
       "  </thead>\n",
       "  <tbody>\n",
       "    <tr>\n",
       "      <th>0</th>\n",
       "      <td>1</td>\n",
       "      <td>0</td>\n",
       "      <td>3</td>\n",
       "      <td>0</td>\n",
       "      <td>1</td>\n",
       "      <td>1</td>\n",
       "      <td>0</td>\n",
       "      <td>A/5 21171</td>\n",
       "      <td>0</td>\n",
       "      <td>2.0</td>\n",
       "      <td>0</td>\n",
       "      <td>0</td>\n",
       "    </tr>\n",
       "    <tr>\n",
       "      <th>1</th>\n",
       "      <td>2</td>\n",
       "      <td>1</td>\n",
       "      <td>1</td>\n",
       "      <td>1</td>\n",
       "      <td>3</td>\n",
       "      <td>1</td>\n",
       "      <td>0</td>\n",
       "      <td>PC 17599</td>\n",
       "      <td>2</td>\n",
       "      <td>0.8</td>\n",
       "      <td>1</td>\n",
       "      <td>2</td>\n",
       "    </tr>\n",
       "    <tr>\n",
       "      <th>2</th>\n",
       "      <td>3</td>\n",
       "      <td>1</td>\n",
       "      <td>3</td>\n",
       "      <td>1</td>\n",
       "      <td>1</td>\n",
       "      <td>0</td>\n",
       "      <td>0</td>\n",
       "      <td>STON/O2. 3101282</td>\n",
       "      <td>0</td>\n",
       "      <td>2.0</td>\n",
       "      <td>0</td>\n",
       "      <td>1</td>\n",
       "    </tr>\n",
       "    <tr>\n",
       "      <th>3</th>\n",
       "      <td>4</td>\n",
       "      <td>1</td>\n",
       "      <td>1</td>\n",
       "      <td>1</td>\n",
       "      <td>2</td>\n",
       "      <td>1</td>\n",
       "      <td>0</td>\n",
       "      <td>113803</td>\n",
       "      <td>2</td>\n",
       "      <td>0.8</td>\n",
       "      <td>0</td>\n",
       "      <td>2</td>\n",
       "    </tr>\n",
       "    <tr>\n",
       "      <th>4</th>\n",
       "      <td>5</td>\n",
       "      <td>0</td>\n",
       "      <td>3</td>\n",
       "      <td>0</td>\n",
       "      <td>2</td>\n",
       "      <td>0</td>\n",
       "      <td>0</td>\n",
       "      <td>373450</td>\n",
       "      <td>0</td>\n",
       "      <td>2.0</td>\n",
       "      <td>0</td>\n",
       "      <td>0</td>\n",
       "    </tr>\n",
       "  </tbody>\n",
       "</table>\n",
       "</div>"
      ],
      "text/plain": [
       "   PassengerId  Survived  Pclass  Sex Age  SibSp  Parch            Ticket  \\\n",
       "0            1         0       3    0   1      1      0         A/5 21171   \n",
       "1            2         1       1    1   3      1      0          PC 17599   \n",
       "2            3         1       3    1   1      0      0  STON/O2. 3101282   \n",
       "3            4         1       1    1   2      1      0            113803   \n",
       "4            5         0       3    0   2      0      0            373450   \n",
       "\n",
       "  Fare  Cabin  Embarked  Title  \n",
       "0    0    2.0         0      0  \n",
       "1    2    0.8         1      2  \n",
       "2    0    2.0         0      1  \n",
       "3    2    0.8         0      2  \n",
       "4    0    2.0         0      0  "
      ]
     },
     "execution_count": 47,
     "metadata": {},
     "output_type": "execute_result"
    }
   ],
   "source": [
    "train['Cabin'].fillna(train.groupby('Pclass')['Cabin'].transform('median'), inplace=True)\n",
    "test['Cabin'].fillna(train.groupby('Pclass')['Cabin'].transform('median'), inplace=True)\n",
    "\n",
    "train.head()"
   ]
  },
  {
   "cell_type": "markdown",
   "id": "b7686e00",
   "metadata": {
    "papermill": {
     "duration": 0.036836,
     "end_time": "2022-08-11T14:21:01.632496",
     "exception": false,
     "start_time": "2022-08-11T14:21:01.595660",
     "status": "completed"
    },
    "tags": []
   },
   "source": [
    "#### New feature: FamilySize (가족 크기)"
   ]
  },
  {
   "cell_type": "markdown",
   "id": "ae8b7ddb",
   "metadata": {
    "papermill": {
     "duration": 0.037069,
     "end_time": "2022-08-11T14:21:01.774647",
     "exception": false,
     "start_time": "2022-08-11T14:21:01.737578",
     "status": "completed"
    },
    "tags": []
   },
   "source": [
    "#### SibSp(형제/자매), Parch(부모/자식)의 수를 합친 FamilySize(총 가족의 수)를 새로운 특성으로 추출해보자. \n",
    "#### 가족이 정확히 누구였는지 보다 '가족의 유무'가 더 유용한 데이터가 될 것이다."
   ]
  },
  {
   "cell_type": "code",
   "execution_count": 48,
   "id": "b711a31e",
   "metadata": {
    "execution": {
     "iopub.execute_input": "2022-08-11T14:21:01.850624Z",
     "iopub.status.busy": "2022-08-11T14:21:01.850197Z",
     "iopub.status.idle": "2022-08-11T14:21:02.224082Z",
     "shell.execute_reply": "2022-08-11T14:21:02.222883Z"
    },
    "papermill": {
     "duration": 0.415063,
     "end_time": "2022-08-11T14:21:02.226697",
     "exception": false,
     "start_time": "2022-08-11T14:21:01.811634",
     "status": "completed"
    },
    "tags": []
   },
   "outputs": [
    {
     "data": {
      "text/plain": [
       "(0.0, 11.0)"
      ]
     },
     "execution_count": 48,
     "metadata": {},
     "output_type": "execute_result"
    },
    {
     "data": {
      "image/png": "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\n",
      "text/plain": [
       "<Figure size 915.875x216 with 1 Axes>"
      ]
     },
     "metadata": {
      "needs_background": "light"
     },
     "output_type": "display_data"
    }
   ],
   "source": [
    "train['FamilySize'] = train['SibSp'] + train['Parch'] + 1\n",
    "test['FamilySize'] = test['SibSp'] + test['Parch'] + 1\n",
    "\n",
    "facet = sns.FacetGrid(train, hue='Survived', aspect=4)\n",
    "facet.map(sns.kdeplot, 'FamilySize', shade=True)\n",
    "facet.set(xlim=(0, train['FamilySize'].max()))\n",
    "facet.add_legend()\n",
    "plt.xlim(0)"
   ]
  },
  {
   "cell_type": "markdown",
   "id": "84b280f5",
   "metadata": {
    "papermill": {
     "duration": 0.037111,
     "end_time": "2022-08-11T14:21:02.301783",
     "exception": false,
     "start_time": "2022-08-11T14:21:02.264672",
     "status": "completed"
    },
    "tags": []
   },
   "source": [
    "- #### 혼자 탔을 때 상당히 많은 경우 죽었다.\n",
    "- #### 가족이 한 명이라도 있으면 살 수 있는 확률이 높아진다."
   ]
  },
  {
   "cell_type": "markdown",
   "id": "16a0d588",
   "metadata": {
    "papermill": {
     "duration": 0.037326,
     "end_time": "2022-08-11T14:21:02.376768",
     "exception": false,
     "start_time": "2022-08-11T14:21:02.339442",
     "status": "completed"
    },
    "tags": []
   },
   "source": [
    "#### Mapping으로 각 'FamilySize'을 수치로 바꿔주자.\n",
    "#### feature scaling을 고려하여 범위를 적절히 설정해주자. "
   ]
  },
  {
   "cell_type": "code",
   "execution_count": 49,
   "id": "ee13b2bd",
   "metadata": {
    "execution": {
     "iopub.execute_input": "2022-08-11T14:21:02.454397Z",
     "iopub.status.busy": "2022-08-11T14:21:02.453973Z",
     "iopub.status.idle": "2022-08-11T14:21:02.472316Z",
     "shell.execute_reply": "2022-08-11T14:21:02.471549Z"
    },
    "papermill": {
     "duration": 0.060035,
     "end_time": "2022-08-11T14:21:02.474542",
     "exception": false,
     "start_time": "2022-08-11T14:21:02.414507",
     "status": "completed"
    },
    "tags": []
   },
   "outputs": [
    {
     "data": {
      "text/html": [
       "<div>\n",
       "<style scoped>\n",
       "    .dataframe tbody tr th:only-of-type {\n",
       "        vertical-align: middle;\n",
       "    }\n",
       "\n",
       "    .dataframe tbody tr th {\n",
       "        vertical-align: top;\n",
       "    }\n",
       "\n",
       "    .dataframe thead th {\n",
       "        text-align: right;\n",
       "    }\n",
       "</style>\n",
       "<table border=\"1\" class=\"dataframe\">\n",
       "  <thead>\n",
       "    <tr style=\"text-align: right;\">\n",
       "      <th></th>\n",
       "      <th>PassengerId</th>\n",
       "      <th>Survived</th>\n",
       "      <th>Pclass</th>\n",
       "      <th>Sex</th>\n",
       "      <th>Age</th>\n",
       "      <th>SibSp</th>\n",
       "      <th>Parch</th>\n",
       "      <th>Ticket</th>\n",
       "      <th>Fare</th>\n",
       "      <th>Cabin</th>\n",
       "      <th>Embarked</th>\n",
       "      <th>Title</th>\n",
       "      <th>FamilySize</th>\n",
       "    </tr>\n",
       "  </thead>\n",
       "  <tbody>\n",
       "    <tr>\n",
       "      <th>0</th>\n",
       "      <td>1</td>\n",
       "      <td>0</td>\n",
       "      <td>3</td>\n",
       "      <td>0</td>\n",
       "      <td>1</td>\n",
       "      <td>1</td>\n",
       "      <td>0</td>\n",
       "      <td>A/5 21171</td>\n",
       "      <td>0</td>\n",
       "      <td>2.0</td>\n",
       "      <td>0</td>\n",
       "      <td>0</td>\n",
       "      <td>0.4</td>\n",
       "    </tr>\n",
       "    <tr>\n",
       "      <th>1</th>\n",
       "      <td>2</td>\n",
       "      <td>1</td>\n",
       "      <td>1</td>\n",
       "      <td>1</td>\n",
       "      <td>3</td>\n",
       "      <td>1</td>\n",
       "      <td>0</td>\n",
       "      <td>PC 17599</td>\n",
       "      <td>2</td>\n",
       "      <td>0.8</td>\n",
       "      <td>1</td>\n",
       "      <td>2</td>\n",
       "      <td>0.4</td>\n",
       "    </tr>\n",
       "    <tr>\n",
       "      <th>2</th>\n",
       "      <td>3</td>\n",
       "      <td>1</td>\n",
       "      <td>3</td>\n",
       "      <td>1</td>\n",
       "      <td>1</td>\n",
       "      <td>0</td>\n",
       "      <td>0</td>\n",
       "      <td>STON/O2. 3101282</td>\n",
       "      <td>0</td>\n",
       "      <td>2.0</td>\n",
       "      <td>0</td>\n",
       "      <td>1</td>\n",
       "      <td>0.0</td>\n",
       "    </tr>\n",
       "    <tr>\n",
       "      <th>3</th>\n",
       "      <td>4</td>\n",
       "      <td>1</td>\n",
       "      <td>1</td>\n",
       "      <td>1</td>\n",
       "      <td>2</td>\n",
       "      <td>1</td>\n",
       "      <td>0</td>\n",
       "      <td>113803</td>\n",
       "      <td>2</td>\n",
       "      <td>0.8</td>\n",
       "      <td>0</td>\n",
       "      <td>2</td>\n",
       "      <td>0.4</td>\n",
       "    </tr>\n",
       "    <tr>\n",
       "      <th>4</th>\n",
       "      <td>5</td>\n",
       "      <td>0</td>\n",
       "      <td>3</td>\n",
       "      <td>0</td>\n",
       "      <td>2</td>\n",
       "      <td>0</td>\n",
       "      <td>0</td>\n",
       "      <td>373450</td>\n",
       "      <td>0</td>\n",
       "      <td>2.0</td>\n",
       "      <td>0</td>\n",
       "      <td>0</td>\n",
       "      <td>0.0</td>\n",
       "    </tr>\n",
       "  </tbody>\n",
       "</table>\n",
       "</div>"
      ],
      "text/plain": [
       "   PassengerId  Survived  Pclass  Sex Age  SibSp  Parch            Ticket  \\\n",
       "0            1         0       3    0   1      1      0         A/5 21171   \n",
       "1            2         1       1    1   3      1      0          PC 17599   \n",
       "2            3         1       3    1   1      0      0  STON/O2. 3101282   \n",
       "3            4         1       1    1   2      1      0            113803   \n",
       "4            5         0       3    0   2      0      0            373450   \n",
       "\n",
       "  Fare  Cabin  Embarked  Title  FamilySize  \n",
       "0    0    2.0         0      0         0.4  \n",
       "1    2    0.8         1      2         0.4  \n",
       "2    0    2.0         0      1         0.0  \n",
       "3    2    0.8         0      2         0.4  \n",
       "4    0    2.0         0      0         0.0  "
      ]
     },
     "execution_count": 49,
     "metadata": {},
     "output_type": "execute_result"
    }
   ],
   "source": [
    "family_mapping = {1: 0, 2: 0.4, 3: 0.8, 4: 1.2, 5: 1.6, 6: 2, 7: 2.4, 8: 2.8, 9: 3.2, 10: 3.6, 11: 4}\n",
    "for dataset in train_test_data:\n",
    "    dataset['FamilySize'] = dataset['FamilySize'].map(family_mapping)\n",
    "\n",
    "train.head()"
   ]
  },
  {
   "cell_type": "markdown",
   "id": "1410be4f",
   "metadata": {
    "papermill": {
     "duration": 0.037813,
     "end_time": "2022-08-11T14:21:02.550682",
     "exception": false,
     "start_time": "2022-08-11T14:21:02.512869",
     "status": "completed"
    },
    "tags": []
   },
   "source": [
    "#### **이제 'SibSp'과 'Parch' features는 필요가 없으므로 데이터프레임에서 drop 시키겠다.**\n",
    "#### **Ticket명도 생존여부와 관련이 없으므로 drop 시켜도 무방하다.** \n",
    "#### **PassengerId도 모델링 할 때는 필요가 없으므로 따로 drop 시켜도 무방하다.**"
   ]
  },
  {
   "cell_type": "code",
   "execution_count": 50,
   "id": "186a3b8a",
   "metadata": {
    "execution": {
     "iopub.execute_input": "2022-08-11T14:21:02.628385Z",
     "iopub.status.busy": "2022-08-11T14:21:02.627754Z",
     "iopub.status.idle": "2022-08-11T14:21:02.637733Z",
     "shell.execute_reply": "2022-08-11T14:21:02.636568Z"
    },
    "papermill": {
     "duration": 0.051658,
     "end_time": "2022-08-11T14:21:02.640191",
     "exception": false,
     "start_time": "2022-08-11T14:21:02.588533",
     "status": "completed"
    },
    "tags": []
   },
   "outputs": [],
   "source": [
    "features_drop = ['Ticket', 'SibSp', 'Parch', 'Cabin'] \n",
    "train = train.drop(features_drop, axis=1)\n",
    "test = test.drop(features_drop, axis=1)\n",
    "train = train.drop(['PassengerId'], axis=1)\n",
    "test_data = test.drop(['PassengerId'], axis=1).copy()"
   ]
  },
  {
   "cell_type": "markdown",
   "id": "07a6e2ad",
   "metadata": {
    "papermill": {
     "duration": 0.038246,
     "end_time": "2022-08-11T14:21:02.717025",
     "exception": false,
     "start_time": "2022-08-11T14:21:02.678779",
     "status": "completed"
    },
    "tags": []
   },
   "source": [
    "#### **지도 학습을 하는 분류 모델을 훈련시키기 위해 train_data세트와 target데이터를 나누자.**"
   ]
  },
  {
   "cell_type": "code",
   "execution_count": 51,
   "id": "fc5dd82b",
   "metadata": {
    "execution": {
     "iopub.execute_input": "2022-08-11T14:21:02.795192Z",
     "iopub.status.busy": "2022-08-11T14:21:02.794758Z",
     "iopub.status.idle": "2022-08-11T14:21:02.804216Z",
     "shell.execute_reply": "2022-08-11T14:21:02.803314Z"
    },
    "papermill": {
     "duration": 0.051448,
     "end_time": "2022-08-11T14:21:02.806486",
     "exception": false,
     "start_time": "2022-08-11T14:21:02.755038",
     "status": "completed"
    },
    "tags": []
   },
   "outputs": [
    {
     "data": {
      "text/plain": [
       "((891, 7), (891,))"
      ]
     },
     "execution_count": 51,
     "metadata": {},
     "output_type": "execute_result"
    }
   ],
   "source": [
    "train_data = train.drop('Survived', axis=1)\n",
    "target = train['Survived']\n",
    "\n",
    "train_data.shape, target.shape"
   ]
  },
  {
   "cell_type": "code",
   "execution_count": 52,
   "id": "5f4a6434",
   "metadata": {
    "execution": {
     "iopub.execute_input": "2022-08-11T14:21:02.885025Z",
     "iopub.status.busy": "2022-08-11T14:21:02.884243Z",
     "iopub.status.idle": "2022-08-11T14:21:02.897486Z",
     "shell.execute_reply": "2022-08-11T14:21:02.896352Z"
    },
    "papermill": {
     "duration": 0.055078,
     "end_time": "2022-08-11T14:21:02.899762",
     "exception": false,
     "start_time": "2022-08-11T14:21:02.844684",
     "status": "completed"
    },
    "tags": []
   },
   "outputs": [
    {
     "data": {
      "text/html": [
       "<div>\n",
       "<style scoped>\n",
       "    .dataframe tbody tr th:only-of-type {\n",
       "        vertical-align: middle;\n",
       "    }\n",
       "\n",
       "    .dataframe tbody tr th {\n",
       "        vertical-align: top;\n",
       "    }\n",
       "\n",
       "    .dataframe thead th {\n",
       "        text-align: right;\n",
       "    }\n",
       "</style>\n",
       "<table border=\"1\" class=\"dataframe\">\n",
       "  <thead>\n",
       "    <tr style=\"text-align: right;\">\n",
       "      <th></th>\n",
       "      <th>Pclass</th>\n",
       "      <th>Sex</th>\n",
       "      <th>Age</th>\n",
       "      <th>Fare</th>\n",
       "      <th>Embarked</th>\n",
       "      <th>Title</th>\n",
       "      <th>FamilySize</th>\n",
       "    </tr>\n",
       "  </thead>\n",
       "  <tbody>\n",
       "    <tr>\n",
       "      <th>0</th>\n",
       "      <td>3</td>\n",
       "      <td>0</td>\n",
       "      <td>1</td>\n",
       "      <td>0</td>\n",
       "      <td>0</td>\n",
       "      <td>0</td>\n",
       "      <td>0.4</td>\n",
       "    </tr>\n",
       "    <tr>\n",
       "      <th>1</th>\n",
       "      <td>1</td>\n",
       "      <td>1</td>\n",
       "      <td>3</td>\n",
       "      <td>2</td>\n",
       "      <td>1</td>\n",
       "      <td>2</td>\n",
       "      <td>0.4</td>\n",
       "    </tr>\n",
       "    <tr>\n",
       "      <th>2</th>\n",
       "      <td>3</td>\n",
       "      <td>1</td>\n",
       "      <td>1</td>\n",
       "      <td>0</td>\n",
       "      <td>0</td>\n",
       "      <td>1</td>\n",
       "      <td>0.0</td>\n",
       "    </tr>\n",
       "    <tr>\n",
       "      <th>3</th>\n",
       "      <td>1</td>\n",
       "      <td>1</td>\n",
       "      <td>2</td>\n",
       "      <td>2</td>\n",
       "      <td>0</td>\n",
       "      <td>2</td>\n",
       "      <td>0.4</td>\n",
       "    </tr>\n",
       "    <tr>\n",
       "      <th>4</th>\n",
       "      <td>3</td>\n",
       "      <td>0</td>\n",
       "      <td>2</td>\n",
       "      <td>0</td>\n",
       "      <td>0</td>\n",
       "      <td>0</td>\n",
       "      <td>0.0</td>\n",
       "    </tr>\n",
       "  </tbody>\n",
       "</table>\n",
       "</div>"
      ],
      "text/plain": [
       "   Pclass  Sex Age Fare  Embarked  Title  FamilySize\n",
       "0       3    0   1    0         0      0         0.4\n",
       "1       1    1   3    2         1      2         0.4\n",
       "2       3    1   1    0         0      1         0.0\n",
       "3       1    1   2    2         0      2         0.4\n",
       "4       3    0   2    0         0      0         0.0"
      ]
     },
     "execution_count": 52,
     "metadata": {},
     "output_type": "execute_result"
    }
   ],
   "source": [
    "train_data.head()"
   ]
  },
  {
   "cell_type": "code",
   "execution_count": 53,
   "id": "bfb03589",
   "metadata": {
    "execution": {
     "iopub.execute_input": "2022-08-11T14:21:02.978329Z",
     "iopub.status.busy": "2022-08-11T14:21:02.977609Z",
     "iopub.status.idle": "2022-08-11T14:21:02.985358Z",
     "shell.execute_reply": "2022-08-11T14:21:02.984349Z"
    },
    "papermill": {
     "duration": 0.049658,
     "end_time": "2022-08-11T14:21:02.987749",
     "exception": false,
     "start_time": "2022-08-11T14:21:02.938091",
     "status": "completed"
    },
    "tags": []
   },
   "outputs": [
    {
     "data": {
      "text/plain": [
       "0    0\n",
       "1    1\n",
       "2    1\n",
       "3    1\n",
       "4    0\n",
       "Name: Survived, dtype: int64"
      ]
     },
     "execution_count": 53,
     "metadata": {},
     "output_type": "execute_result"
    }
   ],
   "source": [
    "target.head()"
   ]
  },
  {
   "cell_type": "code",
   "execution_count": 54,
   "id": "476e8910",
   "metadata": {
    "execution": {
     "iopub.execute_input": "2022-08-11T14:21:03.067171Z",
     "iopub.status.busy": "2022-08-11T14:21:03.066786Z",
     "iopub.status.idle": "2022-08-11T14:21:03.075381Z",
     "shell.execute_reply": "2022-08-11T14:21:03.074602Z"
    },
    "papermill": {
     "duration": 0.050984,
     "end_time": "2022-08-11T14:21:03.077585",
     "exception": false,
     "start_time": "2022-08-11T14:21:03.026601",
     "status": "completed"
    },
    "tags": []
   },
   "outputs": [
    {
     "data": {
      "text/plain": [
       "Pclass        0\n",
       "Sex           0\n",
       "Age           0\n",
       "Fare          0\n",
       "Embarked      0\n",
       "Title         0\n",
       "FamilySize    0\n",
       "dtype: int64"
      ]
     },
     "execution_count": 54,
     "metadata": {},
     "output_type": "execute_result"
    }
   ],
   "source": [
    "train_data.isnull().sum() #결측치도 이제 없다는 것을 확인하였다."
   ]
  },
  {
   "cell_type": "code",
   "execution_count": 55,
   "id": "c5e795fe",
   "metadata": {
    "execution": {
     "iopub.execute_input": "2022-08-11T14:21:03.156688Z",
     "iopub.status.busy": "2022-08-11T14:21:03.155657Z",
     "iopub.status.idle": "2022-08-11T14:21:03.167975Z",
     "shell.execute_reply": "2022-08-11T14:21:03.166920Z"
    },
    "papermill": {
     "duration": 0.054167,
     "end_time": "2022-08-11T14:21:03.170240",
     "exception": false,
     "start_time": "2022-08-11T14:21:03.116073",
     "status": "completed"
    },
    "tags": []
   },
   "outputs": [
    {
     "data": {
      "text/html": [
       "<div>\n",
       "<style scoped>\n",
       "    .dataframe tbody tr th:only-of-type {\n",
       "        vertical-align: middle;\n",
       "    }\n",
       "\n",
       "    .dataframe tbody tr th {\n",
       "        vertical-align: top;\n",
       "    }\n",
       "\n",
       "    .dataframe thead th {\n",
       "        text-align: right;\n",
       "    }\n",
       "</style>\n",
       "<table border=\"1\" class=\"dataframe\">\n",
       "  <thead>\n",
       "    <tr style=\"text-align: right;\">\n",
       "      <th></th>\n",
       "      <th>PassengerId</th>\n",
       "      <th>Pclass</th>\n",
       "      <th>Sex</th>\n",
       "      <th>Age</th>\n",
       "      <th>Fare</th>\n",
       "      <th>Embarked</th>\n",
       "      <th>Title</th>\n",
       "      <th>FamilySize</th>\n",
       "    </tr>\n",
       "  </thead>\n",
       "  <tbody>\n",
       "    <tr>\n",
       "      <th>0</th>\n",
       "      <td>892</td>\n",
       "      <td>3</td>\n",
       "      <td>0</td>\n",
       "      <td>2</td>\n",
       "      <td>0</td>\n",
       "      <td>2</td>\n",
       "      <td>0</td>\n",
       "      <td>0.0</td>\n",
       "    </tr>\n",
       "    <tr>\n",
       "      <th>1</th>\n",
       "      <td>893</td>\n",
       "      <td>3</td>\n",
       "      <td>1</td>\n",
       "      <td>3</td>\n",
       "      <td>0</td>\n",
       "      <td>0</td>\n",
       "      <td>2</td>\n",
       "      <td>0.4</td>\n",
       "    </tr>\n",
       "    <tr>\n",
       "      <th>2</th>\n",
       "      <td>894</td>\n",
       "      <td>2</td>\n",
       "      <td>0</td>\n",
       "      <td>4</td>\n",
       "      <td>0</td>\n",
       "      <td>2</td>\n",
       "      <td>0</td>\n",
       "      <td>0.0</td>\n",
       "    </tr>\n",
       "    <tr>\n",
       "      <th>3</th>\n",
       "      <td>895</td>\n",
       "      <td>3</td>\n",
       "      <td>0</td>\n",
       "      <td>1</td>\n",
       "      <td>0</td>\n",
       "      <td>0</td>\n",
       "      <td>0</td>\n",
       "      <td>0.0</td>\n",
       "    </tr>\n",
       "    <tr>\n",
       "      <th>4</th>\n",
       "      <td>896</td>\n",
       "      <td>3</td>\n",
       "      <td>1</td>\n",
       "      <td>1</td>\n",
       "      <td>1</td>\n",
       "      <td>0</td>\n",
       "      <td>2</td>\n",
       "      <td>0.8</td>\n",
       "    </tr>\n",
       "  </tbody>\n",
       "</table>\n",
       "</div>"
      ],
      "text/plain": [
       "   PassengerId  Pclass  Sex Age Fare  Embarked  Title  FamilySize\n",
       "0          892       3    0   2    0         2      0         0.0\n",
       "1          893       3    1   3    0         0      2         0.4\n",
       "2          894       2    0   4    0         2      0         0.0\n",
       "3          895       3    0   1    0         0      0         0.0\n",
       "4          896       3    1   1    1         0      2         0.8"
      ]
     },
     "execution_count": 55,
     "metadata": {},
     "output_type": "execute_result"
    }
   ],
   "source": [
    "test.head()"
   ]
  },
  {
   "cell_type": "code",
   "execution_count": 56,
   "id": "48260045",
   "metadata": {
    "execution": {
     "iopub.execute_input": "2022-08-11T14:21:03.250065Z",
     "iopub.status.busy": "2022-08-11T14:21:03.249620Z",
     "iopub.status.idle": "2022-08-11T14:21:03.270418Z",
     "shell.execute_reply": "2022-08-11T14:21:03.269045Z"
    },
    "papermill": {
     "duration": 0.064056,
     "end_time": "2022-08-11T14:21:03.272966",
     "exception": false,
     "start_time": "2022-08-11T14:21:03.208910",
     "status": "completed"
    },
    "tags": []
   },
   "outputs": [
    {
     "data": {
      "text/html": [
       "<div>\n",
       "<style scoped>\n",
       "    .dataframe tbody tr th:only-of-type {\n",
       "        vertical-align: middle;\n",
       "    }\n",
       "\n",
       "    .dataframe tbody tr th {\n",
       "        vertical-align: top;\n",
       "    }\n",
       "\n",
       "    .dataframe thead th {\n",
       "        text-align: right;\n",
       "    }\n",
       "</style>\n",
       "<table border=\"1\" class=\"dataframe\">\n",
       "  <thead>\n",
       "    <tr style=\"text-align: right;\">\n",
       "      <th></th>\n",
       "      <th>Pclass</th>\n",
       "      <th>Sex</th>\n",
       "      <th>Age</th>\n",
       "      <th>Fare</th>\n",
       "      <th>Embarked</th>\n",
       "      <th>Title</th>\n",
       "      <th>FamilySize</th>\n",
       "    </tr>\n",
       "  </thead>\n",
       "  <tbody>\n",
       "    <tr>\n",
       "      <th>0</th>\n",
       "      <td>3</td>\n",
       "      <td>0</td>\n",
       "      <td>1</td>\n",
       "      <td>0</td>\n",
       "      <td>0</td>\n",
       "      <td>0</td>\n",
       "      <td>0.4</td>\n",
       "    </tr>\n",
       "    <tr>\n",
       "      <th>1</th>\n",
       "      <td>1</td>\n",
       "      <td>1</td>\n",
       "      <td>3</td>\n",
       "      <td>2</td>\n",
       "      <td>1</td>\n",
       "      <td>2</td>\n",
       "      <td>0.4</td>\n",
       "    </tr>\n",
       "    <tr>\n",
       "      <th>2</th>\n",
       "      <td>3</td>\n",
       "      <td>1</td>\n",
       "      <td>1</td>\n",
       "      <td>0</td>\n",
       "      <td>0</td>\n",
       "      <td>1</td>\n",
       "      <td>0.0</td>\n",
       "    </tr>\n",
       "    <tr>\n",
       "      <th>3</th>\n",
       "      <td>1</td>\n",
       "      <td>1</td>\n",
       "      <td>2</td>\n",
       "      <td>2</td>\n",
       "      <td>0</td>\n",
       "      <td>2</td>\n",
       "      <td>0.4</td>\n",
       "    </tr>\n",
       "    <tr>\n",
       "      <th>4</th>\n",
       "      <td>3</td>\n",
       "      <td>0</td>\n",
       "      <td>2</td>\n",
       "      <td>0</td>\n",
       "      <td>0</td>\n",
       "      <td>0</td>\n",
       "      <td>0.0</td>\n",
       "    </tr>\n",
       "  </tbody>\n",
       "</table>\n",
       "</div>"
      ],
      "text/plain": [
       "   Pclass  Sex Age Fare  Embarked  Title  FamilySize\n",
       "0       3    0   1    0         0      0         0.4\n",
       "1       1    1   3    2         1      2         0.4\n",
       "2       3    1   1    0         0      1         0.0\n",
       "3       1    1   2    2         0      2         0.4\n",
       "4       3    0   2    0         0      0         0.0"
      ]
     },
     "execution_count": 56,
     "metadata": {},
     "output_type": "execute_result"
    }
   ],
   "source": [
    "train_data.head()"
   ]
  },
  {
   "cell_type": "markdown",
   "id": "7d21ea58",
   "metadata": {
    "papermill": {
     "duration": 0.045145,
     "end_time": "2022-08-11T14:21:03.368318",
     "exception": false,
     "start_time": "2022-08-11T14:21:03.323173",
     "status": "completed"
    },
    "tags": []
   },
   "source": [
    "### **Data Normalization**"
   ]
  },
  {
   "cell_type": "markdown",
   "id": "e641df16",
   "metadata": {
    "papermill": {
     "duration": 0.039269,
     "end_time": "2022-08-11T14:21:03.446142",
     "exception": false,
     "start_time": "2022-08-11T14:21:03.406873",
     "status": "completed"
    },
    "tags": []
   },
   "source": [
    "#### MinMax 정규화"
   ]
  },
  {
   "cell_type": "code",
   "execution_count": 57,
   "id": "53c93781",
   "metadata": {
    "execution": {
     "iopub.execute_input": "2022-08-11T14:21:03.526983Z",
     "iopub.status.busy": "2022-08-11T14:21:03.526113Z",
     "iopub.status.idle": "2022-08-11T14:21:03.556910Z",
     "shell.execute_reply": "2022-08-11T14:21:03.555703Z"
    },
    "papermill": {
     "duration": 0.074012,
     "end_time": "2022-08-11T14:21:03.559303",
     "exception": false,
     "start_time": "2022-08-11T14:21:03.485291",
     "status": "completed"
    },
    "tags": []
   },
   "outputs": [
    {
     "data": {
      "text/html": [
       "<div>\n",
       "<style scoped>\n",
       "    .dataframe tbody tr th:only-of-type {\n",
       "        vertical-align: middle;\n",
       "    }\n",
       "\n",
       "    .dataframe tbody tr th {\n",
       "        vertical-align: top;\n",
       "    }\n",
       "\n",
       "    .dataframe thead th {\n",
       "        text-align: right;\n",
       "    }\n",
       "</style>\n",
       "<table border=\"1\" class=\"dataframe\">\n",
       "  <thead>\n",
       "    <tr style=\"text-align: right;\">\n",
       "      <th></th>\n",
       "      <th>Pclass</th>\n",
       "      <th>Sex</th>\n",
       "      <th>Age</th>\n",
       "      <th>Fare</th>\n",
       "      <th>Embarked</th>\n",
       "      <th>Title</th>\n",
       "      <th>FamilySize</th>\n",
       "    </tr>\n",
       "  </thead>\n",
       "  <tbody>\n",
       "    <tr>\n",
       "      <th>0</th>\n",
       "      <td>1.0</td>\n",
       "      <td>0.0</td>\n",
       "      <td>0.25</td>\n",
       "      <td>0.000000</td>\n",
       "      <td>0.0</td>\n",
       "      <td>0.00</td>\n",
       "      <td>0.1</td>\n",
       "    </tr>\n",
       "    <tr>\n",
       "      <th>1</th>\n",
       "      <td>0.0</td>\n",
       "      <td>1.0</td>\n",
       "      <td>0.75</td>\n",
       "      <td>0.666667</td>\n",
       "      <td>0.5</td>\n",
       "      <td>0.50</td>\n",
       "      <td>0.1</td>\n",
       "    </tr>\n",
       "    <tr>\n",
       "      <th>2</th>\n",
       "      <td>1.0</td>\n",
       "      <td>1.0</td>\n",
       "      <td>0.25</td>\n",
       "      <td>0.000000</td>\n",
       "      <td>0.0</td>\n",
       "      <td>0.25</td>\n",
       "      <td>0.0</td>\n",
       "    </tr>\n",
       "    <tr>\n",
       "      <th>3</th>\n",
       "      <td>0.0</td>\n",
       "      <td>1.0</td>\n",
       "      <td>0.50</td>\n",
       "      <td>0.666667</td>\n",
       "      <td>0.0</td>\n",
       "      <td>0.50</td>\n",
       "      <td>0.1</td>\n",
       "    </tr>\n",
       "    <tr>\n",
       "      <th>4</th>\n",
       "      <td>1.0</td>\n",
       "      <td>0.0</td>\n",
       "      <td>0.50</td>\n",
       "      <td>0.000000</td>\n",
       "      <td>0.0</td>\n",
       "      <td>0.00</td>\n",
       "      <td>0.0</td>\n",
       "    </tr>\n",
       "    <tr>\n",
       "      <th>...</th>\n",
       "      <td>...</td>\n",
       "      <td>...</td>\n",
       "      <td>...</td>\n",
       "      <td>...</td>\n",
       "      <td>...</td>\n",
       "      <td>...</td>\n",
       "      <td>...</td>\n",
       "    </tr>\n",
       "    <tr>\n",
       "      <th>886</th>\n",
       "      <td>0.5</td>\n",
       "      <td>0.0</td>\n",
       "      <td>0.25</td>\n",
       "      <td>0.333333</td>\n",
       "      <td>0.0</td>\n",
       "      <td>1.00</td>\n",
       "      <td>0.0</td>\n",
       "    </tr>\n",
       "    <tr>\n",
       "      <th>887</th>\n",
       "      <td>0.0</td>\n",
       "      <td>1.0</td>\n",
       "      <td>0.00</td>\n",
       "      <td>0.333333</td>\n",
       "      <td>0.0</td>\n",
       "      <td>0.25</td>\n",
       "      <td>0.0</td>\n",
       "    </tr>\n",
       "    <tr>\n",
       "      <th>888</th>\n",
       "      <td>1.0</td>\n",
       "      <td>1.0</td>\n",
       "      <td>0.25</td>\n",
       "      <td>0.333333</td>\n",
       "      <td>0.0</td>\n",
       "      <td>0.25</td>\n",
       "      <td>0.3</td>\n",
       "    </tr>\n",
       "    <tr>\n",
       "      <th>889</th>\n",
       "      <td>0.0</td>\n",
       "      <td>0.0</td>\n",
       "      <td>0.25</td>\n",
       "      <td>0.333333</td>\n",
       "      <td>0.5</td>\n",
       "      <td>0.00</td>\n",
       "      <td>0.0</td>\n",
       "    </tr>\n",
       "    <tr>\n",
       "      <th>890</th>\n",
       "      <td>1.0</td>\n",
       "      <td>0.0</td>\n",
       "      <td>0.50</td>\n",
       "      <td>0.000000</td>\n",
       "      <td>1.0</td>\n",
       "      <td>0.00</td>\n",
       "      <td>0.0</td>\n",
       "    </tr>\n",
       "  </tbody>\n",
       "</table>\n",
       "<p>891 rows × 7 columns</p>\n",
       "</div>"
      ],
      "text/plain": [
       "     Pclass  Sex   Age      Fare  Embarked  Title  FamilySize\n",
       "0       1.0  0.0  0.25  0.000000       0.0   0.00         0.1\n",
       "1       0.0  1.0  0.75  0.666667       0.5   0.50         0.1\n",
       "2       1.0  1.0  0.25  0.000000       0.0   0.25         0.0\n",
       "3       0.0  1.0  0.50  0.666667       0.0   0.50         0.1\n",
       "4       1.0  0.0  0.50  0.000000       0.0   0.00         0.0\n",
       "..      ...  ...   ...       ...       ...    ...         ...\n",
       "886     0.5  0.0  0.25  0.333333       0.0   1.00         0.0\n",
       "887     0.0  1.0  0.00  0.333333       0.0   0.25         0.0\n",
       "888     1.0  1.0  0.25  0.333333       0.0   0.25         0.3\n",
       "889     0.0  0.0  0.25  0.333333       0.5   0.00         0.0\n",
       "890     1.0  0.0  0.50  0.000000       1.0   0.00         0.0\n",
       "\n",
       "[891 rows x 7 columns]"
      ]
     },
     "execution_count": 57,
     "metadata": {},
     "output_type": "execute_result"
    }
   ],
   "source": [
    "def minmax_norm(df):\n",
    "    result = df.copy()\n",
    "    for feature_name in df.columns:\n",
    "        max_value = int(df[feature_name].max())\n",
    "        min_value = int(df[feature_name].min())\n",
    "        result[feature_name] = (pd.to_numeric(df[feature_name]) - min_value) / (max_value - min_value)\n",
    "    return result\n",
    "\n",
    "df_minmax_norm_train = minmax_norm(train_data)\n",
    "df_minmax_norm_train"
   ]
  },
  {
   "cell_type": "code",
   "execution_count": 58,
   "id": "2e3458b4",
   "metadata": {
    "execution": {
     "iopub.execute_input": "2022-08-11T14:21:03.640000Z",
     "iopub.status.busy": "2022-08-11T14:21:03.639228Z",
     "iopub.status.idle": "2022-08-11T14:21:03.665352Z",
     "shell.execute_reply": "2022-08-11T14:21:03.664203Z"
    },
    "papermill": {
     "duration": 0.068853,
     "end_time": "2022-08-11T14:21:03.667639",
     "exception": false,
     "start_time": "2022-08-11T14:21:03.598786",
     "status": "completed"
    },
    "tags": []
   },
   "outputs": [
    {
     "data": {
      "text/html": [
       "<div>\n",
       "<style scoped>\n",
       "    .dataframe tbody tr th:only-of-type {\n",
       "        vertical-align: middle;\n",
       "    }\n",
       "\n",
       "    .dataframe tbody tr th {\n",
       "        vertical-align: top;\n",
       "    }\n",
       "\n",
       "    .dataframe thead th {\n",
       "        text-align: right;\n",
       "    }\n",
       "</style>\n",
       "<table border=\"1\" class=\"dataframe\">\n",
       "  <thead>\n",
       "    <tr style=\"text-align: right;\">\n",
       "      <th></th>\n",
       "      <th>Pclass</th>\n",
       "      <th>Sex</th>\n",
       "      <th>Age</th>\n",
       "      <th>Fare</th>\n",
       "      <th>Embarked</th>\n",
       "      <th>Title</th>\n",
       "      <th>FamilySize</th>\n",
       "    </tr>\n",
       "  </thead>\n",
       "  <tbody>\n",
       "    <tr>\n",
       "      <th>0</th>\n",
       "      <td>1.0</td>\n",
       "      <td>0.0</td>\n",
       "      <td>0.50</td>\n",
       "      <td>0.000000</td>\n",
       "      <td>1.0</td>\n",
       "      <td>0.00</td>\n",
       "      <td>0.0</td>\n",
       "    </tr>\n",
       "    <tr>\n",
       "      <th>1</th>\n",
       "      <td>1.0</td>\n",
       "      <td>1.0</td>\n",
       "      <td>0.75</td>\n",
       "      <td>0.000000</td>\n",
       "      <td>0.0</td>\n",
       "      <td>0.50</td>\n",
       "      <td>0.1</td>\n",
       "    </tr>\n",
       "    <tr>\n",
       "      <th>2</th>\n",
       "      <td>0.5</td>\n",
       "      <td>0.0</td>\n",
       "      <td>1.00</td>\n",
       "      <td>0.000000</td>\n",
       "      <td>1.0</td>\n",
       "      <td>0.00</td>\n",
       "      <td>0.0</td>\n",
       "    </tr>\n",
       "    <tr>\n",
       "      <th>3</th>\n",
       "      <td>1.0</td>\n",
       "      <td>0.0</td>\n",
       "      <td>0.25</td>\n",
       "      <td>0.000000</td>\n",
       "      <td>0.0</td>\n",
       "      <td>0.00</td>\n",
       "      <td>0.0</td>\n",
       "    </tr>\n",
       "    <tr>\n",
       "      <th>4</th>\n",
       "      <td>1.0</td>\n",
       "      <td>1.0</td>\n",
       "      <td>0.25</td>\n",
       "      <td>0.333333</td>\n",
       "      <td>0.0</td>\n",
       "      <td>0.50</td>\n",
       "      <td>0.2</td>\n",
       "    </tr>\n",
       "    <tr>\n",
       "      <th>...</th>\n",
       "      <td>...</td>\n",
       "      <td>...</td>\n",
       "      <td>...</td>\n",
       "      <td>...</td>\n",
       "      <td>...</td>\n",
       "      <td>...</td>\n",
       "      <td>...</td>\n",
       "    </tr>\n",
       "    <tr>\n",
       "      <th>413</th>\n",
       "      <td>1.0</td>\n",
       "      <td>0.0</td>\n",
       "      <td>0.25</td>\n",
       "      <td>0.000000</td>\n",
       "      <td>0.0</td>\n",
       "      <td>0.00</td>\n",
       "      <td>0.0</td>\n",
       "    </tr>\n",
       "    <tr>\n",
       "      <th>414</th>\n",
       "      <td>0.0</td>\n",
       "      <td>1.0</td>\n",
       "      <td>0.75</td>\n",
       "      <td>1.000000</td>\n",
       "      <td>0.5</td>\n",
       "      <td>1.00</td>\n",
       "      <td>0.0</td>\n",
       "    </tr>\n",
       "    <tr>\n",
       "      <th>415</th>\n",
       "      <td>1.0</td>\n",
       "      <td>0.0</td>\n",
       "      <td>0.75</td>\n",
       "      <td>0.000000</td>\n",
       "      <td>0.0</td>\n",
       "      <td>0.00</td>\n",
       "      <td>0.0</td>\n",
       "    </tr>\n",
       "    <tr>\n",
       "      <th>416</th>\n",
       "      <td>1.0</td>\n",
       "      <td>0.0</td>\n",
       "      <td>0.25</td>\n",
       "      <td>0.000000</td>\n",
       "      <td>0.0</td>\n",
       "      <td>0.00</td>\n",
       "      <td>0.0</td>\n",
       "    </tr>\n",
       "    <tr>\n",
       "      <th>417</th>\n",
       "      <td>1.0</td>\n",
       "      <td>0.0</td>\n",
       "      <td>0.00</td>\n",
       "      <td>0.333333</td>\n",
       "      <td>0.5</td>\n",
       "      <td>0.75</td>\n",
       "      <td>0.2</td>\n",
       "    </tr>\n",
       "  </tbody>\n",
       "</table>\n",
       "<p>418 rows × 7 columns</p>\n",
       "</div>"
      ],
      "text/plain": [
       "     Pclass  Sex   Age      Fare  Embarked  Title  FamilySize\n",
       "0       1.0  0.0  0.50  0.000000       1.0   0.00         0.0\n",
       "1       1.0  1.0  0.75  0.000000       0.0   0.50         0.1\n",
       "2       0.5  0.0  1.00  0.000000       1.0   0.00         0.0\n",
       "3       1.0  0.0  0.25  0.000000       0.0   0.00         0.0\n",
       "4       1.0  1.0  0.25  0.333333       0.0   0.50         0.2\n",
       "..      ...  ...   ...       ...       ...    ...         ...\n",
       "413     1.0  0.0  0.25  0.000000       0.0   0.00         0.0\n",
       "414     0.0  1.0  0.75  1.000000       0.5   1.00         0.0\n",
       "415     1.0  0.0  0.75  0.000000       0.0   0.00         0.0\n",
       "416     1.0  0.0  0.25  0.000000       0.0   0.00         0.0\n",
       "417     1.0  0.0  0.00  0.333333       0.5   0.75         0.2\n",
       "\n",
       "[418 rows x 7 columns]"
      ]
     },
     "execution_count": 58,
     "metadata": {},
     "output_type": "execute_result"
    }
   ],
   "source": [
    "df_minmax_norm_test = minmax_norm(test_data)\n",
    "df_minmax_norm_test"
   ]
  },
  {
   "cell_type": "markdown",
   "id": "537c3ba8",
   "metadata": {
    "papermill": {
     "duration": 0.038972,
     "end_time": "2022-08-11T14:21:03.745300",
     "exception": false,
     "start_time": "2022-08-11T14:21:03.706328",
     "status": "completed"
    },
    "tags": []
   },
   "source": [
    "#### StandardScaler 표준화"
   ]
  },
  {
   "cell_type": "code",
   "execution_count": 59,
   "id": "7e8c6471",
   "metadata": {
    "execution": {
     "iopub.execute_input": "2022-08-11T14:21:03.828463Z",
     "iopub.status.busy": "2022-08-11T14:21:03.828031Z",
     "iopub.status.idle": "2022-08-11T14:21:03.989729Z",
     "shell.execute_reply": "2022-08-11T14:21:03.988540Z"
    },
    "papermill": {
     "duration": 0.208049,
     "end_time": "2022-08-11T14:21:03.992499",
     "exception": false,
     "start_time": "2022-08-11T14:21:03.784450",
     "status": "completed"
    },
    "tags": []
   },
   "outputs": [
    {
     "name": "stdout",
     "output_type": "stream",
     "text": [
      "       Pclass       Sex       Age      Fare  Embarked     Title  FamilySize\n",
      "0    0.827377 -0.737695 -0.379177 -0.991584 -0.568837 -0.704470    0.059160\n",
      "1   -1.566107  1.355574  1.413113  1.203450  1.005181  1.197599    0.059160\n",
      "2    0.827377  1.355574 -0.379177 -0.991584 -0.568837  0.246564   -0.560975\n",
      "3   -1.566107  1.355574  0.516968  1.203450 -0.568837  1.197599    0.059160\n",
      "4    0.827377 -0.737695  0.516968 -0.991584 -0.568837 -0.704470   -0.560975\n",
      "..        ...       ...       ...       ...       ...       ...         ...\n",
      "886 -0.369365 -0.737695 -0.379177  0.105933 -0.568837  3.099668   -0.560975\n",
      "887 -1.566107  1.355574 -1.275322  0.105933 -0.568837  0.246564   -0.560975\n",
      "888  0.827377  1.355574 -0.379177  0.105933 -0.568837  0.246564    1.299429\n",
      "889 -1.566107 -0.737695 -0.379177  0.105933  1.005181 -0.704470   -0.560975\n",
      "890  0.827377 -0.737695  0.516968 -0.991584  2.579199 -0.704470   -0.560975\n",
      "\n",
      "[891 rows x 7 columns]\n",
      "       Pclass       Sex       Age      Fare  Embarked     Title  FamilySize\n",
      "0    0.827377 -0.737695  0.516968 -0.991584  2.579199 -0.704470   -0.560975\n",
      "1    0.827377  1.355574  1.413113 -0.991584 -0.568837  1.197599    0.059160\n",
      "2   -0.369365 -0.737695  2.309259 -0.991584  2.579199 -0.704470   -0.560975\n",
      "3    0.827377 -0.737695 -0.379177 -0.991584 -0.568837 -0.704470   -0.560975\n",
      "4    0.827377  1.355574 -0.379177  0.105933 -0.568837  1.197599    0.679295\n",
      "..        ...       ...       ...       ...       ...       ...         ...\n",
      "413  0.827377 -0.737695 -0.379177 -0.991584 -0.568837 -0.704470   -0.560975\n",
      "414 -1.566107  1.355574  1.413113  2.300967  1.005181  3.099668   -0.560975\n",
      "415  0.827377 -0.737695  1.413113 -0.991584 -0.568837 -0.704470   -0.560975\n",
      "416  0.827377 -0.737695 -0.379177 -0.991584 -0.568837 -0.704470   -0.560975\n",
      "417  0.827377 -0.737695 -1.275322  0.105933  1.005181  2.148633    0.679295\n",
      "\n",
      "[418 rows x 7 columns]\n"
     ]
    }
   ],
   "source": [
    "from sklearn.preprocessing import StandardScaler #데이터 정규화 \n",
    "ss = StandardScaler()\n",
    "ss.fit(train_data)\n",
    "\n",
    "train_scaled = ss.transform(train_data)\n",
    "test_scaled = ss.transform(test_data)  #훈련 세트로 학습한 변환기를 사용해 테스트 세트까지 변환!\n",
    "\n",
    "train_scaled_df = pd.DataFrame(train_scaled) \n",
    "test_scaled_df = pd.DataFrame(test_scaled)\n",
    "\n",
    "train_scaled_df.columns = list(train_data) #열 제목 변경 \n",
    "test_scaled_df.columns = list(test_data)\n",
    "\n",
    "print(train_scaled_df)\n",
    "print(test_scaled_df)"
   ]
  },
  {
   "cell_type": "markdown",
   "id": "b07fe2a0",
   "metadata": {
    "papermill": {
     "duration": 0.041176,
     "end_time": "2022-08-11T14:21:04.075370",
     "exception": false,
     "start_time": "2022-08-11T14:21:04.034194",
     "status": "completed"
    },
    "tags": []
   },
   "source": [
    "### **Modeling**"
   ]
  },
  {
   "cell_type": "markdown",
   "id": "09d11f03",
   "metadata": {
    "papermill": {
     "duration": 0.04185,
     "end_time": "2022-08-11T14:21:04.158534",
     "exception": false,
     "start_time": "2022-08-11T14:21:04.116684",
     "status": "completed"
    },
    "tags": []
   },
   "source": [
    "#### Classification Algorithms (분류 알고리즘)\n",
    "\n",
    "- K-Nearest Neighbor (K-NN)\n",
    "- Decision Tree\n",
    "- Random Forest\n",
    "- Naive Bayes Classifier\n",
    "- Support Vector Machine (SVM)\n",
    "- Logistic Regression\n",
    "- Gradient Boosting Tree (GBT)\n",
    "- SGD Classifier\n",
    "- AdaBoost\n",
    "- XGBClassifier\n",
    "- HistGradientBoostingClassifier\n",
    "- LGBMClassifier"
   ]
  },
  {
   "cell_type": "markdown",
   "id": "d94bdcf1",
   "metadata": {
    "papermill": {
     "duration": 0.0719,
     "end_time": "2022-08-11T14:21:04.271353",
     "exception": false,
     "start_time": "2022-08-11T14:21:04.199453",
     "status": "completed"
    },
    "tags": []
   },
   "source": [
    "#### Classifier 모듈을 import 해보자."
   ]
  },
  {
   "cell_type": "code",
   "execution_count": 60,
   "id": "064a009e",
   "metadata": {
    "execution": {
     "iopub.execute_input": "2022-08-11T14:21:04.354952Z",
     "iopub.status.busy": "2022-08-11T14:21:04.354272Z",
     "iopub.status.idle": "2022-08-11T14:21:05.593580Z",
     "shell.execute_reply": "2022-08-11T14:21:05.592013Z"
    },
    "papermill": {
     "duration": 1.284488,
     "end_time": "2022-08-11T14:21:05.596692",
     "exception": false,
     "start_time": "2022-08-11T14:21:04.312204",
     "status": "completed"
    },
    "tags": []
   },
   "outputs": [
    {
     "name": "stderr",
     "output_type": "stream",
     "text": [
      "/opt/conda/lib/python3.7/site-packages/sklearn/experimental/enable_hist_gradient_boosting.py:17: UserWarning: Since version 1.0, it is not needed to import enable_hist_gradient_boosting anymore. HistGradientBoostingClassifier and HistGradientBoostingRegressor are now stable and can be normally imported from sklearn.ensemble.\n",
      "  \"Since version 1.0, \"\n"
     ]
    },
    {
     "data": {
      "text/html": [
       "<style type='text/css'>\n",
       ".datatable table.frame { margin-bottom: 0; }\n",
       ".datatable table.frame thead { border-bottom: none; }\n",
       ".datatable table.frame tr.coltypes td {  color: #FFFFFF;  line-height: 6px;  padding: 0 0.5em;}\n",
       ".datatable .bool    { background: #DDDD99; }\n",
       ".datatable .object  { background: #565656; }\n",
       ".datatable .int     { background: #5D9E5D; }\n",
       ".datatable .float   { background: #4040CC; }\n",
       ".datatable .str     { background: #CC4040; }\n",
       ".datatable .time    { background: #40CC40; }\n",
       ".datatable .row_index {  background: var(--jp-border-color3);  border-right: 1px solid var(--jp-border-color0);  color: var(--jp-ui-font-color3);  font-size: 9px;}\n",
       ".datatable .frame tbody td { text-align: left; }\n",
       ".datatable .frame tr.coltypes .row_index {  background: var(--jp-border-color0);}\n",
       ".datatable th:nth-child(2) { padding-left: 12px; }\n",
       ".datatable .hellipsis {  color: var(--jp-cell-editor-border-color);}\n",
       ".datatable .vellipsis {  background: var(--jp-layout-color0);  color: var(--jp-cell-editor-border-color);}\n",
       ".datatable .na {  color: var(--jp-cell-editor-border-color);  font-size: 80%;}\n",
       ".datatable .sp {  opacity: 0.25;}\n",
       ".datatable .footer { font-size: 9px; }\n",
       ".datatable .frame_dimensions {  background: var(--jp-border-color3);  border-top: 1px solid var(--jp-border-color0);  color: var(--jp-ui-font-color3);  display: inline-block;  opacity: 0.6;  padding: 1px 10px 1px 5px;}\n",
       "</style>\n"
      ],
      "text/plain": [
       "<IPython.core.display.HTML object>"
      ]
     },
     "metadata": {},
     "output_type": "display_data"
    }
   ],
   "source": [
    "from sklearn.neighbors import KNeighborsClassifier\n",
    "from sklearn.tree import DecisionTreeClassifier\n",
    "from sklearn.ensemble import RandomForestClassifier\n",
    "from sklearn.naive_bayes import GaussianNB\n",
    "from sklearn.svm import SVC\n",
    "from sklearn.linear_model import LogisticRegression\n",
    "from sklearn.ensemble import GradientBoostingClassifier\n",
    "from sklearn.linear_model import SGDClassifier\n",
    "from sklearn.ensemble import AdaBoostClassifier\n",
    "from xgboost import XGBClassifier\n",
    "from sklearn.experimental import enable_hist_gradient_boosting\n",
    "from sklearn.ensemble import HistGradientBoostingClassifier\n",
    "from lightgbm import LGBMClassifier"
   ]
  },
  {
   "cell_type": "markdown",
   "id": "e00e73ca",
   "metadata": {
    "papermill": {
     "duration": 0.039828,
     "end_time": "2022-08-11T14:21:05.678275",
     "exception": false,
     "start_time": "2022-08-11T14:21:05.638447",
     "status": "completed"
    },
    "tags": []
   },
   "source": [
    "#### 훈련데이터의 과대적합을 막기 위해, \n",
    "#### 그리고 테스트데이터는 훈련에 사용할 수가 없으므로 Cross Validation (K-fold) 교차검증을 활용한다."
   ]
  },
  {
   "cell_type": "code",
   "execution_count": 61,
   "id": "bd20b4db",
   "metadata": {
    "execution": {
     "iopub.execute_input": "2022-08-11T14:21:05.761473Z",
     "iopub.status.busy": "2022-08-11T14:21:05.761018Z",
     "iopub.status.idle": "2022-08-11T14:21:05.766241Z",
     "shell.execute_reply": "2022-08-11T14:21:05.765072Z"
    },
    "papermill": {
     "duration": 0.049881,
     "end_time": "2022-08-11T14:21:05.768333",
     "exception": false,
     "start_time": "2022-08-11T14:21:05.718452",
     "status": "completed"
    },
    "tags": []
   },
   "outputs": [],
   "source": [
    "from sklearn.model_selection import KFold\n",
    "from sklearn.model_selection import cross_val_score\n",
    "k_fold = KFold(n_splits=10, shuffle=True, random_state=0) #10개 구간으로 나누기 "
   ]
  },
  {
   "cell_type": "markdown",
   "id": "18454375",
   "metadata": {
    "papermill": {
     "duration": 0.039722,
     "end_time": "2022-08-11T14:21:05.848204",
     "exception": false,
     "start_time": "2022-08-11T14:21:05.808482",
     "status": "completed"
    },
    "tags": []
   },
   "source": [
    "#### for문을 활용하여 각 모델별로 교차 검증을 수행하고, 평균 및 표준편차를 계산한 후, 데이터프레임으로 만들어 보았다. "
   ]
  },
  {
   "cell_type": "code",
   "execution_count": 62,
   "id": "abfa7343",
   "metadata": {
    "execution": {
     "iopub.execute_input": "2022-08-11T14:21:05.930908Z",
     "iopub.status.busy": "2022-08-11T14:21:05.929765Z",
     "iopub.status.idle": "2022-08-11T14:21:10.839647Z",
     "shell.execute_reply": "2022-08-11T14:21:10.838561Z"
    },
    "papermill": {
     "duration": 4.953712,
     "end_time": "2022-08-11T14:21:10.841841",
     "exception": false,
     "start_time": "2022-08-11T14:21:05.888129",
     "status": "completed"
    },
    "tags": []
   },
   "outputs": [
    {
     "data": {
      "text/html": [
       "<div>\n",
       "<style scoped>\n",
       "    .dataframe tbody tr th:only-of-type {\n",
       "        vertical-align: middle;\n",
       "    }\n",
       "\n",
       "    .dataframe tbody tr th {\n",
       "        vertical-align: top;\n",
       "    }\n",
       "\n",
       "    .dataframe thead th {\n",
       "        text-align: right;\n",
       "    }\n",
       "</style>\n",
       "<table border=\"1\" class=\"dataframe\">\n",
       "  <thead>\n",
       "    <tr style=\"text-align: right;\">\n",
       "      <th></th>\n",
       "      <th>Models</th>\n",
       "      <th>Score_mean</th>\n",
       "      <th>Score_std</th>\n",
       "    </tr>\n",
       "  </thead>\n",
       "  <tbody>\n",
       "    <tr>\n",
       "      <th>0</th>\n",
       "      <td>KNeighborsClassifier</td>\n",
       "      <td>81.37</td>\n",
       "      <td>0.03</td>\n",
       "    </tr>\n",
       "    <tr>\n",
       "      <th>1</th>\n",
       "      <td>DecisionTreeClassifier</td>\n",
       "      <td>79.46</td>\n",
       "      <td>0.04</td>\n",
       "    </tr>\n",
       "    <tr>\n",
       "      <th>2</th>\n",
       "      <td>RandomForestClassifier</td>\n",
       "      <td>81.59</td>\n",
       "      <td>0.03</td>\n",
       "    </tr>\n",
       "    <tr>\n",
       "      <th>3</th>\n",
       "      <td>GaussianNB</td>\n",
       "      <td>79.80</td>\n",
       "      <td>0.03</td>\n",
       "    </tr>\n",
       "    <tr>\n",
       "      <th>4</th>\n",
       "      <td>SVC</td>\n",
       "      <td>81.48</td>\n",
       "      <td>0.02</td>\n",
       "    </tr>\n",
       "    <tr>\n",
       "      <th>5</th>\n",
       "      <td>LogisticRegression</td>\n",
       "      <td>79.80</td>\n",
       "      <td>0.02</td>\n",
       "    </tr>\n",
       "    <tr>\n",
       "      <th>6</th>\n",
       "      <td>GradientBoostingClassifier</td>\n",
       "      <td>82.04</td>\n",
       "      <td>0.03</td>\n",
       "    </tr>\n",
       "    <tr>\n",
       "      <th>7</th>\n",
       "      <td>SGDClassifier</td>\n",
       "      <td>77.77</td>\n",
       "      <td>0.05</td>\n",
       "    </tr>\n",
       "    <tr>\n",
       "      <th>8</th>\n",
       "      <td>AdaBoostClassifier</td>\n",
       "      <td>81.14</td>\n",
       "      <td>0.03</td>\n",
       "    </tr>\n",
       "    <tr>\n",
       "      <th>9</th>\n",
       "      <td>HistGradientBoostingClassifier</td>\n",
       "      <td>81.03</td>\n",
       "      <td>0.04</td>\n",
       "    </tr>\n",
       "  </tbody>\n",
       "</table>\n",
       "</div>"
      ],
      "text/plain": [
       "                           Models  Score_mean  Score_std\n",
       "0            KNeighborsClassifier       81.37       0.03\n",
       "1          DecisionTreeClassifier       79.46       0.04\n",
       "2          RandomForestClassifier       81.59       0.03\n",
       "3                      GaussianNB       79.80       0.03\n",
       "4                             SVC       81.48       0.02\n",
       "5              LogisticRegression       79.80       0.02\n",
       "6      GradientBoostingClassifier       82.04       0.03\n",
       "7                   SGDClassifier       77.77       0.05\n",
       "8              AdaBoostClassifier       81.14       0.03\n",
       "9  HistGradientBoostingClassifier       81.03       0.04"
      ]
     },
     "execution_count": 62,
     "metadata": {},
     "output_type": "execute_result"
    }
   ],
   "source": [
    "mod = [KNeighborsClassifier, DecisionTreeClassifier, RandomForestClassifier, GaussianNB, SVC, LogisticRegression, GradientBoostingClassifier, SGDClassifier, AdaBoostClassifier, HistGradientBoostingClassifier]\n",
    "mod_ = ['KNeighborsClassifier', 'DecisionTreeClassifier', 'RandomForestClassifier', 'GaussianNB', 'SVC', 'LogisticRegression', 'GradientBoostingClassifier', 'SGDClassifier', 'AdaBoostClassifier', 'HistGradientBoostingClassifier',]\n",
    "score_mean = []\n",
    "score_std = []\n",
    "\n",
    "for model in mod:\n",
    "    clf = model()\n",
    "    scoring = 'accuracy'\n",
    "    score = cross_val_score(clf, train_scaled_df, target, cv=k_fold, n_jobs=-1, scoring=scoring)\n",
    "\n",
    "    score_mean.append(round(np.mean(score)*100, 2))\n",
    "    score_std.append(round(np.std(score), 2))\n",
    "\n",
    "    \n",
    "acc = pd.DataFrame({'Models':mod_,'Score_mean':score_mean, 'Score_std':score_std})\n",
    "acc"
   ]
  },
  {
   "cell_type": "markdown",
   "id": "629d8918",
   "metadata": {
    "papermill": {
     "duration": 0.044045,
     "end_time": "2022-08-11T14:21:10.927840",
     "exception": false,
     "start_time": "2022-08-11T14:21:10.883795",
     "status": "completed"
    },
    "tags": []
   },
   "source": [
    "#### Score_mean 기준으로 내림차순으로 정리해보자."
   ]
  },
  {
   "cell_type": "code",
   "execution_count": 63,
   "id": "8bf2d580",
   "metadata": {
    "execution": {
     "iopub.execute_input": "2022-08-11T14:21:11.017382Z",
     "iopub.status.busy": "2022-08-11T14:21:11.016634Z",
     "iopub.status.idle": "2022-08-11T14:21:11.030058Z",
     "shell.execute_reply": "2022-08-11T14:21:11.029064Z"
    },
    "papermill": {
     "duration": 0.061007,
     "end_time": "2022-08-11T14:21:11.032374",
     "exception": false,
     "start_time": "2022-08-11T14:21:10.971367",
     "status": "completed"
    },
    "tags": []
   },
   "outputs": [
    {
     "data": {
      "text/html": [
       "<div>\n",
       "<style scoped>\n",
       "    .dataframe tbody tr th:only-of-type {\n",
       "        vertical-align: middle;\n",
       "    }\n",
       "\n",
       "    .dataframe tbody tr th {\n",
       "        vertical-align: top;\n",
       "    }\n",
       "\n",
       "    .dataframe thead th {\n",
       "        text-align: right;\n",
       "    }\n",
       "</style>\n",
       "<table border=\"1\" class=\"dataframe\">\n",
       "  <thead>\n",
       "    <tr style=\"text-align: right;\">\n",
       "      <th></th>\n",
       "      <th>Models</th>\n",
       "      <th>Score_mean</th>\n",
       "      <th>Score_std</th>\n",
       "    </tr>\n",
       "  </thead>\n",
       "  <tbody>\n",
       "    <tr>\n",
       "      <th>6</th>\n",
       "      <td>GradientBoostingClassifier</td>\n",
       "      <td>82.04</td>\n",
       "      <td>0.03</td>\n",
       "    </tr>\n",
       "    <tr>\n",
       "      <th>2</th>\n",
       "      <td>RandomForestClassifier</td>\n",
       "      <td>81.59</td>\n",
       "      <td>0.03</td>\n",
       "    </tr>\n",
       "    <tr>\n",
       "      <th>4</th>\n",
       "      <td>SVC</td>\n",
       "      <td>81.48</td>\n",
       "      <td>0.02</td>\n",
       "    </tr>\n",
       "    <tr>\n",
       "      <th>0</th>\n",
       "      <td>KNeighborsClassifier</td>\n",
       "      <td>81.37</td>\n",
       "      <td>0.03</td>\n",
       "    </tr>\n",
       "    <tr>\n",
       "      <th>8</th>\n",
       "      <td>AdaBoostClassifier</td>\n",
       "      <td>81.14</td>\n",
       "      <td>0.03</td>\n",
       "    </tr>\n",
       "    <tr>\n",
       "      <th>9</th>\n",
       "      <td>HistGradientBoostingClassifier</td>\n",
       "      <td>81.03</td>\n",
       "      <td>0.04</td>\n",
       "    </tr>\n",
       "    <tr>\n",
       "      <th>3</th>\n",
       "      <td>GaussianNB</td>\n",
       "      <td>79.80</td>\n",
       "      <td>0.03</td>\n",
       "    </tr>\n",
       "    <tr>\n",
       "      <th>5</th>\n",
       "      <td>LogisticRegression</td>\n",
       "      <td>79.80</td>\n",
       "      <td>0.02</td>\n",
       "    </tr>\n",
       "    <tr>\n",
       "      <th>1</th>\n",
       "      <td>DecisionTreeClassifier</td>\n",
       "      <td>79.46</td>\n",
       "      <td>0.04</td>\n",
       "    </tr>\n",
       "    <tr>\n",
       "      <th>7</th>\n",
       "      <td>SGDClassifier</td>\n",
       "      <td>77.77</td>\n",
       "      <td>0.05</td>\n",
       "    </tr>\n",
       "  </tbody>\n",
       "</table>\n",
       "</div>"
      ],
      "text/plain": [
       "                           Models  Score_mean  Score_std\n",
       "6      GradientBoostingClassifier       82.04       0.03\n",
       "2          RandomForestClassifier       81.59       0.03\n",
       "4                             SVC       81.48       0.02\n",
       "0            KNeighborsClassifier       81.37       0.03\n",
       "8              AdaBoostClassifier       81.14       0.03\n",
       "9  HistGradientBoostingClassifier       81.03       0.04\n",
       "3                      GaussianNB       79.80       0.03\n",
       "5              LogisticRegression       79.80       0.02\n",
       "1          DecisionTreeClassifier       79.46       0.04\n",
       "7                   SGDClassifier       77.77       0.05"
      ]
     },
     "execution_count": 63,
     "metadata": {},
     "output_type": "execute_result"
    }
   ],
   "source": [
    "acc.sort_values('Score_mean', ascending=False)"
   ]
  },
  {
   "cell_type": "markdown",
   "id": "88b8b405",
   "metadata": {
    "papermill": {
     "duration": 0.040378,
     "end_time": "2022-08-11T14:21:11.114787",
     "exception": false,
     "start_time": "2022-08-11T14:21:11.074409",
     "status": "completed"
    },
    "tags": []
   },
   "source": [
    "### **Hyper-Parameter Tuning**"
   ]
  },
  {
   "cell_type": "markdown",
   "id": "e043358b",
   "metadata": {
    "papermill": {
     "duration": 0.040486,
     "end_time": "2022-08-11T14:21:11.196365",
     "exception": false,
     "start_time": "2022-08-11T14:21:11.155879",
     "status": "completed"
    },
    "tags": []
   },
   "source": [
    "#### 결정 트리 기반의 앙상블 학습은 강력하고 뛰어난 성능을 제공한다.\n",
    "#### 위 교차검증에서도 최상위 결과를 가져온 GradientBoostingClassifier을 택하여 하이퍼파라미터 튜닝을 해보자."
   ]
  },
  {
   "cell_type": "markdown",
   "id": "40dc2b61",
   "metadata": {
    "papermill": {
     "duration": 0.040385,
     "end_time": "2022-08-11T14:21:11.277543",
     "exception": false,
     "start_time": "2022-08-11T14:21:11.237158",
     "status": "completed"
    },
    "tags": []
   },
   "source": [
    "### **GradientBoostingClassifier 튜닝**"
   ]
  },
  {
   "cell_type": "markdown",
   "id": "bb1de05c",
   "metadata": {
    "papermill": {
     "duration": 0.045015,
     "end_time": "2022-08-11T14:21:11.363498",
     "exception": false,
     "start_time": "2022-08-11T14:21:11.318483",
     "status": "completed"
    },
    "tags": []
   },
   "source": [
    "#### GridSearch를 이용해 보자."
   ]
  },
  {
   "cell_type": "code",
   "execution_count": 64,
   "id": "14e242d9",
   "metadata": {
    "execution": {
     "iopub.execute_input": "2022-08-11T14:21:11.454122Z",
     "iopub.status.busy": "2022-08-11T14:21:11.453459Z",
     "iopub.status.idle": "2022-08-11T14:21:22.431938Z",
     "shell.execute_reply": "2022-08-11T14:21:22.430131Z"
    },
    "papermill": {
     "duration": 11.028631,
     "end_time": "2022-08-11T14:21:22.435742",
     "exception": false,
     "start_time": "2022-08-11T14:21:11.407111",
     "status": "completed"
    },
    "tags": []
   },
   "outputs": [
    {
     "name": "stdout",
     "output_type": "stream",
     "text": [
      "0.8597081930415263\n",
      "{'max_depth': 3, 'min_impurity_decrease': 0.0001, 'min_samples_split': 2}\n"
     ]
    }
   ],
   "source": [
    "from sklearn.model_selection import GridSearchCV\n",
    "params = {'min_impurity_decrease' : [0.0001],\n",
    "          'max_depth' : [3, 4, 5, 6, 7, 8],\n",
    "          'min_samples_split' : [2, 12, 22, 32, 42, 52]\n",
    "         }\n",
    "gs = GridSearchCV(GradientBoostingClassifier(random_state=42), params, n_jobs=-1)\n",
    "\n",
    "gs.fit(train_scaled_df, target)\n",
    "dt = gs.best_estimator_\n",
    "print(dt.score(train_scaled_df, target))\n",
    "print(gs.best_params_)"
   ]
  },
  {
   "cell_type": "markdown",
   "id": "569750dc",
   "metadata": {
    "papermill": {
     "duration": 0.041091,
     "end_time": "2022-08-11T14:21:22.517913",
     "exception": false,
     "start_time": "2022-08-11T14:21:22.476822",
     "status": "completed"
    },
    "tags": []
   },
   "source": [
    "#### 시간이 너무 오래 걸린다. \n",
    "#### Random Search를 사용해 보자. "
   ]
  },
  {
   "cell_type": "code",
   "execution_count": 65,
   "id": "9461668f",
   "metadata": {
    "execution": {
     "iopub.execute_input": "2022-08-11T14:21:22.602602Z",
     "iopub.status.busy": "2022-08-11T14:21:22.602196Z",
     "iopub.status.idle": "2022-08-11T14:21:58.767528Z",
     "shell.execute_reply": "2022-08-11T14:21:58.765964Z"
    },
    "papermill": {
     "duration": 36.211362,
     "end_time": "2022-08-11T14:21:58.769994",
     "exception": false,
     "start_time": "2022-08-11T14:21:22.558632",
     "status": "completed"
    },
    "tags": []
   },
   "outputs": [
    {
     "name": "stdout",
     "output_type": "stream",
     "text": [
      "{'max_depth': 3, 'min_impurity_decrease': 0.0008217295211648733, 'min_samples_leaf': 23, 'min_samples_split': 15}\n",
      "82.6\n",
      "0.01\n"
     ]
    }
   ],
   "source": [
    "from scipy.stats import uniform, randint\n",
    "\n",
    "params = {'min_impurity_decrease' : uniform(0.0001, 0.001),\n",
    "          'max_depth' : randint(3, 50),\n",
    "          'min_samples_split' : randint(2, 25),\n",
    "          'min_samples_leaf' : randint(1, 25)\n",
    "         }\n",
    "\n",
    "from sklearn.model_selection import RandomizedSearchCV\n",
    "gs = RandomizedSearchCV(GradientBoostingClassifier(random_state=42), params, n_iter=100, n_jobs=-1, random_state=42)\n",
    "gs.fit(train_scaled_df, target)\n",
    "print(gs.best_params_)\n",
    "\n",
    "GB = gs.best_estimator_ #최적의 모델 저장 \n",
    "scoring = 'accuracy'\n",
    "score = cross_val_score(GB, train_scaled_df, target, cv=k_fold, n_jobs=-1, scoring=scoring) #최적의 모델로 교차검증 \n",
    "\n",
    "print(round(np.mean(score)*100, 2))\n",
    "print(round(np.std(score), 2))"
   ]
  },
  {
   "cell_type": "markdown",
   "id": "5a8ba885",
   "metadata": {
    "papermill": {
     "duration": 0.040172,
     "end_time": "2022-08-11T14:21:58.851275",
     "exception": false,
     "start_time": "2022-08-11T14:21:58.811103",
     "status": "completed"
    },
    "tags": []
   },
   "source": [
    "#### Hyper-parameter Tuning을 통해 훈련세트에 대한 교차검증 평균점수를 기존 82.15 에서 **82.6 까지 성능을 향상**시킬 수 있었다. "
   ]
  },
  {
   "cell_type": "markdown",
   "id": "e42fbbf5",
   "metadata": {
    "papermill": {
     "duration": 0.040231,
     "end_time": "2022-08-11T14:21:58.931596",
     "exception": false,
     "start_time": "2022-08-11T14:21:58.891365",
     "status": "completed"
    },
    "tags": []
   },
   "source": [
    "#### **특성 중요도**를 계산해보자."
   ]
  },
  {
   "cell_type": "code",
   "execution_count": 66,
   "id": "099d6ff2",
   "metadata": {
    "execution": {
     "iopub.execute_input": "2022-08-11T14:21:59.014599Z",
     "iopub.status.busy": "2022-08-11T14:21:59.014159Z",
     "iopub.status.idle": "2022-08-11T14:21:59.315289Z",
     "shell.execute_reply": "2022-08-11T14:21:59.313614Z"
    },
    "papermill": {
     "duration": 0.345317,
     "end_time": "2022-08-11T14:21:59.317666",
     "exception": false,
     "start_time": "2022-08-11T14:21:58.972349",
     "status": "completed"
    },
    "tags": []
   },
   "outputs": [
    {
     "name": "stdout",
     "output_type": "stream",
     "text": [
      "[0.05084175 0.02087542 0.01851852 0.01133558 0.01335578 0.1979798\n",
      " 0.04175084]\n"
     ]
    },
    {
     "data": {
      "text/plain": [
       "['Pclass', 'Sex', 'Age', 'Fare', 'Embarked', 'Title', 'FamilySize']"
      ]
     },
     "execution_count": 66,
     "metadata": {},
     "output_type": "execute_result"
    }
   ],
   "source": [
    "from sklearn.inspection import permutation_importance\n",
    "clf = GradientBoostingClassifier(max_depth= 3, min_impurity_decrease= 0.0008217295211648733, min_samples_leaf= 23, min_samples_split= 15)\n",
    "clf.fit(train_data, target)\n",
    "result = permutation_importance(clf, train_data, target, n_repeats=10, n_jobs=-1)\n",
    "print(result.importances_mean)\n",
    "\n",
    "list(train_data)"
   ]
  },
  {
   "cell_type": "markdown",
   "id": "8ae39237",
   "metadata": {
    "papermill": {
     "duration": 0.041386,
     "end_time": "2022-08-11T14:21:59.399827",
     "exception": false,
     "start_time": "2022-08-11T14:21:59.358441",
     "status": "completed"
    },
    "tags": []
   },
   "source": [
    "#### GradientBoostingClassifier 모델은 'Title' feature에 조금 더 집중하고 있다는 것을 알 수 있다."
   ]
  },
  {
   "cell_type": "markdown",
   "id": "15301b25",
   "metadata": {
    "papermill": {
     "duration": 0.040587,
     "end_time": "2022-08-11T14:21:59.481686",
     "exception": false,
     "start_time": "2022-08-11T14:21:59.441099",
     "status": "completed"
    },
    "tags": []
   },
   "source": [
    "### Testing"
   ]
  },
  {
   "cell_type": "markdown",
   "id": "e850d9c9",
   "metadata": {
    "papermill": {
     "duration": 0.041858,
     "end_time": "2022-08-11T14:21:59.565552",
     "exception": false,
     "start_time": "2022-08-11T14:21:59.523694",
     "status": "completed"
    },
    "tags": []
   },
   "source": [
    "#### 위에서 얻은 최적의 모델을 이용하여 테스트세트에 대한 검증을 해보자."
   ]
  },
  {
   "cell_type": "code",
   "execution_count": 67,
   "id": "eabb6d4d",
   "metadata": {
    "execution": {
     "iopub.execute_input": "2022-08-11T14:21:59.649275Z",
     "iopub.status.busy": "2022-08-11T14:21:59.648433Z",
     "iopub.status.idle": "2022-08-11T14:21:59.750917Z",
     "shell.execute_reply": "2022-08-11T14:21:59.749790Z"
    },
    "papermill": {
     "duration": 0.147832,
     "end_time": "2022-08-11T14:21:59.753641",
     "exception": false,
     "start_time": "2022-08-11T14:21:59.605809",
     "status": "completed"
    },
    "tags": []
   },
   "outputs": [],
   "source": [
    "clf = GradientBoostingClassifier(max_depth= 3, min_impurity_decrease= 0.0008217295211648733, min_samples_leaf= 23, min_samples_split= 15)\n",
    "clf.fit(train_scaled_df, target)\n",
    "\n",
    "prediction = clf.predict(test_scaled_df)"
   ]
  },
  {
   "cell_type": "code",
   "execution_count": 68,
   "id": "eacf48eb",
   "metadata": {
    "execution": {
     "iopub.execute_input": "2022-08-11T14:21:59.836285Z",
     "iopub.status.busy": "2022-08-11T14:21:59.835877Z",
     "iopub.status.idle": "2022-08-11T14:21:59.844811Z",
     "shell.execute_reply": "2022-08-11T14:21:59.844025Z"
    },
    "papermill": {
     "duration": 0.052422,
     "end_time": "2022-08-11T14:21:59.846893",
     "exception": false,
     "start_time": "2022-08-11T14:21:59.794471",
     "status": "completed"
    },
    "tags": []
   },
   "outputs": [],
   "source": [
    "submission = pd.DataFrame({\n",
    "    \"PassengerId\": test[\"PassengerId\"],\n",
    "    \"Survived\": prediction\n",
    "})\n",
    "submission.to_csv('submission.csv', index=False)"
   ]
  },
  {
   "cell_type": "markdown",
   "id": "3d3d4120",
   "metadata": {
    "papermill": {
     "duration": 0.040644,
     "end_time": "2022-08-11T14:21:59.927059",
     "exception": false,
     "start_time": "2022-08-11T14:21:59.886415",
     "status": "completed"
    },
    "tags": []
   },
  },
  {
   "attachments": {
    "2cd7e082-68be-4cde-aedb-32641ba1d318.png": {
     "image/png": "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"
    }
   },
   "cell_type": "markdown",
   "id": "21813e25",
   "metadata": {
    "papermill": {
     "duration": 0.040457,
     "end_time": "2022-08-11T14:22:00.008092",
     "exception": false,
     "start_time": "2022-08-11T14:21:59.967635",
     "status": "completed"
    },
    "tags": []
   },
   "source": [
    "![image.png](attachment:2cd7e082-68be-4cde-aedb-32641ba1d318.png)"
   ]
  },
  {
   "attachments": {
    "30810196-d073-4af7-8e04-5d38faab6706.png": {
     "image/png": "iVBORw0KGgoAAAANSUhEUgAAAjwAAACDCAYAAACJDMETAAAgAElEQVR4nOzdZ2AU1d6A8Wdbsum9hzQSCIQAoRhAQECQomC5Fmyggh0LIKioVyzYsQNiFwFBkapU6b2FhDQSUknvyW6yfee8HxIVldvAci/v+X2gTDlzZnZ25r+nqoQQgnMwmcw0G4wE+vvh4qI71yaSJEmSJEn/1RwOB/UNzajOFfDY7Q4am5rx8fZGr3f5K/InSZIkSZL0u7DbHajPtcJgbMPV1VUGO5IkSZIk/c/T6bS/DXhsNjt2ux0vT/e/Ik+SJEmSJEm/u98EPBarFZ1Oh0aj+SvyI0mSJEmS9Ls7ZwmPu5vrX5EXSZIkSZKkP8QvAh4hBE6nE51O9sqSJEmSJOni8ZsSHkURqDXnbMssSZIkSZL0P0lGNpIkSZIkXfRkwCNJkiRJ0kVPBjySJEmSJF30ZMAjSZIkSdJFTwY8kiRJkiRd9GTAI0mSJEnSRU8GPJIkSZIkXfRkwCNJkiRJ0kVPBjySJEmSJF30tH9Uwk6rGZNNg5eXCwBKmxGL2h13Nw1go7KggAa7B50TonHXAooTi8WORq9HpxbYLRacKhf0rmpsbQYMrVYUtQ7fAD9cfhGmKdhNrRiMFpwqDT4BAbhqQDgctLUYMDkcCJUOb18f3FzUgKC+9DSVRg1RXePw1alAOLG2GTG22VGEQO/li7eHDpvJjM7dHRXgsFqxocXdVUVrSzMmq0Cn0+Cw2XHx9sPH7ZeX0txwhtPlrQTHJBDqowPFjsXiRKfXo1HTfn4aV/RaganVSFubFaF1JzDQEzUg7BbMdoGbuxsqAAR2cxtOrTt6rYLVbEfrqkejUaGY6snLr8QlOJq4cJ+O7RUaSk5T3qojtmss3joVit2GxalCr9e1R7r2VopOl2BxDSKhcwg6QDjtWG2gd9O1H9NiRdHqcf3D7hRJkiRJ+uNp5s6dO/fsBa1tJjw93VGpVBeUsGjM5M15H2PvNYxY1XFe/ftHuCQPI8rNwNq35vH+xkPkHNvBtvR6eqWm4NVykg8WLcbReQTRXjb2Ll7MtjM+9E+CRfOeZunObDL3rmPjKRspKd3w1Hbkz17D5/Of5aPNJ8k99B0bMgz0TU3GfHgFzzy5gBO1pZzIrsQnqisRXnZ2LX+V15fsIitjN+u35NKpXz/CNSW8+txc1h3M53TWUZpdIknqpOOTJ6fywclArro0lqItb7PkmIWBPcLY+/1KlixbxtLPV5FRVYvGP4EuYZ4/nXvt4W94deEqck4eY+3mYwT2HkSU/QRzF20kILEPYR5qdn32NLvbEunrV8T06S9zsKCAw5tWc6A5kEuTI2k5/CkTZ7yLNukqeoRosRVv59FJs6hIuIr+foXMe381bl1TCbIdZ+GrC9mfkc6277bT7J9Er2g3Dny1gIVr9pJx9Ac2H2+m36BetB79lMVbCujRLxkXUx4fvPoKq/ZlkL5rAwdK3UjtG4+ubCs3P/AcbREjSYlSWPHRHPY7+3BJJ48Luh8kSZIk6a/0h/1u1wQnM6THGjZ/+S0m9xwaoofSN0pLzYFvWF0azNz5jxKnPsObz7zGp9tG8vQwJ831tZgdAAJTUyNNLlZQ2qiy+zH6vue5Iewwd89ZwdGy8VwV315yhK2NCosHQ+98mruS8nl41mIOVt9Ef2M1HpEpPDj7UcJRUGnUGLPWsW5HPbfOm8/IMDO7lm2ltdEGrq1UK6GMmfIoVyd6gUoF1jM0KXb2fPcx6//WiySHkYbGJswady7/21R6d/6G+a8f4qaZj9HL/ZfBYe7uHyiz9WTey/dhz9mP0W4HYaKmoQmLo32b1qYamtrsYDXSbIzm0RmP47PjVeblFOIkFSFslJSc5uDWXVyfPJqs45vZm9ZGss0OTiu19Y3Y1WDK3cfBShvTnnuFJFsWua0KiCZ2bU1DuWQKL03tRcb+bKwOEG1NNDQJdCrIXbWMLPrx0luTCGw5wfOz3uX7vKHc5CFoKKxgxYpPuDThLuymWhpMjj/qNpEkSZKkP8Uf2IZHx+Ab7yE4bwGv7FNx1y0j0QNlZ06h7tWLODfANZIekVE0FFUjtFq0OhdcdAAaXFxc0KgAtR4PUwnfvPUEj8x+H0IuoWf4WXGa1hUvWyUbFj7DjBlvYPDqS0qQCo2rJ6UHNzDr3vuYPf8LyizQUlGFu2cf+ofpAG+G3Xo9lyV6g1OLvimTBXMf5e4pL7AprQE0AlVIX+6ePJjC5cvZdcaGp3v7LPIqlQqNVoeLiw6tWsWvy8JS736Cq3s28caTD/JluoGoKHfAiUbnik7bfsldXXWoVQK0Lii2TD5742XeXVtEYlwCLoBV5cUlwwajs2SyKy2PgiIYOmYQnlYrqNTodFocZjt+/SfzwPgk1r36OC8uy8QrLAxFFcT9c6aSVP8dsx96nmyTD53cQIUarYsLOgTF+VaSEvoQqAb8kujR2UFtXSs4NMT3u4GJ/c18/dlKKhzuuOlkUy9JkiTpf9sf+iZTeUTSO3kQg3r0pXOgBoCIiK5Yjx2nxAnQSH5ZIf7RIajVOqytzVS3AChU1Tdg07uByo7DNYiefXrho3UQ1TmFKPezsi2c2HX+dE/pQ5DeQWhMb6L1atpaDESnjuXZ11/n2QduopMePCNCaWs+ysl6ABv7N69jT5EZ1E6cAT2YOvsF5r/5GCN7BYDNjs1sIbr/TVwzyI1vV3xPhcMN3Y+HFQqKIhDi12ftoKa0hd5jHuWdN5/C/+DHfLK+GDz9UTXUUWtSAVZqyoyodW7gdODi3os7pj/Oq7OupXDdTrJtoLbb8YhLZUSImpWvzOVE4GUMinbFZFeA9uOqNYLWmmr8E8fzyrtvMlp/kEWffofNYaay1Zfx01/hzSfGsPvDj9lYoaBz1YLiwIGKqM4asjOP0gpgKyAzV01okAfCacVsd2XszVPo3pzOsh/OIDSyAY8kSZL0v+0PfpM5UGu88HTRoXQsCet/NTcfmc8rM2bhpbZA2AAeuDwKXEyMHtyTj16fxhEfQZMqjgcujwNrITadD5dcfgMjB+qZ9dG3HB0xm/7BHaGH4sCu9aTb0Ku5cYwfj81fy+HGZKK9vShLW8/7r7fi5hbCdZNuZ0D3EYwbns4nsx5hfaCgVd+du3upQauFhlOsWPwuJ/0FiWPu5LYB3qhx0GbX0XnE9Vy3bhX7DPafT02AEILfxDuAsfAAH37/CV6hHjS49uCGxADwDeOm/t4sffFhdno4aVEPZGafUFAKMRnS+eiVefiba3HtdjmhGrApdlptPgy91p+Va44wcHAyzsJjtPzYhFkIVFoX7E2nWf72OhyBIdgaXOl3Q2/0wkHu7lV8/9FXhHq04dEjhR5+apx2B4rixKJA8rWT6f7uQh57eDaeKhP6AXcysps79hwnTpsZiy6UCQ9cy7JHF+CwO//Qu0SSJEmS/mgqIX4uoxBCUF1TT0hIIOoLbLTckSJt9XW0CneCgzx/rvpxGsg5kUm905PuvXoRqP9xhZXijDQKm9TE9+xFjL8enBaq65rR+4Xi62qnrKIKd79IAn4s5VFs1NY1ovUOwd9NobKyHJ1/JwKEkYLc09SbzTh0PiQkdiPMWweKmYKMDCpMWuKTexPhrQWnlaozBZRWtWB3OgmM6U63SD/qamvReAXi767FbqyjwaIjOMgXNeC0tFBXZ8I3Igz9b8rJ7JTlZlBc2UZA114kRfp2XI428k9kUG7QkJDSl04+WnC0UVxcRGV1M+j9SUzuToBeha21gWqTlqhgD+qrzPiGutFWU4/DPYAADweVtQa8AkLwcoHGslyy86twCetKSvcIXACsTeRk5FJtcqFrSk8ifFywGWtpMGsICgpAqwLaajiekY/VLYReKV3wABRLC+W1dkKiAnEFmuvKsbqFEOKp+/VJSpIkSdL/jD844JEkSZIkSfrrydaokiRJkiRd9GTAI0mSJEnSRU8GPJIkSZIkXfRkwCNJkiRJ0kVPBjySJEmSJF30ZMAjSZIkSdJFTwY8kiRJkiRd9GTAI0mSJEnSRU8GPJIkSZIkXfRkwCNJkiRJ0kVPBjySJEmSJF30ZMAjSZIkSdJFTwY8kiRJkiRd9GTAI0mSJEnSRU8GPJIkSZIkXfS0f3UGfsPQQH5tMeVtdVQqRqxCS6DGjxC3EGKDuxLiq/mrcyhJkiRJ0v+Y/4qAR7G1kJO3m28L95HRXEt1czX1lhbqFRN2NPiovfBz9SXYJ5wo3xhGxYxlTPfu+Ov/K7J/FgGofvrrfDltJlqMdty9vdHr/vOEnLY2mg123H19cNNeQEYAUDC0tOLi4YX+rLRsZjNCp8f1gtP/10THn6oLuahnJSY6kvk5NSdmsx2tXs95XO7fpt/xT9V/kpZiw2Aw4+7jw59wSSVJ+pM4rGYcaNG76v7qrPyW04bJocL9H+VNiHM+yETHO+4cazr+/nGNgsVsQ+em55xFFcKOyaqg17ues7rJZrGgaF1/8e65ECohxI85RAhBdU09ISGBqP+jp/V5cprIzt3MgiMr2d5cQaO1FZNKQRHtbw01alSAgoJQtV9dnXDFy8WTaJ8UJqdMZmJyL3xc/vis/jusxTt5dmUml193F6O6eJ53OvnrX2bKnN08uHIVE5P+83TyN7zMzdOPMGvN50xM9jnvfACcXP4UT6wTzH13LpeE6KgrOsLKzz5j7Q/piOAkrr1jCrdcNQh/HZjqz5DXKOgaF4377xiLVmV+z6KP8xk7fQoDY7wvICUjWxa9Rrr7Jdw9aTz+Khslx7bwyUfL2JpeQXC3wUyaMoUJQ+JxPc8jFG1fxGfHHVw3eRopIf/Bd6itiFenPUJer0dY/OhI/gsfjZIk/QfMDYV899VnLF+1k1pVEMOvn8Tdt08g2vu/4Ye6lcK9a5j/zuccqtcy8vp7eWTyeCK8zt7GSfq693hnQzY6nQ4E6Fxd0PuGc/XUu/Hau4zFm47j8HRDDbjqXXEhhuun3cnAzt40lxzh47ffYfXhcjoNnMDD0+7m0rgfn992ivav5f0PvmBPURvdhl7PjGl3khLhDoC5IY9vPvqIJRsPY/Xvws33TGfymB54XGAjHM3cuXPnnr2gtc2Ep6c7qj864GkuYsmO15l5YCn72hqxCAdC40U37/5clzCOG5JGMTZ+MFd0Hszo2EEM8I4i2Gan2d6CQbFSby7hh6Jd5DQodAtKJtj9r2+OZM7fzF3zv6Pz8BsYFHm+r0zQ6FwJ6NSNPv26EeD2n5+XVudKUEwX+vXvRoDbBVQBNqfz9PR3cLtsCveM6YK1bB9zJk1hoyGGa8dfToJ3E0teX0CxR1/G9oskd82LjHvnCKPGXEG42/kf9tca0r5hzowtJN50Db0jPS4gJSvrXn2A1RWBTLx2OKYjS7lt0vPURw7imlGp+BuO89p736JLHsGA6PMLrPI2PseL35xi0Pjb6eL3H+zo4ounKZP3F2yi8xVXk+AnQx5J+l8lzBUsfug2XtvdyojrJtCvqy97Pn6XjfmejBybgudfXIp7Zvsn3H33Gyj9rmF8aggHvpjPtmpvRgztjcdZr4zW+jIqGgUBfgGEhgbReHI767adYsDNdxBvraXK4MAnMIiwQH/qszfz0Q9NjJ98E/FKNk9PmsTGtkRuHj8ES9pXvL8xh97Dr6CTl4aKvZ8y8Z75iKRxjB/Sk8aDS/liWxmDx40kUF3Om3dO4YPjcN0NY+juUcsXHyymNXo4gxMCLqic/y8JNZW6DF7Y/DILK05jU6tw1fiRGnY5t/Qex6DwGKK8vflN+ZcCJkMVxTUnWZX+LV+XZ1HtNLAlfwFnmip4fcxjDI7Q/255tDfls/KLz9mVVYNLeE9uvX0SAxP8KDvwFW9/Us5Nz09jQIQbLZnreeXbDMZNeYZBrq54entgKz3Ekh/WsrlYy5WTH+XmobGom3JY+NGXaLqOw7d4E+szrNw0bQapHkUsWvgJZ3Q9eeCRe+kX5YGpvobSrAJiRjkANdWZu/l0+SryawSx/Ucz+daxxHi74Ggp5Jsln7M9oxJtSBI33zaJwd0CMRnryM8oI26kA/x0NBcd4NNPlnOs3Ez8gPFMuW0C0V5qqg4u493ddQy/JJn0jcvIMMdw24P3M6Z7ECqgaO8KDto8mHHFIHRA4eHt7DrsycwjbzGlV3tEMyB+PidcLWTs/Ij5S7/Dku/FszOnM2X6s1yb5ELm7rV8uWorlXYfBlx1C5OuSsVbY2XrR4+TphpK/+A21qzcjL73ldx33w3Ee+kAB7m7vuHDZevQdB3NZUEOvLzd0Krbg7+2qly+XbqErVlV+McM4LY7b+eSGA/ytr7NygwHfRKj2ffDbq6Y8R7Dgyr59sP3+SbdzPC/jcPi4oGHmxuuwNEda9jnmsqBN1+kvzfATcS/+SV2YxMKkajsdWxd/hkrd2ahCuzGDXdMZXSPIFTYqcjay5dLVpJV6yR+0HjuvPUqoj00qLWu6F3VaDq+lYbCA3z6+XKOnbGSMOBq7r3rSkJdVeRt/JwVP9hJHadl09Jyrn7hKYaPvIIeC1ay5IeTjL0n9bc3pbCTv2cVHy/dTI3wY/j1U7l5dA9cVdBWcpwvvljB4dJmQrpcyq133Egvv3oWPbcAU+J4Hp40GB2CzE2f8eF3LUx54SF6+/83/NKUpIuPufwwa9ZUM3L+Ozx3dx8Ark1JYGWaiRYzhHg4KNq3jkXLNlJh9uGy629n0pgU3LSAw8LxTV+yZPUeDG6RjL35bq4dEoeOeta88DGlAd2IdMtkf05n5rx+M+7laXz+4ZfsLzYSP3ACU+8YT5S7ClN1Nhu25dB92FUkdzrrF6i9mpXLllDY8zaOvD2bIGBMaCsjXvyabTdewy29f6wVUBM/+EaeGfzjji28lbmRsMuu4fJoD4Lir2P2Fdd1rKvn1YmrGXTdBIZ1duXkl5/zVXkCiza/y9UxGrgmhtGjn2PJqgwGPtSPVrOKKx54joenXU0AUNe5nNGz1nGi7mW6Bjbh0mc8L825i/EpvkAlFUf7setoPo+PS7iggOdPLxYRLQW8uGUe71QU4FCr8dcnM3voy3x14xNMTOpJlN85gp2OnLr7hpHUdTTPXv8+X13+IKM8fdGqVZyqX82MLfM5Xmf9fTKpNPDZjJm8s6GW3n374V66jXkvf0KV04m5/CTfL99NZYsdAFttPpu27aDUABpXPW6GInauWsMZux++llyenzaFT9OMQBuHt63lk0XLyKiwIeoO8tx9dzNn8S4MGk9Kdr7PAy98Tr2A1oI0Vixcy+k2Fxw1O3h6+kMcMoRxSUosuWve5Y2lB7EJEyufmMX8VWX07NMf3+rdvPTSh5yxOzGdOcLyBespbVVhqd7LrNseYV2+hi4xoWSumMtds96k2grOhnzWL/2Mj7/cTovwxpK9hoemPsehSjsgyNmfj6dHBMkJ7aUqgfG96RJZy+evv8hX67aQUdLApZNmMu2mywj08SfQ3w+NhzcRnaII8HKj4dgqnp73JY2+XUnuBF8/N4uXvspCoKEqczMfffghK/eW4RLkwu4vnmPa3DWYgeqtC5jy4LNkWiNwNxewYeN26jRadBpXEI0sf/3vLN3fQGJSAs5T3zDjkWfJbQNn1VG+/uQDFq3YR6vaG19NOZ8/cx+zPjxCYJgXZQc2suVkI2qNGgWI7dmf6IZDvPnCO6zdspfCOm9unTGTO65MRi0MfPvUNGa8uQ2PyBj8G3bz0KTb+CanBVv9CV555jUOtQSTnBBF1rJXePT51ZgAbUfJqM4FnDV7eWDaDL4v96Rrl1jyvn2VB5/8BgNgLMjm24/fZ/GqnZhdPPBUKaiCuxIbE8upXek0/famJHvDy9w87Q2K9FFEBrbx7ozJzFqai2Iu5KXZ01mZK+jfvzstR5by8vvrMGrCCDAe5ZNV33LaBohaNn/zLpsbBaGeMtiRpD+KS2Ai/Xq7smP52yz8agP7TxYRNuwWZs2YShcPKPr+Le6c9iwFqhA6h5r4ZPYkZn6yHwU4tPQJpj67FFNoPKH6M7xy/928uroUUFO4azOLF7zL+rQyXL19oeIgT9/zCBsK1fTo3omC71/ngb9/SL0NWvO3Mvf5D9idVfeLvDnqC8kvzOGSYYMI6lgWO2g4fWoayM4s+akVzq+d/m4BnxywMuX+Wwj6VQF0/oq3WJLjwx1TrsNDZSb9+AF0fQfSJ6LjZR6dyrA4FSXZh6gX0PWKqTw37Wq0ZSfYunEtC78ro9tld5ASCHj1YPqTMxifpJC2fxsrFn1EmeslXD+s+4UHLOIsiqKIyqpa4VQU8Yew1Iivvp0qgl/pI/xf7Se6LXxcrC2oPe/kmsr2iukfjRGBr/YTvq/0EaOWfyJKW3+HfNpPice69xaX3fSGyK8zC0tztcjOKBImxSlOrnxa9PC9VqzNNQghhKjb+ba4ZNho8VWOECJ3iYjvkiIe+vhoezrmbHHvmCSR+vj3wlZ3TNw+qqdInbVOCCGE7ej7IjxpsHhha50QQogDC+8R4f3vF+l2IQq+eVkMCBgpVpYIYc5YLIb19BH3LdovGq1CNBVni7zSGmFXSsQzffuKS69+UeTWtAmboVZkpxeKVodT5K57TvT0vUZsyqsT+z6eJsJSpoiDje1Zqt/+mkjoeal4+0CTaNz+gghNGiZe3VHffi673hZDIgeKxUdbhBBG8d71V4qhl78mzvx8YUThoTXisZvHiIS4eNH70tHizlmLRHqVTQghRMbSR4Xn2JkiveMzMFYXifTj+aLF7hDGumNi5sA+4uqHlguLEGLFo11FzLhHRaapfduVD18vUno8I8qFQXx411jRa/hMke9oX7f/w/tEhM848dWxBiGERRRmHhX5lUbhMJvF4U+nieTUweLrfCEKl98u4nqmikX7m4UQQliyVohx3SPFPZ+ltydkyREPXxolhk19XlQoQghHizi27gNx65hUER2fJAZcfq2Y/s5qUeUQQhSvFwOT+okHPk1r39dRLbZ99anYk98oHOYGkXU0U1S12ISlrUZ8fPdYkTpkpjgthMj48G8iefgEsaNCiIwPbxFdh94iNuWZhNOuiPSVT4qeccPEhhqzOLHoSdEraIBYfMxw1o1XKxbeOV6kDnhelPz6nrSUiBcnJIlLH/hQtAghhFBE2ta14ps9JcJZtlNMuDRejHh8pagwOkVbTb7IKigTFqcQdXvfFD2SrhRLMtuEUrdL3NA1STzzTdZ/8m2QJOk8NBQdEm8+ervo3aWzSOw3RFx3x9/F9xlNQog6Me/6oeLSW18XDR3b5u78Sny795SwNOSI6cPixTUvbupY0yo+mDpMDJjwd1HuMIr3rhgk+oyaIXIs7WsPLnpEJKXcKNadahZ2m0Pkf/t3kZA8THx4okWItgpx9Fi6qDI6fpGv1oKt4qZePuLhLw7/tMxSsUvcFtRTPLBov3Ce62QsReKZsX3EkIe/EM2/Dg9aTolHxvUTo6YvFSYhhHDWircmhYlL739f1P6UWIt4f3I3MeSOJ0TJWQc49tV0MbB3lPCL7CeeWZ4mfpF0+T7x6K1DRbBfiEi9dZ7IabnwuORP/ZmXnb2C+afTsKrUBLml8uKYWVwdG3De6flGDuaFsU9gWv88q4wtHC5dybsnevHapX1RX1BFXwIPvPsI8xavZfqduzDbXBg25Qke6x6NGgVUGjQdB1BrNah/PJjdji2kEwk9E9r/r4+kd3wix6qqsDuDQafBPaz9fO0qV7QBAXj7tRc1enj5E6Q1/JQFlUqF3WxBn3QTs+4t4ePvX+H2dSbsPr25f+Z04qIimTr/UWoXfctjUyZitmoYPOkxZnePQQuo1Gowt1F2ppC27sOJ6mj7HNC9D1G6zdRU1uH0U6P28cbXv6O408sPnwAdQqgBK1bFiVrj0tGAV6AoWuJSr+H1pVcws6qO4qMbef7J13nK7sKKN+7C6bCjcgpMJsBDIFpr2L5kMQdr1AT4qMhtsxGs16IAiiIIDAzAqyNk9/Hww0unQWepIdPQhnuPAcR3/DiIS+xNjCjFjgocDqpzt7Fo9etovAKh/hR2bXvPJsWp4OUfQExEe5FsZWkVhqoYBvaJaU/INY4+SV5kKgpOAWi86TvhXpaMupGq2gbSNi7mideeR/GI5pmkM5R7+zChW8e+mhBGTrwTAGtTEVlbPmb1q/X4BPpQk1eDxrvPWTeQGoGTM6W16I1Wvn5rDuuFDafTRGL/SNQmKw6nQO8WSUzkLxulqwC18tvfWM7WSk6nqel1eSLeHVumjLqaFAAllCemTeXdFV9y742fYdaEc+u0GcTHRRLYawyjQr/g8KFMUiP3kRuYyj0Duv6Tm1+SpAulOBX8Y1OZ/lZ/Jj1RRW3hUd79+/M885Sd2Pf+RrZRwa9nH/w7tk8cNpFEwFSwnsKT7vS8P6pjjQd9U/z44vtsqiwALgQFxRDoCtDG6eoaqmz1rH3rKTYjEA4zCd2Tcbe1gXs4/fqG/yZveg9PvPw0NBosPy1TOcy04kmUt/c5S1GKv/+cryuCeGreVfj86t2auWkJ20v8efqNa3EDUOnxDoilqq4ViwNwAbBga/DAOyLqp2c+QMrVz7B66HTytyxg5vuP4R+2hEeHRbSvjBjA399eyaOzsnnzuae5/4kIVr8/Gf8LKOb506q0nC25LDn2HTkqFW6acO4dNJPrLiDYaW1uwmgBj4jLePayu0jRuaJSV7Mm/RsOXmjVlt2Ma9JoXlm8jM/emcddQ9z49J5ZrMypR+/pidZuxKS0dw2rrzyDxWxpD7A0GrQNTdSW1ranY6sh/0whupAgXNTt3dWFwwGAoiigKChOJwBOpxPxi9pJFSqVHYddQ+9x01mycglvv/gkPcwbefKpFzhZb8cjaSQvLPySL957mXtH+rL0wdksTatC5a5HhQAXVwICgnAtPENdx71tLMmh1GHCx98HrWjPg9PRngfF6UQRoEIBfAn21aPYKmhuX03eDwMjFxcAACAASURBVJ/w0JyPKLK4ExoRzcBr7mfyFW4UnU6jUQENAocAvRtAIx+8/AwLToXx7Jvv8cEHLzAqwhuH3fHTGTqdTpwKgMChKAgUFJ0vsW6u2EoL6LiKlJeeokylxsPTlebs1Tz18FI6XTeLRYsXMG/qELw0ZhxK+7ZCUbC31zbiHeyHR0AVp0sb2xc4KsjJN4O6PYg7uGQOTyz4DrObHxHR8Yy/fxpXeqnIO5SHJTiCsGYjtYXVHfdEDZuWvcXurHIOrHiLR1ZUMnHOG3y4aAF3DuqC2mxB+enMBCrUBPp5QlgPHpz3FgsXvsc7r81n/rx5jIzxweFwIIQT21nXA5y0OZ3YfNx+6qUlHA4UQO3mT2hcG6fLzmDu2Pb4xq/5fEM6Rgd0HnwLH3y1nAWvPcuE8DJmP/0UGwrt4JXAyJHJpG1dwYdL99BtyFBSI2V1liT9kQz5W3hs5stsz7cQEBJBt0HX8NDtvTBX7qGo1ZtEvQpj4WlaO7bP3rGETzcdx+ERTmhME8XlHc8d7OSkt+C0R+KnEygCnE4H7Y84F0K8PAlwS+TeF99j4aL3ee/Nl3nn5TlM6BECgHA6znoutdP4R9E5tgtHdh3jx8qu0qO7yQjxI7Fbe6ClOM56LpkKWPjZJiKH3sSEFP9fpCVac/ny4+8IGj+Va7q197BC5UHXbn0xHzpKVkXH0SvS+KEAwrr1wRdB5sYFvPbFVoxufoSGd2LoyAHYWqs5froOak/w5tuL2XrKgl9gKNG9htEnOoDCXSepsV/Y5/KnPflyT21gbXMTLkJLctTN3N0r9rzTMlXu4YmNC7BFTObl4WMIS7yBaYX7eSjnMA1tB1iWk8mA4H7n7vf/73BUsXz24+zRJHPv5OGYLAJtSBD+Hl5EdOlJfPRCXppxP+l9OmHIOUBdm7a9xEAo2EyVbPvqA8Iro6nI+oG1uZ7MfHIwWvVpDAYDRkv7jSQcVlqMrVgd7b/mnTYzBqMJJ6DYLBibjTi1eqylm3hmxhvohjzIxIGeOO2uBAd3wsfFyJrZj7C2NYF7plyByaygCQ4h2FuPqG+jpbEFA95cOe5mhi9/nEdmPM8dgwPY+eUX+Hcey4TUYKxbjTQbW7E62/OgOGy0GoxYHQ5AQ2xPN5oKcimphi4RKrzcBZnfvshN2Uf42/BeWIoOsX6LioFTxxCmA7NXIH6563h//oc8/tAEvL08EMZqcrOOUvj9NtYfL8Y/rv1YNpMBQ5uFHwsz7GYTxiYDJk0gE64ZwtLZX/DgwwrDe7hyaPNhzG0e2BwKqFzR65xUlRRw+IcKNi3dSEmtFgEotjYMxlbsHd+xgOTBjBgayuK/P4hLyQQ8KwvZX1yJM9aGRg3uGjNrX53ByWMHGN03kKLDO9js8GLyuP6ExQVz3/BPeOXdp/CtHg7F2/loSz2vfHUdnb080NlbKC7IZFvxepZtOUydW3vjPae1DYPRitWpYtB1U+i67hleevFNJl8ezbE1K0nXDuWDD6ahslswtvycVwAM1ZxuqcC1XzeCAHvxJibe9zl975zLnIkJXH/3BDa/OJ9HvWqIp4yVn22g22NfcVNzDq88MYvCsL/x6PhE2hQHgYEBHT38NAwcNRq3z+7mbUMvXvtyNL/oeSpJ0u/O3ceL5mNLuO/gYW66egTerSVs+e4I4X3uIiUxns4TR7D2uU94ZE4LPf1q+WzhGpIeXMhto0Zww+ThzFj8LE+oS4l2HOOTvU0MnjGZGBc7Lc1GWl1//HGl49IrryN17fM8//yb3DsmnhOrPyVdl8qrb8yBjKVc98hWJj77ElOGR/6cOZcwJt48mU3TF3DHPa1cEdfK6mXr6TLica7q4c2p1c9x59JmXpj/CiNjNRxb9j7rcz14ct71/HKQEweHl7zJkvJIFr0z5qyhPNT0G3cz13/9EHPuvZ+s0XFkb1tNQVhfZt6QghowNxTz0VPz2bH/VsYluZOxfR1Wj2QmXNYNXDPIXvsO7y3dwqQbhuHSnMk3m4oZPHUaMRc4BM2f0y3dWc+q3YvZaGhCr4tj5mXTuSTo/HpUtVbu5+nvXmFZfSHp1YcRmoFcHhNGZw8XDhQeotTRSoPZn7HdB3DenVB03kSHuXAm9yj7DqdRYg5m0tNPclNKMDr/KGLCtBRn52LxT+aaqy/D29uHfgMuI1rbQK4jmOuu7EdL5l4On9Fx/SPPMm1MZ9Q2I2eqmwlPHsrI7iEo5iaKWnQMHjyExEAd5uZqGkQII0b1x91YR22bO/3HDSMhMgpflzbS9+3naHoORF/B7DkP0TPEm/BQPeV5R9l38DhFRj8mznmSWy/phLWpiuoWbwaMHUR8524M6OnP6cOHyDhVgi7hCv7+7Cx6B2oxNddQZvVh2NChJPjrcJibqGlS0Wv4cOIDXPHTN/PFV4fwSRrF0C4+eEelMDI1mspTWeQXnKHWoGLobY/x+P3j8NaAf0QsQbYznMivJrr/BG68LBFHyVG278/EEdaDAcnhRCZewqCUaFqr8nGEpHL5wGQ8NWCsqcDiGc3gcb2J7taXzj5m0g+nY3CP4roJo4lwutNt1CC6JyYRE27h2M5dnKzW0HPAAMIjIkkdOJQQpZwaEc7gocOJ9AK0/vRJScZRmc3x7BrCB13NVQM8cA/tzYBLkontOYKBcRpOncygsKSaFlUYN86Yw0NXJ6HDlZSh/XBtOMX+Y7nUiHDumvMadwyJJTIunhBTATt3HKJGF8aA1C5ERnZh0GW90TWeoV4TxaWDLyMqsguDu/mTe2gnB9NO0ebRmdvuuZOUME9MdVW0EMigKwcT0TGkQnPmVj7+dBdXPPA4l8V5Q2sFB46XEt1vCP3iAwjvOYRuni0cPZRGcZWTwXc8wfP3DsXL3Z9QT0H+sYMcPZpOvXsvHpv9BKO6tIc2boF+WFqMeMcO5M5JYwg6/xETJEn6N2i8ohh1eX/sFac5eaqIqroW4obcytNPP0BnTzWBPQaQFGDmxP5jnK6y0G/iLJ5/YCzeOg1xfYYQSQUHD3Z8zyfP5qkpg9Bjpa6oCrcuvblscCJugEtgAgNTgik6uJtDabk0usRz85Q7GBDri72hgINZDfQaNoxuYWcP56HCt3MfUjoJso4c53RFE1GX3c7zT0wh0gOaik9wsELDiJHDifRsYc/uvSj9bmHWtcm/HB9MaWTfugOEjbiVO65M4uxYROvdiYGpnak6dZST+WUQ1JdZc//O6HhPQEVErxEMSXDhVMYJikqqUUIHMHPuXK7t7g36CEZf3h9VTQFpuaepblYz7LbHeOHB0b+oDjsff8rAg46KXdyw9gV2tTYQFzqNdbdMJfI8hhkxVO7jqQ3zWNFcjwOFzgFX8OoVM7k8KhAw8vnKqUwvKcBb34X54z/m+rgLGbNFQmnggztu5lv3CSx7bxrBcmiYP5CZtc/dwWvHerL0mznE6eVwy5IkSb+nP6UNT1XNCUotjTjR0Te8M6HnUfLSVr7nrGDHSefAK3lr7NyOYAfAi67hPXFTqWix17O9quJ3PYf/l9QB3PbKqzx8VQ+spt+py790Tk6LieBLJvPWW/fKYEeSJOkP8Ke04alrbcZhtwFxdA2J+o/nCmop382c715mZUsDCgrxgRN4Z+wTDAr/Zdl8dGgc3YH9DoUGYy3Q5fc6hf+3PMNTGB9Ox+Qp0h9F4+rPoLHj/upsSJIkXbT+hBIeBaPdil1RIfDAw/1XbXcM1WQXF2M59840n9nJk9+9xMqWBpw46RI0gffGPc6g8N+2AXL38MYfFUI4sNta/mGa0nn4M+ZW+/9MXl9JkqQ/1J8Q8Ij2yUA7/n02i6GMT7fP5ZrVc1h4Iv83Izwaz+zgie9f5uuWRpwqhS7B1/L22DkMCPtHEzWpfvpToPymO54kSZIkSf8//QkBjwYvFz06tQBhxWL5uSN9Re5q5p86SLUjn9d3vsB7GcU/rWs4s52Z37/CKkMTikohMfhaFoybzYCwf9xy1mpuxYhAqDS4uvjg/oeelyRJkiRJ/yv+lEbLAe6eaLQ6VOpSCmrK6Bj2hYhu1zIj8VL8UGNz5PLSjhf5KLuI2pLdPPX9q6w2NKKoFLoF/413x86mX8g/7097pqaEbMBVo8HTPfCfbitJkiRJ0v8ff0rAExHci3C9HxqsHKsupr5j5F69dxRTrniGF7v2x1OA3ZnFvO2Pc8uGl9jQ1oKCoFvIDbwzdjb9Q/7ViEMmTleexCAEPjpfRoRG/ovt/xUbpen72LH9EGVN/3h4R1tzFZX1bf9RyqbqfE7kFGK9gHbA5oZS6ppaz1pip6G6iiaj7d9Ow2k1Ultcxy/3UDDWlVNrcPyDvf4FazMllQ3YnOe3+/8Ucw1pe7ex73AObf+k/tRUX0pdc+s/3uA37JTnZHKq9LdTiP77rNRVVmEw/fw5Km11nEzPoNZ0AclKkiT9j/pTAh6XsGQu9/JBg4ayuu3srzgrQPAIY9IVz/Ji4gC8FCcmWznZNiMWp4OksBtZMG4G/UL+dWcyZ00aG2sqUKvA3b0/fSO9zz/DTiMZG5ayK6OC1roitn27nKMl535hNef8wLa0MyCUc8wyK35eJs6aeKC1kdomM4qlnh2HjpFf70AIQcmB3WQW1vyiQ5TzHC9SRUDdiTXsyyw+q52SgaPb95BT2NI+bcW/wVxfyJ4VR2hF8PP0TXYKDm5gb77xn+6rnDNjCjSd4ssdaTSf1YtdnDU3lPMc+51j6qj2tH5D/Ot2WcL5b7bdEv/88/oXnA2nWL38OwqrmqjJO8iaL7dT9w9izepjq9ifU44Q5z6n394jgpb6eoxmJ0pjIScO7qDWIRC2arYcOE5Ro+MX+5z7PJo4uHUvBWVn3bd2E421tbT+0+HZlZ8/D3s1+384Rp3Bfs7rIs7xGZ1rmSRJ0n+DP2ekZY0XLsY81pXn0+ZopsneiWu7dvm5e7rOk17R/QgyFLGnthiD007P8Im8O3YmKb+eh/6cFHbtf5cFZfmYhCsju01hcmLUeU8t4TSXsuWTdC559B4G904mykeNcPFHby0lPauFiEg/WspzySlW8NOcIaPEhL02n8z8WlyDI/DRm8jZd4Ky0jwyThQCgtLMvRzOrCYkOgpvnQ2zcEdTeZy3P1tFk8mD2BDY+fH7bC9pIyS2B8Haeo7u2k56Rj5GjT+hgR5gqiVt1w9kFjRRU5aJJbAn3aODOppqWynMzKehuZnaslMU1aqJCNaTd/wQjaowAr011GYfp7DSSmCoH2rA3lZLzv5izO5N5B05hcM9iEBfN2ryj9Li24s4Rw5p1VoiAj1oOH2I3GYvwv1VFKYd4PCBY5TVK4REBKPT2Cg5uZ8Dh3Jpqionrc2Hy3sGU5x1gqyD6dSa9fi7tZKxfy/pJ/NotLoTHOqDxlzPiT3bOJFbg7GuiHrFhxBfV2pOH2P/rsMUnjHiHx6Km1JPdloa+fnFZJ7IwukeQqCvnl/eoYK28nyO7N1LVl4FusAQPFuLyco/g1dYGKqKdLLKWvB0caE4fR/5p4vITDsFvhEEeOlorc1n7w97qKioobS2GZXWDx/PfxxoG7O/Y0NZGA/ccQ3de/XEQxhwCwzDmPMDZ+zBBHm7UJ62lVp9Z/S1h8mrcdJaXkp2US3eERF4qhs4diiT2sIs0jLLQLFReGIfx/NNhMdEoLPYcHPxoD5rFZ9+vQOzSxeCW4/x9mfraW51o3vvWKxlOezbsZf8ghrcg8PwdtNiqDzFnm2HqKoqp7jQTGRSIqH+7VXBKpxY7QoeHl40ntpFi0dnfFXN5B3fj80vDhdjEYd37SU7pxS7lz+Okj18sHANjWo90fGd8ei4HIbTJziZl09B+glOlVsIjgzDVeOgLPswB/YcpaTaRninQGqyT1BS70JIMKT98APlIpwI/1bSjxzD5haJj9ufNpWfJEnSnzd5aM+k8Vzp6YVFZed48Zcszan95QZuwdw66mnmJqQyIOwm3hk7k5Sgf2+YoJbC73kv7yhN2PHW9+fWHilcyKDAGtcguqf6ceTLL1m9YTuWgGQSIj1oqysl82QlAIbaEnJy6xAqJ3n5RXjG9iPeo4otX+/B4DSTtXEXlapOJHgU8+HyzRDTh6CGg2xJq8PZWMTx7ELc/COI69KVuIRY/PwCiIiKo1tidzoF2Ti0cTNV+gQu7RdL1qZvyK+v4/imdWQ0etKzSwCNlXUYrdqzPkAt6uZyiitsJPbugZK7hR3pxZjrqslKPw2ilePHj1Np8/4pENRqbdRU59Hi0onkrh7s+34NJ+vtuOu0qDUaLBWZZJXWt59v6Unyag00pe1kb46J3kMH4l66k3XHSmnO2st3uwrp1Ks7buZaDE1m9Dobeft2k9fsTmxsCKbaAmrU4Qwa2pvyHzaRX93Iia3rOV7tRq9u4RTvW82R4iYMpcfZuDWLkN6XEGnLZsXm45hamzm+eydV7jEkBbeweeMmyn895oBSyXdLt6HEDSIlAmqrDZjqi8g7nY0JsNefIq+4BIupnsM7N9MSFE+CZx07Nm6lsbmZXd+spzG0O/EhZrZu3kZuy891ckJxYG1tw3FWMYdbRAox2lKWfLmCLfvyiUjpQ4Aeak7vp7CjirMmfy+lzQK1UCjILycgMYVI8tmw8gRWZwsntu+n0asLneyZfPb1Tty79kSfv5WDRUVUniwgr8CAX2wC8QmxxMVHEhAaRnRCFxKSu+JZf5Lt247h23MgSQG1bNhwhMaaQras/x5TeDeiAwRl1TXYNGd9hyz15GSlU9VkoiJvPxUmwNFC8anD1LY6SV+zguqAfqQm+XCmoh7P4E7ExieS2CUer7O+UC1Fu9l9/AxRfVNQMr9je3YNzXm72bS7iJj+lxDUcJjlu7OwtVRRlJ2B0Wgh7ZtlHCwppbWsgsITBeB23jPdSZIknZc/bfJQnV9vJqeMYtfuVZTbi3l771t09n+K4WGeP2/kFsKdY+Zxpd2bYJ9/74Fob0jn5V2L2W824VT8GdvjbwwLvcD+WVo/Lpk4Gb/D+ygur2LTV5+SdPnf6O7mgkbbni+1RotWBU40xPYbQnJ8GESPpDz/Y/Iak/Bxj6FLvy7ENtbgUq+mV1wUbY3R5BtMKAoItQZv/xACIjsRFhONXq8iMDQcVUIX/DS1bM8qQVdmoeGUlpbGUuoKi8myBNFv+AjCw1VcNiCRIzpr+0zaADhx6kLpe0kqYWEhhI3qwotHDTzYM5xTGaWczgOzXU+fXj/PUG+3QUhUTwb0iSeYKOKLayjJLCfRVdteeqLWoNW0p67RuqJ3N5N3IJeKciubLeXYGuup9isjoaCFbl0GkxwbDR6XEr7djM1mRe3emYHDBxDsrwf3ZKKqD7Lp6/0UVjUTU19KWpsPPYaOJLKTmkH9u5Hm1UTh0WpCwvvRO74TxAxh/6enqK9W4RmXSI8eMcS62BDFGdQ1OekUdtY9ovIlvosbP2z8GkPf4YwcFgZ5x1GrNagAtUaDRqPCabcQENeZpB4xREU2kWnM4VR+CU5zImNTE/EkhOTTDbQ5fg547I05fL/yOD1uvpMuHZMFu4T3YtKtQRw4eJK60kMsyy1gzKTxuOq0aNQd10ynRYWCotLQddAwEmNCIHQUpe9tp8yQindgAkm94gh0jyZOG0pSdGcCkvWkWVtxKmpUGi2+IWF0Cq8gIs4TnT0U/8goortFYMk9SF7+SaqEHXd7PaVtakryzOi84xg2IB4ffOiTZkdlPbv+SoVarUalUqHWaFGpAZUGrVaNSquiU+dO7N+xih29Uhk1ogteumJCw2PoHBuN/uyvo0YQn9KH2IhYvAd0YqulgrwT9cR2SaVbTCcIGsS+JZX4XxWGsbqEo5klhPe5jCZHBcdynShhA4j8RyNLSJIk/UH+vDJllZr+PW9jWnQiWuGkumUHsze9z76qXzX4dfcn2Offi8Ns9dm8sfFFPq+vwY5CUtjVPNp3KLoLPCunqZ7TOQ0kpA7jir/dzIAIHacPF2HTCBwdLY2VNgMGRUGlKLTUN7bvKEwY7Xo8dKAIgdMOit0BCJyA3eFApf65IkZx2rFZ7Gg66vbsVgsCDaBG5xHB4LHXc+PEG7n+tqn0iPdH1daI2dLeRqKt2Yj1F21G1GBrptHQXvThNJrR2wU+CUmEtlaxZ+dO7BGXEnNWRze1WqG1rQVz+x44La24urn91H5GcdgwO9vfdGajAbtNoNW4kZA6khsmTuSGibdze2p3XHVmGs0dn6PJSJvJAio1qAROmwLY2PvRGqq0Xbjm1utIDvcBtRY3m4EWY/vRmxoMWOwuuLoKjJb2ZdjbQHGi0WpQOR047IBT4FRpftvaRlETNWgc90y9nQTzPt5edRCDVYXNocITEBYLpjYVarUKoTiw2wEnCJULLjqwORppEQAmmhqMaM76nHS+CYy46WqizmoW1lqRR6kpiEGXj+HqW28gxJ5OdoUTleLAoWq/yK3NdhRFBYpCQ33zT+dk1LrgrgGF9nvE7nCgEU4cgN0hUKnUP1XXKQ4bVoeCiwpQbFgtdjQaQKXBP64PV11/EzfceBt3XXcpEb4utLaZaW+mbKPZ0IJTfa4vg8Bqs6N2AbQ2DE1OFKfAp+soJt83iT5e5Xz21v+1d+eBUdR3H8ffM3tkd7PJ5r4gCYSEMyEEkEMEUVHBC5GCtmh9arVqVaxX8Spq1Xpf9Wx9bKuPtVU86gFaxYKAFAtyhiuEkDvZzWazm+y9OzvPH6AF7aUQoun39WfI/Oa7y2bnM7/5HUvpjsWJh+Ooxi+3EY8fCFK6CTBiNmt0hw8M3Ir4IR7GWFDGoJ4utq1+n+Qzz2FIazPbtmwka2zZUfziEUKI/Y5aDw8AyUVcdNL17Hj7ZzzvdlLnfoMfv9nBoulXsGB4yVdqqqn2Pe776CmWuNuIKnHyU0/irpMuYkTaEagzEWbnuy/zweo07Gadjm6FyWeVkOZoQW17lcee2YU97CKcNxyzAYJ1n/LK71vxuduxDpxJaRrsjmj7Bx/rCeIHBurqiQSJhA66hhaLEbNlMFRvYcXLb1Jw6WyKBtl5ftkSHCnzmVeRycoVb9OcrOCPZXDm907ijKGpvPHK49QVFEK9D/O05IMuHApqUpQ9a9/ktVYbbS0+jj1zIqqSzrhhCu+82MiC7ww55GWqBiOxrgY+ePkVTJ2tBCyFnFNegHtFhFgCLANL8P32JZ5sGIrZ3UJSRhojZ5ZTu3Qdb/5pOxFvhKGnnssxx49iy8vv8syvNpGjOjHr47EoOlpc+3zRSUemkY2frqLLlYqzzUtmchGzJvhZueZFluwqJLTHjZplo+zYkez442s889wmTF4f9vFzyMqMEovFDyxnoKNp2pd3utACbF6+lGYtCWsgTHppGtb8LAx/+T2PP/MiWT27iBcPRCWx/3gAXSMWiZFSWMrYY3fz5+f+SF5KhGZPmIEHBQXFaCUt69AuCc3fwDsvvYElqwBjvJt40ghOzzNi6Chlx+tP0rK5BL2hh2EGFYOaoGPXGl5+sR6vqw1b5XwKkqNEYgcGHycO+oxoGloiQSKhEY/FMSQPhM53eOX19Vx29hCGa+/y3vPvc/53x1JS8y7L//QG5lgP5qLjOXvyKAZs38LzjzxL4QBo7NKoOii4oaooJDDY7OSkZfDq00+wI8eEz5egzKjRuGYpa30WbFoXjqwqVEMm2eoeXnt9KfPmnU7ugbdA1zQS6oFQnIgSCloZfuIIti9ZyrPPfYze5SV38tnYDKmMLFV5aWOCM/MzseT7ebEmjfkDju7XjhBCwFHaLf2LQs2ruOHdB3ipsxVdVUgxF3LyoNNYMGYm43JzcVj/8RT0RLgHp3sXf9r8Oi/WrmV3NEBcT1CYegJ3n/IzzhpyJNLOfjFfM9Xb6gloCulFQxk1OBvQ6WrawY7GHnILi8m0p5NqC9LpDdG5rwWfwc7IsSNJNcbwNPmwFWSRFPfR1KNQmJWK1tOBJ5FKtjlERxAyM9PQPY3saghQOHoEDr2b3TvrsQ4YQVFGlD2bqnH7Y6QNGsnwwgwUItRv20JzdxKDBmWTkpmNw/LZ4Io4vi4/wa42nM4OyBpKRVkeaiKKa+1rPLkjm5t+NIODL9taLEx3axfeUDMtbpXikZUUZhgJeNoJJ2WTmazQvnsTezxGiguzSE7PJTPZSGddNTVtHtSUgVSMKMFmgp7mPWyrdZJRWERmZi7ZqQoedw/mFAd2qxGibrZuqSGgp5CflUbWwIEkxbpo3LOHbj2Z7m1v4Sw+nXnHVxJ21lG9u5F4ShGVlSXYCOLuDGBLz8amhmjpDOLfvYKXlm9DV1QiQQvjTp7LGRUqO2pbiJuzKa8Yjt0CPS21bGvwkp6TRV5eBnaTCX+PF2tmPhYtgLsriD0zg0RHMzVNLgxKmDVbayk8dj5nDEv+l5+Rzvpt7G7oQjNYKSmvYkCaEbQwddVbaI2lUTLASkpWEdZwOz5/hOb6NkJJGVSOGYpVCdPhDOLIycAY7sQdNpOdkULU20rQ7MAUjBI3WEhLt+JtrmWfz8zoUUUk3A3sagoxqGo4yd4WNu+qJ6inUDpiGHlpSeh+F9VbdhJNy2dAVh6ZDhsmy/6AEWv6Gy+//ylj5l5OeVIX27btIGTJZ1CBhZSMAgw9TVRvayRmtDN4dDk5NgMhdx017TFKhg37fBxPxNuKX3GQ6Ugm1uOiK24nJ92Gv7mG7XVtKOmDqawoIgkg0k29W6NwQDpK0ENjt5FBeYcxg1IIIb6mPgk8ANH2zfzyoyd4at+ndKoqRt2IxZxBhWMsJwyuojQnHfOBRz16QqPLtY+t9Z+w0lNDUyxMDA1NszCxcA4/O/5yphXa/80Z/zv1tFbzl9c3kDfrLCYOyejrcg7RsHYZG+sDZOdY2FvrZ+zpp1NR+J9dDPVoAG8gCgroCYUkazLJ1q85VD3WxSfvL6MxkUdO2EmblskJc04hN6k/awQtRAAAFsdJREFU7W+lU79yCes6s5l1zgk4+tNLE0KI/0CfBR4Awm4+2vw6T258g48DnYS1ODEOrCuig4rK/rVX9APbZCkYMGBSTWTbhnNuxQX8cNyJDJSs80/oRPzdhBU7juRv5qyYoGsfdW0h8ktHkJncl1dhDVftTjpiqZQOL6JfZR0AXScSDGCw2vkHQ3KEEKLf69vAc4C/u5H12z9kyd7VbPV34Qt48UUDdOsR4qgkK1bsJjtpyenkJhdxyuDTObO8iiHpjqNWoxBCCCG+vb4RgedgflcD1a01NPjbadR8hDCSZ8iiILmAoXnllOWn0t9uvoUQQgjRu75xgUcIIYQQ4kiTp/lCCCGE6Pck8AghhBCi35PAI4QQQoh+TwKPEEIIIfo9CTxCCCGE6Pck8AghhBCi35PAI4QQQoh+TwKPEEIIIfo9CTxCCCGE6Pck8AghhBCi35PAI4QQQoh+TwKPEEIIIfo9CTxCCCGE6Pck8AghhBCi35PAI4QQQoh+TwKPEEIIIfo9CTxCCCGE6Pck8AghhBCi3zP2dQGxWJxoLEY8HkfX9b4uR4hvFEVRMBqNJJlNGI19/ucqhBDfWn32Ddrl68br7UY7EHQSABJ4hPgCBVUBRVUxGg2kOVJJc6T2dVFCCPGtc9QDj6+7B2eHG3RISbFjT07HZrVgMBiOdilCfCtocY1gOIw/EMDV4abD7SE3O4vUVHtflyaEEN8ain7QcyRd12l3usnNzUJVlCN6Il3XaXN24PV1k52ZTkZ6moQcIb4iTdNwd3bR6fGSkeEgNycLhSP7tyqEEP3RUenh0XWdhqYWorEYpSXFmE2mo3FaIfodg8FAbk4WaWkO6hubiESiFA0sQDnCNyhCCNHfHJVZWs2t7cTjcYYMlrAjxJGQZDZROriYaCRKS7uzr8sRQohvvF4PPB1uD8FgmEFFhRhUmQUvxJFiMBgYVFyI3x+g09PV1+UIIcQ3Wq8mkFg8jsvdyYD8HIxGGa8jxJFmMhkpyMvF6eokHtf6uhwhhPjG6tXA0+H2YLNZsduTe/M0QvxXS02xY7Uk4fZ4+roUIYT4xuq1wJNIJPD6usnJyjy8hkItrHz9dTY1Bo5MYUIchri/nU/XbaDd/+U1o7qbqvlkUy3hxNGvKzs7gy6vDz0ha1kJIcQ/0muBx+8PYDQasVmth9dQdw0v3H8/71f7vnYTzate4Sdzrue9Ov/h1fIf8jTVsGljA7Gjcrb/jHfXO1w1+3re+KT9MFtK8P4vr+bqOx6jKfqfH7X19Qe4cuG1bOg8zNP/G7HW9dx56Tk8vXxPr7TfXfMXFt31FKv3+YFOtvy1GpcfQGfr0he5a/ErNEZ65dT/ktVqRVUN+IPBo39yIYT4Fui9wBMIYrNaOOzZsqoJu8OB1fz1S+1p2cWKd1bT1B0lEvLhdHUR1YFEBI+7A093BLQQ7s4uQrEE/o4GGtq7AYh626ipazsQXhL4PU7cgRiJoIe9tQ188fKiRdp589Hb+NH/PMS6Vi+xz264Ay527KyhreeL4yw0vB3tuLu62f8vOmG/hyanh/iB3+hoqqF6bzv65+cI0uly4gvvPyLg89DR6SWux/F5PHQHYvR0NtDo9H1+TKRrHyvf+oiats96ynRcjbup3vfFGT46nY217NhRT+iQn0doqtuDKxCkfedqVqzbSPdnL0UPULd9B42uz94NDb/HiTcUwe9up8Xpo6N+IyvWfIw7EMPVsA9XIM6hzXexZ9tOWr1fiIkRL3t3bWWf67O643R3ddIViBHobKLRuT8Iaz1t1Da00h3oZOPKt9nU+PdBvLoWxdvRTk9MI+xpY2+diy9yN+5ld00zh2Y4HVf9Lqpr6gkeeK324incfN2lTClW2PfRS1w592qeW7qRQDzBsBnnce31s8n7bCJivIfamp3Uu/7+KQn5PHh8fhKJCC1763D7v0Jq/BcMqorNYiEQkMAjhBD/SK+twxOORLEn23qr+a9ENVmwO1Jx2DS2L/1f7vlNkMWv3E4FO7n9lkcwT/oJD86J87M7/hdzxmDUDW/yMeO4YN4EWj56gbc/jfOd6+9m0Xnj+eCZH/NKcxn50WZWbaxlxMmXc+et5zMoZf+g7Lb1y/jD23+j3gMP3p/HYw/fTPK217jr7t+wvqUba14F5192FefPGMH+66LOnncf5ecfG1h8z90c42jjhcU/ZEPhFTx6xXT+/Os7eezVtfgVOyOPncuNiy4m3/kxd9xyP8OveoEfT81jxWP38GpzIXf+cj4fPHIvfw2lYKz7EE69lycvnYYCKAYzdocdi9UCdLP0ibt4/K1NhLFSMeMCFl01j4GGVl556iFeeHc70ZiZgWOms3DRNYzJdvHaQ3fz0B9Wk14xnSxnnLSMNCxmiLd/ysN3P8p71a0YLEXMvupaLj1tGO8/fQXv+8rw1zSQMeFCZhfnkG3aw7Kn7+SRlcuIFp3IDTdfz2mVObiq3+Pe+57ir7U92LOKOefK67n81HKcW97j0Yef4dP2bgzJA5n63eu4+Zx8fv/0z1nuyaRw+4cwZzE3nZjKgzffwvK2JI4ZXYLXkk2p9e8f7URPHc/+7Hpq7FXQvJVP9wSZcekibrpkBul08s7TD/P0q6vxhJMZMX0mV1+zkMr0NpY89Bgvrd6EPwbZFTNZdMNCSl1/5dHnt3CxKcSu3y5lb2gPLz15B+VjnyF7/fv85g2FwuNGYWpYz0P3PciyLU2Y04Yw67uX85Pzj2Xbn57gN2v8FBRH+fC1NZgqT2Px4huYVpJy2J9zk8lIONwH3UtCCPEt0Gs9PHEtjmr4Os3rrP3D/dzw8Dv7e1VM6v49ttT9F7DGFb/myl+8QNtXfl6koBp0epr3smVdHT1xIBFg27at7GzvgUSALatWs7EhiXk3LWaMZxlPv/QR0354N5dNifPYs39kV5uPrqYNfLChiaoLruGB62ZSvWQx9729/fOzZI6cxqwpw8l2TOIHF88nL7Sde6/7BesSE/nl00/w3aIGbrr1IdY0fNZ/YqRkWDENy1ezdrubuGszr/6xhaLBJbSsfoYrHl3FcZffz6/vXEDrn+/l5hfX4Q/62L1lHc1dEUDBs3sXW7e0ECGOc9Nalq/Yxpjv38d1Z1cd+h+sqFiMGnWrnmXRsxs5/rK7efjaM9j5yu08vHQ7Ib+fsJ7Ludffw50LT2Tbe0/x8KpdNH/4Bx544h2OueQBFv9oGgZPkGjcgCER580HbuLlXSlc9+D9XHmikadveYCVO5142zfzxrKdjD33Cq46fwKWUBRXZwAtfzJ3PHwzBbW/565fLaHN6+T5237Kh4GRPPzsE1xUEeKxq+/kg70evD4vqWO/wz333MfMdBe/WfwUNe4ALTVbWP7eJkZd/AsWzi7h1Tt+wjvOQu68/+fMGWHD64yjqAeNZYkH2bftYz6uizP/usXcOGcAf7r3et7e6afhg99yxyOvM/IHv+DpR36A941fcf+vltO860NufXIJ5uMu4977FjE120qPtwd/dwsfrV1PG4WcPX86+Uo+p867nIn56XTWbOVvaxtIBNp44fHbeWZzCrc9+Qw3nWLlmQdu5aWtXWjeXXzw0V+gbA733nkB4Xdf4fk3N3Ik+nlUg0pck5laQgjxj/Ra4Pn6y90rpKebWPG7xVzx2BpCJisWswmbLYn2Tb/jopt+TaeaifUr9E2pqgFFT5DQdRSjGYvNgskIGIxYrRaSjPtDlcHioHTiNI6dMouxQyxkDSzmxCkTOWnaOLRQEH84BIqBsvHHMef4cZyw4HyOqcjlk3XbP3/8ZM0opKQwA6u5kKryUix7N/Bup4HJ37+I8RWVzD3vdAZsrWXHnr8PZsmsOoN5lVE2r9/M1nVraBg5kRMnlVKz8o+YRk9jwbmTKT9uNtMmDObTv27EE9Ox2pJJMu9/E0wWCxaLCUXRSWjJlA0+jQvOnkpp7qG9BoqqQjTAtnVL8SZi7Fu7lDdXVpMwGVi/qxZDUgZlJTk0bviAZSs2EzVZiIY7qN20mzAncP5FM5g4ZQ5nnZiPSdWJeOpZ85GLRKSTlcveYlV9D9ZQM3vq2okrJoonTefC706hrCgdLRgiOSeXc743i0mTz+F/5lWxo2kfu2o+Yd3aZE6ffSGTy0cx+9yzKFL+woZ6PxkDRpKnO/nzB2+wvi2EyaDRE02gGi0MqJrF9+dOoyS9mw1ro4yb9j3OmDyeWfNPp3JQnHD0kBeOohgYN+14Tj5mHPMv/A4lBVFWbdlC9eqtRJVZXHzBcYyZOJ+zplrYV/0eoczJXDSrivp3nuKBZ98nUTiEguxkDKhYLWZM1gyGDC/CpiczpHwiOXYLimok2WEn0LaHTds2MH7e/3DqmNGcet5cMkxBNmytI24ykZGfxYzTj2fyGXOYXp5MNBBEhhoLIUTv6rVHWkajEe1rrgsyYuY1LDGpLLjpVi5vmoJqMBJ9816WrPsL+XPv4qnrZ5Lyr/KUFmTN64/zV20yC8+bRizciTdhx2EzQyJGLB4gGIVYtIdIJI71s7ZUBdCAMDFdQVV0wkA4msCgqqiKgkE14Gx30RaFsh4Xvm4ftozUg+JdjFAoQlyLEgFwZJKJhrfZCQzE1dxEW4qF5BTL3+s1D2TGzGO4bvnrvLB+H2PHnMfYPDPrknPwuT10dMGQdDedLhem/DSSVJ1YLE4oGEOPh+gJhUh8FjEVBYOi8oURMvvpOopqxGazQ3IS46ZNZ2hKjDHjp5I+eiK17/+Wy3+6jNl33MIplQ7WfLoZHRMWaxJxrZ52J1Doo6kthKYrqBYLyQYDqdnDOHHqCZgjxzDp+CTGVmTx57diqAaFWBww7g+doXCI5tYgZJlwtjhJt1SRnpZNemoPTpcTGEFHcyu+wACy1XZeuOdiXvadyc8XziKnZR876xLoB95oxbj/NSYlzNisEfZ1tRIBou1OOnwK6V+I8qrBQGtbB0FAc7kI+GOkpWWQnpmMnmimvROGZbpoaohhzEojNaeEi2+4hTF7XXTVrOSuK65i9/2/58axNgwKoGtEQ2Gi8TixaPhAUaAnEiTZUklNTmNT8/4B4tG2JgLRGFaHHaNPR1UUtBigaehmFcPX6gn9Mi2uYTIe9f2AhRDiW6HXvh2tSUlEY19/ntLgk67mxfst/PDah6hu8aNsa+Ksn9zHkwtPJunfHawaiXvqeeSuF/lk6QRCe9dgn3ctVXlpREaWk6nezRVzz2XyaCuuph5SYxokYni9XnqCUUAn1O3BGwugA/GwH19XiJimY7DYiO9dwSO3BvBWr+FvHYP4+exJ/H1ZRTN5BXn4W97irnsquefaeVw7+7fc/uxPuar+GOo+fItR8y9nWvnB0/UVKqbNpOC5S3i+cwi3/+g0LEDlWVdy4p9+yqIrF1Jlb2PFTgeXLzyB4kFuygan8fzN36P5vckE9u4laC0nkUgQ9HnxaiG+ODM6EQvR1eXBrycx/tRLOP7/7mXVxxuIpnn4aEMjF4yYQr7JhCEYpqfLSX3rXpoa3dBjoWrmLCpeXsqNCxawemouGzfW4isei5oygLMvm867z21i1YYCrM0f87fIJCqOq0ALuumKB9EOdF1osQjdjbv5w4O3sN7cyNJlPZxx8wwqyiYw75IJXPH7O7jKtYyWdcswnHwVM4bn8AYJQlE/HS3N7GjfizMyhERcI9DjwxMP7h/kbRnOvEsnctHDD/O90FYGmerZ4e5hUOzQyGcyW2hb8w63LdpM9eo/4007hfMmD6dy6FzK37mBmy67kqnZrbzZlsUPrl5ARutqLv3p/YRKTuaUQg1LWh4FaRb0qJ9Oj49gVMeYN5C8tBZ+9/idVIy4DS0WxuPsQMsbxXfOmc+H9/yCC9lIYuty0oqnMX9qKT1PuPF4fUQ1gDh+bxc9wegR6eGJxeJYLP/2r0MIIf4rGW6//fbbD/6BPxDEbrcd9maEigJuj5eMjLSv3Vb6oPFMG2Zk7ZYWJl10N7+8+mT+o0nuioFB5RMZlW+iu0dj8OS53HjN+Qy2G3EMGkppcQaGpExOOO0cTh5bzrCKcsoHpaOaMzlmwgRGDXSgKEaKRh/LuJElmBSFlIIRnDC+mJ3v/YrGgjmcP3kQUUMO869axPmTBx50cgMDhw4mI1NFMWcxeuw4Jk+fxgBjD22uCGXTF3Dj1RcyJPXQu3pzloPq5e9SHazk1lvnk2sGa3YZx40vIeRsIWQqZN6Vi7j4hMGo1lxGDR2CzWCmeNLJzD1tEsPKhlNZOQSb0cqQqvFUjR5waJpVFJJSChk3bRzDho7m2LG5tNfupjVgY9KZ3+fs44aRX1JKcYHG3l1OCkcdy+TpE6kcPpLxY8YxoXwwiZCPtFEzWTD7GMqGjmHMqBGUjp3CqLQwNbvqiKQOY/73z2VSaSboBgaOmsrEEUUkqfs3kC2sOJbTjh9LqDPA+HMu5coLZ5BqUikdfyxl9hCN7QGKJ83hxusupCw3g2FDR2N276Mx4WDqjBOZOGYklVUjcdiSKRs5jkmjBmJEZVDVZMrSFbp1B1POmMesSYMorZjGsPxUAPRQO0tfep60Ey5kepkDQ3oFly26luOKbBgySphaVUrY3UpAHcD8H1/DJacOx+QoZGiOCVdTHa09ycy8fCEXn12JLa5hyihm6oQqiopKKB3mIB5TGVxeyZCcNLIGD2fc5FGMqJpARb4ZZ2snjmEncc2iq5mQb0FLQNbgSiaOryLdpKAYbJSNnciowZmH9XxZS2g4O9zkZGVikv3qhBDiSxRd1z+/udR1nXanm9zcLNTDDDy6rrO7to6CvFxSU+yH0VKC1tY27LkDSO3r3SkSHTy0YAT/Z1vMyucWknaEmo15dvD0bQ/ywqrNjL/kcZ64csrR2cb+v4Tm3shls6binfcyS356Rl+X0yu8vm6cHW6GDik5/KUghBCiH+q166qiKGSkp+Hq6DzMwKNSUDDgiNV1WBJWxsy6jLixAkUDjlAAiwUDBMzpzF34C350oYSdI02xZDHj3CsJjC7iwJCifkVHp8PtITM9TcKOEEL8E73WwwOgJRLU1NaRl5NNeprjsNsTQnyZ29OF2+1haOlgVLVXt8cTQohvrV79djSoKgW5ObQ73bIgmhC9IBQK4+ropCAvV8KOEEL8C73+DelwpJKR7mBfYxOR6JFZRl8IAeFIhH0NzWRlppOaejiPjYUQov87KreEuTlZOFJTqatvxC97/Qhx2Hr8Aerqm0hPd5CTlfnvDxBCiP9yR238ZkFeDpYkMw1NLaTYk8nJypQ1Q4T4ikKhMC53J4FAkPz8XNIdqX1dkhBCfCv06qDlfyQcjuDscBMMh7GYzaTY7diTbSQlmQ977R8h+ptEQicajeIPBOn2+4lGotisVnJzskhKMvd1eUII8a1x1APPZ4KhEL5uP+FQmFg8TjyukdC/uD6wEP/dVEXFaDBgMpuwWpJwpKZgtVr+/YFCCCEO0WdLktisVmxWK7quo2kaiYTOQdlLCMH+9axUVcFgMEgPqBBCHIY+X4NNURSMsuGhEEIIIXqRLNwhhBBCiH5PAo8QQggh+j0JPEIIIYTo9yTwCCGEEKLfk8AjhBBCiH7vS4FHURSZHi6EEEKIfuVLgcdgUInH431RixBCCCFErzgk8Hy2Jk4kLLuaCyGEEKL/+FIPT1KSmVA40he1CCGEEEL0ii8FHktSEoqiEAyG+6IeIYQQQogj7kuBR1UVkm1WegIBEgkZvCyEEEKIbzn9n0xLT062YjYa8Xh9R7skIYQQQogjyuvrRtFlDroQQggh+rn/BxRDPlaqKE8DAAAAAElFTkSuQmCC"
    }
   },
   "cell_type": "markdown",
   "id": "edf3bde8",
   "metadata": {
    "papermill": {
     "duration": 0.039074,
     "end_time": "2022-08-11T14:22:00.087878",
     "exception": false,
     "start_time": "2022-08-11T14:22:00.048804",
     "status": "completed"
    },
    "tags": []
   },
   "source": [
    "![image.png](attachment:30810196-d073-4af7-8e04-5d38faab6706.png)"
   ]
  },
  {
   "attachments": {
    "239fc1f0-9e23-4954-b0e4-fd366216a9ca.png": {
     "image/png": "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"
    },
    "2cc38fc8-2a79-4f3b-bbc2-1b402ea127bd.png": {
     "image/png": "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"
    },
    "802083db-9006-47c0-9c6c-128309dfe9a8.png": {
     "image/png": "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"
    }
   },
   "cell_type": "markdown",
   "id": "5d7d2832",
   "metadata": {
    "papermill": {
     "duration": 0.040041,
     "end_time": "2022-08-11T14:22:00.167699",
     "exception": false,
     "start_time": "2022-08-11T14:22:00.127658",
     "status": "completed"
    },
    "tags": []
   },
   "source": [
    "![image.png](attachment:239fc1f0-9e23-4954-b0e4-fd366216a9ca.png)"
   ]
  },
  {
   "cell_type": "markdown",
   "id": "ae0f9677",
   "metadata": {
    "papermill": {
     "duration": 0.042083,
     "end_time": "2022-08-11T14:22:00.250200",
     "exception": false,
     "start_time": "2022-08-11T14:22:00.208117",
     "status": "completed"
    },
    "tags": []
   },
  }
 ],
 "metadata": {
  "kernelspec": {
   "display_name": "Python 3",
   "language": "python",
   "name": "python3"
  },
  "language_info": {
   "codemirror_mode": {
    "name": "ipython",
    "version": 3
   },
   "file_extension": ".py",
   "mimetype": "text/x-python",
   "name": "python",
   "nbconvert_exporter": "python",
   "pygments_lexer": "ipython3",
   "version": "3.7.12"
  },
  "papermill": {
   "default_parameters": {},
   "duration": 82.642886,
   "end_time": "2022-08-11T14:22:02.913809",
   "environment_variables": {},
   "exception": null,
   "input_path": "__notebook__.ipynb",
   "output_path": "__notebook__.ipynb",
   "parameters": {},
   "start_time": "2022-08-11T14:20:40.270923",
   "version": "2.3.4"
  }
 },
 "nbformat": 4,
 "nbformat_minor": 5
}
